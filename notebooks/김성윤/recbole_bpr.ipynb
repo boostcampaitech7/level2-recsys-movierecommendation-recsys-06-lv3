{
 "cells": [
  {
   "cell_type": "code",
   "execution_count": 1,
   "metadata": {},
   "outputs": [],
   "source": [
    "import numpy as np\n",
    "import pandas as pd\n",
    "import torch\n",
    "\n",
    "from recbole.quick_start import run_recbole, load_data_and_model\n",
    "from recbole.utils import get_model\n",
    "from recbole.data import Interaction\n",
    "from tqdm.notebook import tqdm_notebook"
   ]
  },
  {
   "cell_type": "markdown",
   "metadata": {},
   "source": [
    "### Train & Valid"
   ]
  },
  {
   "cell_type": "code",
   "execution_count": 2,
   "metadata": {},
   "outputs": [
    {
     "name": "stderr",
     "output_type": "stream",
     "text": [
      "26 Nov 06:10    INFO  ['/opt/conda/lib/python3.10/site-packages/ipykernel_launcher.py', '--f=/data/ephemeral/home/.local/share/jupyter/runtime/kernel-v38b269d03a5abcfd79b2921855820f1ff5cb015a7.json']\n",
      "26 Nov 06:10    INFO  \n",
      "General Hyper Parameters:\n",
      "gpu_id = 0\n",
      "use_gpu = True\n",
      "seed = 2020\n",
      "state = INFO\n",
      "reproducibility = True\n",
      "data_path = ../data/train/train_ratings\n",
      "checkpoint_dir = saved\n",
      "show_progress = True\n",
      "save_dataset = False\n",
      "dataset_save_path = None\n",
      "save_dataloaders = False\n",
      "dataloaders_save_path = None\n",
      "log_wandb = False\n",
      "\n",
      "Training Hyper Parameters:\n",
      "epochs = 10\n",
      "train_batch_size = 256\n",
      "learner = adam\n",
      "learning_rate = 0.001\n",
      "train_neg_sample_args = {'uniform': 1, 'sample_num': 10, 'distribution': 'uniform', 'alpha': 1.0, 'dynamic': False, 'candidate_num': 0}\n",
      "eval_step = 1\n",
      "stopping_step = 10\n",
      "clip_grad_norm = None\n",
      "weight_decay = 0.0\n",
      "loss_decimal_place = 4\n",
      "\n",
      "Evaluation Hyper Parameters:\n",
      "eval_args = {'split': {'RS': [0.8, 0.1, 0.1]}, 'order': 'RO', 'group_by': 'user', 'mode': {'valid': 'full', 'test': 'full'}}\n",
      "repeatable = False\n",
      "metrics = ['mrr', 'recall', 'precision']\n",
      "topk = [10]\n",
      "valid_metric = Recall@10\n",
      "valid_metric_bigger = True\n",
      "eval_batch_size = 256\n",
      "metric_decimal_place = 4\n",
      "\n",
      "Dataset Hyper Parameters:\n",
      "field_separator = \t\n",
      "seq_separator =  \n",
      "USER_ID_FIELD = user_id\n",
      "ITEM_ID_FIELD = item_id\n",
      "RATING_FIELD = rating\n",
      "TIME_FIELD = timestamp\n",
      "seq_len = None\n",
      "LABEL_FIELD = label\n",
      "threshold = None\n",
      "NEG_PREFIX = neg_\n",
      "load_col = {'inter': ['user_id', 'item_id']}\n",
      "unload_col = None\n",
      "unused_col = None\n",
      "additional_feat_suffix = None\n",
      "rm_dup_inter = None\n",
      "val_interval = None\n",
      "filter_inter_by_user_or_item = True\n",
      "user_inter_num_interval = [0,inf)\n",
      "item_inter_num_interval = [0,inf)\n",
      "alias_of_user_id = None\n",
      "alias_of_item_id = None\n",
      "alias_of_entity_id = None\n",
      "alias_of_relation_id = None\n",
      "preload_weight = None\n",
      "normalize_field = None\n",
      "normalize_all = None\n",
      "ITEM_LIST_LENGTH_FIELD = item_length\n",
      "LIST_SUFFIX = _list\n",
      "MAX_ITEM_LIST_LENGTH = 50\n",
      "POSITION_FIELD = position_id\n",
      "HEAD_ENTITY_ID_FIELD = head_id\n",
      "TAIL_ENTITY_ID_FIELD = tail_id\n",
      "RELATION_ID_FIELD = relation_id\n",
      "ENTITY_ID_FIELD = entity_id\n",
      "benchmark_filename = None\n",
      "\n",
      "Other Hyper Parameters: \n",
      "worker = 0\n",
      "wandb_project = recbole\n",
      "shuffle = True\n",
      "require_pow = False\n",
      "enable_amp = False\n",
      "enable_scaler = False\n",
      "transform = None\n",
      "embedding_size = 64\n",
      "numerical_features = []\n",
      "discretization = None\n",
      "kg_reverse_r = False\n",
      "entity_kg_num_interval = [0,inf)\n",
      "relation_kg_num_interval = [0,inf)\n",
      "MODEL_TYPE = ModelType.GENERAL\n",
      "loss_type = BPR\n",
      "MODEL_INPUT_TYPE = InputType.PAIRWISE\n",
      "eval_type = EvaluatorType.RANKING\n",
      "single_spec = True\n",
      "local_rank = 0\n",
      "device = cuda\n",
      "valid_neg_sample_args = {'distribution': 'uniform', 'sample_num': 'none'}\n",
      "test_neg_sample_args = {'distribution': 'uniform', 'sample_num': 'none'}\n",
      "\n",
      "\n",
      "/opt/conda/lib/python3.10/site-packages/recbole/data/dataset/dataset.py:648: FutureWarning: A value is trying to be set on a copy of a DataFrame or Series through chained assignment using an inplace method.\n",
      "The behavior will change in pandas 3.0. This inplace method will never work because the intermediate object on which we are setting values always behaves as a copy.\n",
      "\n",
      "For example, when doing 'df[col].method(value, inplace=True)', try using 'df.method({col: value}, inplace=True)' or df[col] = df[col].method(value) instead, to perform the operation inplace on the original object.\n",
      "\n",
      "\n",
      "  feat[field].fillna(value=0, inplace=True)\n",
      "26 Nov 06:11    INFO  train_ratings\n",
      "The number of users: 31361\n",
      "Average actions of users: 164.36450892857144\n",
      "The number of items: 6808\n",
      "Average actions of items: 757.2309387395328\n",
      "The number of inters: 5154471\n",
      "The sparsity of the dataset: 97.58579218741939%\n",
      "Remain Fields: ['user_id', 'item_id']\n",
      "26 Nov 06:11    INFO  [Training]: train_batch_size = [256] train_neg_sample_args: [{'uniform': 1, 'sample_num': 10, 'distribution': 'uniform', 'alpha': 1.0, 'dynamic': False, 'candidate_num': 0}]\n",
      "26 Nov 06:11    INFO  [Evaluation]: eval_batch_size = [256] eval_args: [{'split': {'RS': [0.8, 0.1, 0.1]}, 'order': 'RO', 'group_by': 'user', 'mode': {'valid': 'full', 'test': 'full'}}]\n",
      "26 Nov 06:11    INFO  BPR(\n",
      "  (user_embedding): Embedding(31361, 64)\n",
      "  (item_embedding): Embedding(6808, 64)\n",
      "  (loss): BPRLoss()\n",
      ")\n",
      "Trainable parameters: 2442816\n",
      "26 Nov 06:11    INFO  FLOPs: 128.0\n"
     ]
    },
    {
     "data": {
      "application/vnd.jupyter.widget-view+json": {
       "model_id": "4beac9c4979e47c3b1f73a23500b6ca1",
       "version_major": 2,
       "version_minor": 0
      },
      "text/plain": [
       "\u001b[1;35mTrain     0\u001b[0m:   0%|                                                       | 0/166084 [00:00<?, ?it/s…"
      ]
     },
     "metadata": {},
     "output_type": "display_data"
    },
    {
     "name": "stderr",
     "output_type": "stream",
     "text": [
      "26 Nov 06:22    INFO  epoch 0 training [time: 649.10s, train loss: 41378.4862]\n"
     ]
    },
    {
     "data": {
      "application/vnd.jupyter.widget-view+json": {
       "model_id": "11c35ac41b2c4923afdd50114b5baa8b",
       "version_major": 2,
       "version_minor": 0
      },
      "text/plain": [
       "\u001b[1;35mEvaluate   \u001b[0m:   0%|                                                        | 0/31360 [00:00<?, ?it/s…"
      ]
     },
     "metadata": {},
     "output_type": "display_data"
    },
    {
     "name": "stderr",
     "output_type": "stream",
     "text": [
      "26 Nov 06:24    INFO  epoch 0 evaluating [time: 126.87s, valid_score: 0.114800]\n",
      "26 Nov 06:24    INFO  valid result: \n",
      "mrr@10 : 0.3652    recall@10 : 0.1148    precision@10 : 0.1476\n",
      "26 Nov 06:24    INFO  Saving current: saved/BPR-Nov-26-2024_06-11-39.pth\n"
     ]
    },
    {
     "data": {
      "application/vnd.jupyter.widget-view+json": {
       "model_id": "8da76f4c428d4f5695ad9559821280b0",
       "version_major": 2,
       "version_minor": 0
      },
      "text/plain": [
       "\u001b[1;35mTrain     1\u001b[0m:   0%|                                                       | 0/166084 [00:00<?, ?it/s…"
      ]
     },
     "metadata": {},
     "output_type": "display_data"
    },
    {
     "name": "stderr",
     "output_type": "stream",
     "text": [
      "26 Nov 06:35    INFO  epoch 1 training [time: 664.35s, train loss: 27750.1580]\n"
     ]
    },
    {
     "data": {
      "application/vnd.jupyter.widget-view+json": {
       "model_id": "0b1778370e7d47d2b0a4555ecf2593b7",
       "version_major": 2,
       "version_minor": 0
      },
      "text/plain": [
       "\u001b[1;35mEvaluate   \u001b[0m:   0%|                                                        | 0/31360 [00:00<?, ?it/s…"
      ]
     },
     "metadata": {},
     "output_type": "display_data"
    },
    {
     "name": "stderr",
     "output_type": "stream",
     "text": [
      "26 Nov 06:37    INFO  epoch 1 evaluating [time: 120.61s, valid_score: 0.122700]\n",
      "26 Nov 06:37    INFO  valid result: \n",
      "mrr@10 : 0.3789    recall@10 : 0.1227    precision@10 : 0.1547\n",
      "26 Nov 06:37    INFO  Saving current: saved/BPR-Nov-26-2024_06-11-39.pth\n"
     ]
    },
    {
     "data": {
      "application/vnd.jupyter.widget-view+json": {
       "model_id": "12ddfcbc73864593aeec6e090e0c0f7d",
       "version_major": 2,
       "version_minor": 0
      },
      "text/plain": [
       "\u001b[1;35mTrain     2\u001b[0m:   0%|                                                       | 0/166084 [00:00<?, ?it/s…"
      ]
     },
     "metadata": {},
     "output_type": "display_data"
    },
    {
     "name": "stderr",
     "output_type": "stream",
     "text": [
      "26 Nov 06:48    INFO  epoch 2 training [time: 649.17s, train loss: 24808.8691]\n"
     ]
    },
    {
     "data": {
      "application/vnd.jupyter.widget-view+json": {
       "model_id": "2ca994b611cd49c0a6e2ae47d7b3d20c",
       "version_major": 2,
       "version_minor": 0
      },
      "text/plain": [
       "\u001b[1;35mEvaluate   \u001b[0m:   0%|                                                        | 0/31360 [00:00<?, ?it/s…"
      ]
     },
     "metadata": {},
     "output_type": "display_data"
    },
    {
     "name": "stderr",
     "output_type": "stream",
     "text": [
      "26 Nov 06:50    INFO  epoch 2 evaluating [time: 139.29s, valid_score: 0.122200]\n",
      "26 Nov 06:50    INFO  valid result: \n",
      "mrr@10 : 0.3702    recall@10 : 0.1222    precision@10 : 0.1525\n"
     ]
    },
    {
     "data": {
      "application/vnd.jupyter.widget-view+json": {
       "model_id": "6bd51a06041b427d9e8a531abc3e38b5",
       "version_major": 2,
       "version_minor": 0
      },
      "text/plain": [
       "\u001b[1;35mTrain     3\u001b[0m:   0%|                                                       | 0/166084 [00:00<?, ?it/s…"
      ]
     },
     "metadata": {},
     "output_type": "display_data"
    },
    {
     "name": "stderr",
     "output_type": "stream",
     "text": [
      "26 Nov 07:02    INFO  epoch 3 training [time: 721.37s, train loss: 23519.9090]\n"
     ]
    },
    {
     "data": {
      "application/vnd.jupyter.widget-view+json": {
       "model_id": "d8dab05e85ee4eaa8a5e9ea3b15a291b",
       "version_major": 2,
       "version_minor": 0
      },
      "text/plain": [
       "\u001b[1;35mEvaluate   \u001b[0m:   0%|                                                        | 0/31360 [00:00<?, ?it/s…"
      ]
     },
     "metadata": {},
     "output_type": "display_data"
    },
    {
     "name": "stderr",
     "output_type": "stream",
     "text": [
      "26 Nov 07:05    INFO  epoch 3 evaluating [time: 140.33s, valid_score: 0.122900]\n",
      "26 Nov 07:05    INFO  valid result: \n",
      "mrr@10 : 0.3708    recall@10 : 0.1229    precision@10 : 0.1517\n",
      "26 Nov 07:05    INFO  Saving current: saved/BPR-Nov-26-2024_06-11-39.pth\n"
     ]
    },
    {
     "data": {
      "application/vnd.jupyter.widget-view+json": {
       "model_id": "5724d19644764fc0b58c2100f624471e",
       "version_major": 2,
       "version_minor": 0
      },
      "text/plain": [
       "\u001b[1;35mTrain     4\u001b[0m:   0%|                                                       | 0/166084 [00:00<?, ?it/s…"
      ]
     },
     "metadata": {},
     "output_type": "display_data"
    },
    {
     "name": "stderr",
     "output_type": "stream",
     "text": [
      "26 Nov 07:14    INFO  epoch 4 training [time: 575.87s, train loss: 22841.1214]\n"
     ]
    },
    {
     "data": {
      "application/vnd.jupyter.widget-view+json": {
       "model_id": "a5c99bc3cba447708a9776b4b1bf7e4c",
       "version_major": 2,
       "version_minor": 0
      },
      "text/plain": [
       "\u001b[1;35mEvaluate   \u001b[0m:   0%|                                                        | 0/31360 [00:00<?, ?it/s…"
      ]
     },
     "metadata": {},
     "output_type": "display_data"
    },
    {
     "name": "stderr",
     "output_type": "stream",
     "text": [
      "26 Nov 07:16    INFO  epoch 4 evaluating [time: 118.27s, valid_score: 0.120300]\n",
      "26 Nov 07:16    INFO  valid result: \n",
      "mrr@10 : 0.3605    recall@10 : 0.1203    precision@10 : 0.1482\n"
     ]
    },
    {
     "data": {
      "application/vnd.jupyter.widget-view+json": {
       "model_id": "b92bc7ffaf35463e944b6930fb499af1",
       "version_major": 2,
       "version_minor": 0
      },
      "text/plain": [
       "\u001b[1;35mTrain     5\u001b[0m:   0%|                                                       | 0/166084 [00:00<?, ?it/s…"
      ]
     },
     "metadata": {},
     "output_type": "display_data"
    },
    {
     "name": "stderr",
     "output_type": "stream",
     "text": [
      "26 Nov 07:28    INFO  epoch 5 training [time: 674.87s, train loss: 22508.4105]\n"
     ]
    },
    {
     "data": {
      "application/vnd.jupyter.widget-view+json": {
       "model_id": "2450c1ce452847489942d13efc20bfad",
       "version_major": 2,
       "version_minor": 0
      },
      "text/plain": [
       "\u001b[1;35mEvaluate   \u001b[0m:   0%|                                                        | 0/31360 [00:00<?, ?it/s…"
      ]
     },
     "metadata": {},
     "output_type": "display_data"
    },
    {
     "name": "stderr",
     "output_type": "stream",
     "text": [
      "26 Nov 07:30    INFO  epoch 5 evaluating [time: 127.03s, valid_score: 0.120700]\n",
      "26 Nov 07:30    INFO  valid result: \n",
      "mrr@10 : 0.3658    recall@10 : 0.1207    precision@10 : 0.1498\n"
     ]
    },
    {
     "data": {
      "application/vnd.jupyter.widget-view+json": {
       "model_id": "cb418516b0254125b6ea61f80a8e3f44",
       "version_major": 2,
       "version_minor": 0
      },
      "text/plain": [
       "\u001b[1;35mTrain     6\u001b[0m:   0%|                                                       | 0/166084 [00:00<?, ?it/s…"
      ]
     },
     "metadata": {},
     "output_type": "display_data"
    },
    {
     "name": "stderr",
     "output_type": "stream",
     "text": [
      "26 Nov 07:41    INFO  epoch 6 training [time: 679.34s, train loss: 22356.7544]\n"
     ]
    },
    {
     "data": {
      "application/vnd.jupyter.widget-view+json": {
       "model_id": "d51687de6b49470e82f0c3d188a398e7",
       "version_major": 2,
       "version_minor": 0
      },
      "text/plain": [
       "\u001b[1;35mEvaluate   \u001b[0m:   0%|                                                        | 0/31360 [00:00<?, ?it/s…"
      ]
     },
     "metadata": {},
     "output_type": "display_data"
    },
    {
     "name": "stderr",
     "output_type": "stream",
     "text": [
      "26 Nov 07:43    INFO  epoch 6 evaluating [time: 117.28s, valid_score: 0.121200]\n",
      "26 Nov 07:43    INFO  valid result: \n",
      "mrr@10 : 0.366    recall@10 : 0.1212    precision@10 : 0.1501\n"
     ]
    },
    {
     "data": {
      "application/vnd.jupyter.widget-view+json": {
       "model_id": "0127cabc9be84bd4820a874e0d6ecde2",
       "version_major": 2,
       "version_minor": 0
      },
      "text/plain": [
       "\u001b[1;35mTrain     7\u001b[0m:   0%|                                                       | 0/166084 [00:00<?, ?it/s…"
      ]
     },
     "metadata": {},
     "output_type": "display_data"
    },
    {
     "name": "stderr",
     "output_type": "stream",
     "text": [
      "26 Nov 07:54    INFO  epoch 7 training [time: 694.20s, train loss: 22307.2054]\n"
     ]
    },
    {
     "data": {
      "application/vnd.jupyter.widget-view+json": {
       "model_id": "cef0eaf1500345738745e7a71fc18132",
       "version_major": 2,
       "version_minor": 0
      },
      "text/plain": [
       "\u001b[1;35mEvaluate   \u001b[0m:   0%|                                                        | 0/31360 [00:00<?, ?it/s…"
      ]
     },
     "metadata": {},
     "output_type": "display_data"
    },
    {
     "name": "stderr",
     "output_type": "stream",
     "text": [
      "26 Nov 07:56    INFO  epoch 7 evaluating [time: 114.09s, valid_score: 0.120800]\n",
      "26 Nov 07:56    INFO  valid result: \n",
      "mrr@10 : 0.3657    recall@10 : 0.1208    precision@10 : 0.1496\n"
     ]
    },
    {
     "data": {
      "application/vnd.jupyter.widget-view+json": {
       "model_id": "6e36cdf1c916444194858ed5d2526fed",
       "version_major": 2,
       "version_minor": 0
      },
      "text/plain": [
       "\u001b[1;35mTrain     8\u001b[0m:   0%|                                                       | 0/166084 [00:00<?, ?it/s…"
      ]
     },
     "metadata": {},
     "output_type": "display_data"
    },
    {
     "name": "stderr",
     "output_type": "stream",
     "text": [
      "26 Nov 08:08    INFO  epoch 8 training [time: 681.14s, train loss: 22258.7386]\n"
     ]
    },
    {
     "data": {
      "application/vnd.jupyter.widget-view+json": {
       "model_id": "744fdd4f0fff429c86ca716aafb9f3ff",
       "version_major": 2,
       "version_minor": 0
      },
      "text/plain": [
       "\u001b[1;35mEvaluate   \u001b[0m:   0%|                                                        | 0/31360 [00:00<?, ?it/s…"
      ]
     },
     "metadata": {},
     "output_type": "display_data"
    },
    {
     "name": "stderr",
     "output_type": "stream",
     "text": [
      "26 Nov 08:10    INFO  epoch 8 evaluating [time: 120.55s, valid_score: 0.119100]\n",
      "26 Nov 08:10    INFO  valid result: \n",
      "mrr@10 : 0.3577    recall@10 : 0.1191    precision@10 : 0.1475\n"
     ]
    },
    {
     "data": {
      "application/vnd.jupyter.widget-view+json": {
       "model_id": "32e39f33b01b475ab4b5e9189f4b08fd",
       "version_major": 2,
       "version_minor": 0
      },
      "text/plain": [
       "\u001b[1;35mTrain     9\u001b[0m:   0%|                                                       | 0/166084 [00:00<?, ?it/s…"
      ]
     },
     "metadata": {},
     "output_type": "display_data"
    },
    {
     "name": "stderr",
     "output_type": "stream",
     "text": [
      "26 Nov 08:21    INFO  epoch 9 training [time: 648.68s, train loss: 22248.0730]\n"
     ]
    },
    {
     "data": {
      "application/vnd.jupyter.widget-view+json": {
       "model_id": "f6c929e3c7b94c08838e7e76a9d8fc08",
       "version_major": 2,
       "version_minor": 0
      },
      "text/plain": [
       "\u001b[1;35mEvaluate   \u001b[0m:   0%|                                                        | 0/31360 [00:00<?, ?it/s…"
      ]
     },
     "metadata": {},
     "output_type": "display_data"
    },
    {
     "name": "stderr",
     "output_type": "stream",
     "text": [
      "26 Nov 08:23    INFO  epoch 9 evaluating [time: 129.90s, valid_score: 0.118200]\n",
      "26 Nov 08:23    INFO  valid result: \n",
      "mrr@10 : 0.3546    recall@10 : 0.1182    precision@10 : 0.1467\n",
      "26 Nov 08:23    INFO  Loading model structure and parameters from saved/BPR-Nov-26-2024_06-11-39.pth\n"
     ]
    },
    {
     "data": {
      "application/vnd.jupyter.widget-view+json": {
       "model_id": "ab354711f596442fab5ab8f8e41d2b7a",
       "version_major": 2,
       "version_minor": 0
      },
      "text/plain": [
       "\u001b[1;35mEvaluate   \u001b[0m:   0%|                                                        | 0/31360 [00:00<?, ?it/s…"
      ]
     },
     "metadata": {},
     "output_type": "display_data"
    },
    {
     "name": "stderr",
     "output_type": "stream",
     "text": [
      "26 Nov 08:25    INFO  The running environment of this training is as follows:\n",
      "+-------------+----------------+\n",
      "| Environment |     Usage      |\n",
      "+=============+================+\n",
      "| CPU         |    91.10 %     |\n",
      "+-------------+----------------+\n",
      "| GPU         | 0.08 G/31.74 G |\n",
      "+-------------+----------------+\n",
      "| Memory      | 3.29 G/88.39 G |\n",
      "+-------------+----------------+\n",
      "26 Nov 08:25    INFO  best valid : OrderedDict([('mrr@10', 0.3708), ('recall@10', 0.1229), ('precision@10', 0.1517)])\n",
      "26 Nov 08:25    INFO  test result: OrderedDict([('mrr@10', 0.4287), ('recall@10', 0.1364), ('precision@10', 0.1765)])\n"
     ]
    },
    {
     "data": {
      "text/plain": [
       "{'best_valid_score': 0.1229,\n",
       " 'valid_score_bigger': True,\n",
       " 'best_valid_result': OrderedDict([('mrr@10', 0.3708),\n",
       "              ('recall@10', 0.1229),\n",
       "              ('precision@10', 0.1517)]),\n",
       " 'test_result': OrderedDict([('mrr@10', 0.4287),\n",
       "              ('recall@10', 0.1364),\n",
       "              ('precision@10', 0.1765)])}"
      ]
     },
     "execution_count": 2,
     "metadata": {},
     "output_type": "execute_result"
    }
   ],
   "source": [
    "run_recbole(config_file_list=['recbole_config_bpr.yaml'])"
   ]
  },
  {
   "cell_type": "markdown",
   "metadata": {},
   "source": [
    "### Inference"
   ]
  },
  {
   "cell_type": "code",
   "execution_count": 4,
   "metadata": {},
   "outputs": [
    {
     "name": "stderr",
     "output_type": "stream",
     "text": [
      "26 Nov 08:48    INFO  \n",
      "General Hyper Parameters:\n",
      "gpu_id = 0\n",
      "use_gpu = True\n",
      "seed = 2020\n",
      "state = INFO\n",
      "reproducibility = True\n",
      "data_path = ../data/train/train_ratings\n",
      "checkpoint_dir = saved\n",
      "show_progress = True\n",
      "save_dataset = False\n",
      "dataset_save_path = None\n",
      "save_dataloaders = False\n",
      "dataloaders_save_path = None\n",
      "log_wandb = False\n",
      "\n",
      "Training Hyper Parameters:\n",
      "epochs = 10\n",
      "train_batch_size ="
     ]
    },
    {
     "name": "stderr",
     "output_type": "stream",
     "text": [
      " 256\n",
      "learner = adam\n",
      "learning_rate = 0.001\n",
      "train_neg_sample_args = {'uniform': 1, 'sample_num': 10, 'distribution': 'uniform', 'alpha': 1.0, 'dynamic': False, 'candidate_num': 0}\n",
      "eval_step = 1\n",
      "stopping_step = 10\n",
      "clip_grad_norm = None\n",
      "weight_decay = 0.0\n",
      "loss_decimal_place = 4\n",
      "\n",
      "Evaluation Hyper Parameters:\n",
      "eval_args = {'split': {'RS': [0.8, 0.1, 0.1]}, 'order': 'RO', 'group_by': 'user', 'mode': {'valid': 'full', 'test': 'full'}}\n",
      "repeatable = False\n",
      "metrics = ['mrr', 'recall', 'precision']\n",
      "topk = [10]\n",
      "valid_metric = Recall@10\n",
      "valid_metric_bigger = True\n",
      "eval_batch_size = 256\n",
      "metric_decimal_place = 4\n",
      "\n",
      "Dataset Hyper Parameters:\n",
      "field_separator = \t\n",
      "seq_separator =  \n",
      "USER_ID_FIELD = user_id\n",
      "ITEM_ID_FIELD = item_id\n",
      "RATING_FIELD = rating\n",
      "TIME_FIELD = timestamp\n",
      "seq_len = None\n",
      "LABEL_FIELD = label\n",
      "threshold = None\n",
      "NEG_PREFIX = neg_\n",
      "load_col = {'inter': ['user_id', 'item_id']}\n",
      "unload_col = None\n",
      "unused_col = None\n",
      "additional_feat_suffix = None\n",
      "rm_dup_inter = None\n",
      "val_interval = None\n",
      "filter_inter_by_user_or_item = True\n",
      "user_inter_num_interval = [0,inf)\n",
      "item_inter_num_interval = [0,inf)\n",
      "alias_of_user_id = None\n",
      "alias_of_item_id = None\n",
      "alias_of_entity_id = None\n",
      "alias_of_relation_id = None\n",
      "preload_weight = None\n",
      "normalize_field = None\n",
      "normalize_all = None\n",
      "ITEM_LIST_LENGTH_FIELD = item_length\n",
      "LIST_SUFFIX = _list\n",
      "MAX_ITEM_LIST_LENGTH = 50\n",
      "POSITION_FIELD = position_id\n",
      "HEAD_ENTITY_ID_FIELD = head_id\n",
      "TAIL_ENTITY_ID_FIELD = tail_id\n",
      "RELATION_ID_FIELD = relation_id\n",
      "ENTITY_ID_FIELD = entity_id\n",
      "benchmark_filename = None\n",
      "\n",
      "Other Hyper Parameters: \n",
      "worker = 0\n",
      "wandb_project = recbole\n",
      "shuffle = True\n",
      "require_pow = False\n",
      "enable_amp = False\n",
      "enable_scaler = False\n",
      "transform = None\n",
      "embedding_size = 64\n",
      "numerical_features = []\n",
      "discretization = None\n",
      "kg_reverse_r = False\n",
      "entity_kg_num_interval = [0,inf)\n",
      "relation_kg_num_interval = [0,inf)\n",
      "MODEL_TYPE = ModelType.GENERAL\n",
      "loss_type = BPR\n",
      "MODEL_INPUT_TYPE = InputType.PAIRWISE\n",
      "eval_type = EvaluatorType.RANKING\n",
      "single_spec = True\n",
      "local_rank = 0\n",
      "device = cuda\n",
      "valid_neg_sample_args = {'distribution': 'uniform', 'sample_num': 'none'}\n",
      "test_neg_sample_args = {'distribution': 'uniform', 'sample_num': 'none'}\n",
      "\n",
      "\n",
      "/opt/conda/lib/python3.10/site-packages/recbole/data/dataset/dataset.py:648: FutureWarning: A value is trying to be set on a copy of a DataFrame or Series through chained assignment using an inplace method.\n",
      "The behavior will change in pandas 3.0. This inplace method will never work because the intermediate object on which we are setting values always behaves as a copy.\n",
      "\n",
      "For example, when doing 'df[col].method(value, inplace=True)', try using 'df.method({col: value}, inplace=True)' or df[col] = df[col].method(value) instead, to perform the operation inplace on the original object.\n",
      "\n",
      "\n",
      "  feat[field].fillna(value=0, inplace=True)\n",
      "26 Nov 08:48    INFO  train_ratings\n",
      "The number of users: 31361\n",
      "Average actions of users: 164.36450892857144\n",
      "The number of items: 6808\n",
      "Average actions of items: 757.2309387395328\n",
      "The number of inters: 5154471\n",
      "The sparsity of the dataset: 97.58579218741939%\n",
      "Remain Fields: ['user_id', 'item_id']\n",
      "26 Nov 08:49    INFO  [Training]: train_batch_size = [256] train_neg_sample_args: [{'uniform': 1, 'sample_num': 10, 'distribution': 'uniform', 'alpha': 1.0, 'dynamic': False, 'candidate_num': 0}]\n",
      "26 Nov 08:49    INFO  [Evaluation]: eval_batch_size = [256] eval_args: [{'split': {'RS': [0.8, 0.1, 0.1]}, 'order': 'RO', 'group_by': 'user', 'mode': {'valid': 'full', 'test': 'full'}}]\n"
     ]
    }
   ],
   "source": [
    "# model, dataset 불러오기\n",
    "model_path = 'saved/BPR-Nov-26-2024_06-11-39.pth'\n",
    "config, model, dataset, train_data, valid_data, test_data = load_data_and_model(model_path)\n",
    "    \n",
    "# device 설정\n",
    "device = config.final_config_dict['device']"
   ]
  },
  {
   "cell_type": "code",
   "execution_count": 5,
   "metadata": {},
   "outputs": [],
   "source": [
    "# user, item id -> token 변환 array\n",
    "user_id2token = dataset.field2id_token['user_id']\n",
    "item_id2token = dataset.field2id_token['item_id']\n",
    "    \n",
    "# user-item sparse matrix\n",
    "matrix = dataset.inter_matrix(form='csr')"
   ]
  },
  {
   "cell_type": "code",
   "execution_count": 52,
   "metadata": {},
   "outputs": [],
   "source": [
    "# user id, predict item id 저장 변수\n",
    "pred_list = None\n",
    "user_list = None\n",
    "score_list = None\n",
    "    \n",
    "model.eval()\n",
    "for data in test_data:\n",
    "    interaction = data[0].to(device)\n",
    "    score = model.full_sort_predict(interaction)\n",
    "        \n",
    "    rating_pred = score.cpu().data.numpy().copy()\n",
    "    user_id = interaction['user_id'].cpu().numpy()\n",
    "    \n",
    "    # 사용자가 상호작용한 아이템 인덱스를 가져옵니다.\n",
    "    interacted_indices = matrix[user_id].indices\n",
    "\n",
    "    # 상호작용한 아이템의 점수를 최소값 이하로 설정\n",
    "    min_value = rating_pred.min()\n",
    "    rating_pred[interacted_indices] = min_value - 1  # 최소값보다 작은 값으로 설정\n",
    "    rating_pred[0] = min_value - 1\n",
    "\n",
    "    # 상위 10개 아이템 인덱스 추출\n",
    "    ind = np.argpartition(rating_pred, -20)[-20:]\n",
    "    arr_ind = rating_pred[ind]\n",
    "\n",
    "    # 추출된 값들을 내림차순으로 정렬하기 위한 인덱스를 얻음\n",
    "    arr_ind_argsort = np.argsort(arr_ind)[::-1]\n",
    "\n",
    "    # 실제 값들을 정렬된 순서대로 인덱스 배열에 적용\n",
    "    batch_pred_list = ind[arr_ind_argsort]\n",
    "    batch_score_list = arr_ind[arr_ind_argsort]\n",
    "    \n",
    "    # 예측값 저장\n",
    "    if pred_list is None:\n",
    "        pred_list = batch_pred_list\n",
    "        score_list = batch_score_list\n",
    "        # batch_pred_list 길이만큼 user_id를 반복\n",
    "        user_list = np.repeat(user_id, len(batch_pred_list))\n",
    "    else:\n",
    "        pred_list = np.append(pred_list, batch_pred_list, axis=0)\n",
    "        score_list = np.append(score_list, batch_score_list, axis=0)\n",
    "        # batch_pred_list 길이만큼 user_id를 반복하여 추가\n",
    "        user_list = np.append(user_list, np.repeat(user_id, len(batch_pred_list)), axis=0)\n"
   ]
  },
  {
   "cell_type": "code",
   "execution_count": 53,
   "metadata": {},
   "outputs": [],
   "source": [
    "# 결과를 저장할 빈 리스트 초기화\n",
    "final_result = []\n",
    "\n",
    "# user_list와 pred_list에 있는 인덱스를 실제 'resume_seq'와 'recruitment_seq'로 변환\n",
    "for user, item, score in zip(user_list, pred_list, score_list):\n",
    "    # user_id2token을 사용하여 변환된 사용자 ID를 얻고\n",
    "    # index_to_resume_seq을 사용하여 원래의 'resume_seq'로 변환\n",
    "    original_user_seq = user_id2token[user]\n",
    "\n",
    "    # item_id2token을 사용하여 변환된 아이템 ID를 얻고\n",
    "    # index_to_recruitment_seq을 사용하여 원래의 'recruitment_seq'로 변환\n",
    "    original_item_seq = item_id2token[item]\n",
    "\n",
    "    # 최종 결과에 추가\n",
    "    final_result.append((original_user_seq, original_item_seq, score))\n"
   ]
  },
  {
   "cell_type": "code",
   "execution_count": 54,
   "metadata": {},
   "outputs": [
    {
     "name": "stdout",
     "output_type": "stream",
     "text": [
      "Final mapping done and saved to CSV!\n"
     ]
    }
   ],
   "source": [
    "# 결과를 DataFrame으로 변환하고 CSV 파일로 저장\n",
    "final_dataframe = pd.DataFrame(final_result, columns=['user', 'item', 'score'])\n",
    "final_dataframe.to_csv('../data/eval/recbole_bpr_top20_score.csv', index=False)\n",
    "print('Final mapping done and saved to CSV!')"
   ]
  }
 ],
 "metadata": {
  "kernelspec": {
   "display_name": "base",
   "language": "python",
   "name": "base"
  },
  "language_info": {
   "codemirror_mode": {
    "name": "ipython",
    "version": 3
   },
   "file_extension": ".py",
   "mimetype": "text/x-python",
   "name": "python",
   "nbconvert_exporter": "python",
   "pygments_lexer": "ipython3",
   "version": "3.10.13"
  }
 },
 "nbformat": 4,
 "nbformat_minor": 2
}
