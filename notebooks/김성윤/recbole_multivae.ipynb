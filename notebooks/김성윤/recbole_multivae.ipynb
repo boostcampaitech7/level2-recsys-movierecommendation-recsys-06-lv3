{
 "cells": [
  {
   "cell_type": "code",
   "execution_count": 2,
   "metadata": {},
   "outputs": [],
   "source": [
    "import argparse\n",
    "import torch\n",
    "import numpy as np\n",
    "import pandas as pd\n",
    "\n",
    "from recbole.quick_start import run_recbole, load_data_and_model"
   ]
  },
  {
   "cell_type": "markdown",
   "metadata": {},
   "source": [
    "### Train & Valid"
   ]
  },
  {
   "cell_type": "code",
   "execution_count": 2,
   "metadata": {},
   "outputs": [
    {
     "name": "stderr",
     "output_type": "stream",
     "text": [
      "21 Nov 11:03    INFO  ['c:\\\\Users\\\\seong\\\\anaconda3\\\\Lib\\\\site-packages\\\\ipykernel_launcher.py', '--f=c:\\\\Users\\\\seong\\\\AppData\\\\Roaming\\\\jupyter\\\\runtime\\\\kernel-v327563d43789dfff9b54b6741ae0dc62bd46a5b21.json']\n",
      "21 Nov 11:03    INFO  \n",
      "General Hyper Parameters:\n",
      "gpu_id = 0\n",
      "use_gpu = True\n",
      "seed = 2020\n",
      "state = INFO\n",
      "reproducibility = True\n",
      "data_path = ../data/train\\train_ratings\n",
      "checkpoint_dir = saved\n",
      "show_progress = True\n",
      "save_dataset = False\n",
      "dataset_save_path = None\n",
      "save_dataloaders = False\n",
      "dataloaders_save_path = None\n",
      "log_wandb = False\n",
      "\n",
      "Training Hyper Parameters:\n",
      "epochs = 20\n",
      "train_batch_size = 256\n",
      "learner = adam\n",
      "learning_rate = 0.001\n",
      "train_neg_sample_args = {'distribution': 'uniform', 'sample_num': 50, 'alpha': 1.0, 'dynamic': False, 'candidate_num': 0}\n",
      "eval_step = 1\n",
      "stopping_step = 10\n",
      "clip_grad_norm = None\n",
      "weight_decay = 0.0\n",
      "loss_decimal_place = 4\n",
      "\n",
      "Evaluation Hyper Parameters:\n",
      "eval_args = {'split': {'RS': [0.8, 0.1, 0.1]}, 'order': 'RO', 'group_by': 'user', 'mode': {'valid': 'full', 'test': 'full'}}\n",
      "repeatable = False\n",
      "metrics = ['mrr', 'recall', 'precision']\n",
      "topk = [10]\n",
      "valid_metric = MRR@10\n",
      "valid_metric_bigger = True\n",
      "eval_batch_size = 4096\n",
      "metric_decimal_place = 4\n",
      "\n",
      "Dataset Hyper Parameters:\n",
      "field_separator = \t\n",
      "seq_separator =  \n",
      "USER_ID_FIELD = user_id\n",
      "ITEM_ID_FIELD = item_id\n",
      "RATING_FIELD = rating\n",
      "TIME_FIELD = timestamp\n",
      "seq_len = None\n",
      "LABEL_FIELD = label\n",
      "threshold = None\n",
      "NEG_PREFIX = neg_\n",
      "load_col = {'inter': ['user_id', 'item_id']}\n",
      "unload_col = None\n",
      "unused_col = None\n",
      "additional_feat_suffix = None\n",
      "rm_dup_inter = None\n",
      "val_interval = None\n",
      "filter_inter_by_user_or_item = True\n",
      "user_inter_num_interval = [0,inf)\n",
      "item_inter_num_interval = [0,inf)\n",
      "alias_of_user_id = None\n",
      "alias_of_item_id = None\n",
      "alias_of_entity_id = None\n",
      "alias_of_relation_id = None\n",
      "preload_weight = None\n",
      "normalize_field = None\n",
      "normalize_all = None\n",
      "ITEM_LIST_LENGTH_FIELD = item_length\n",
      "LIST_SUFFIX = _list\n",
      "MAX_ITEM_LIST_LENGTH = 50\n",
      "POSITION_FIELD = position_id\n",
      "HEAD_ENTITY_ID_FIELD = head_id\n",
      "TAIL_ENTITY_ID_FIELD = tail_id\n",
      "RELATION_ID_FIELD = relation_id\n",
      "ENTITY_ID_FIELD = entity_id\n",
      "benchmark_filename = None\n",
      "\n",
      "Other Hyper Parameters: \n",
      "worker = 0\n",
      "wandb_project = recbole\n",
      "shuffle = True\n",
      "require_pow = False\n",
      "enable_amp = False\n",
      "enable_scaler = False\n",
      "transform = None\n",
      "mlp_hidden_size = [600]\n",
      "latent_dimension = 128\n",
      "dropout_prob = 0.5\n",
      "anneal_cap = 0.2\n",
      "total_anneal_steps = 200000\n",
      "numerical_features = []\n",
      "discretization = None\n",
      "kg_reverse_r = False\n",
      "entity_kg_num_interval = [0,inf)\n",
      "relation_kg_num_interval = [0,inf)\n",
      "MODEL_TYPE = ModelType.GENERAL\n",
      "loss_type = BPR\n",
      "embedding_size = 64\n",
      "MODEL_INPUT_TYPE = InputType.PAIRWISE\n",
      "eval_type = EvaluatorType.RANKING\n",
      "single_spec = True\n",
      "local_rank = 0\n",
      "device = cpu\n",
      "valid_neg_sample_args = {'distribution': 'uniform', 'sample_num': 'none'}\n",
      "test_neg_sample_args = {'distribution': 'uniform', 'sample_num': 'none'}\n",
      "\n",
      "\n",
      "21 Nov 11:04    INFO  train_ratings\n",
      "The number of users: 31361\n",
      "Average actions of users: 164.36450892857144\n",
      "The number of items: 6808\n",
      "Average actions of items: 757.2309387395328\n",
      "The number of inters: 5154471\n",
      "The sparsity of the dataset: 97.58579218741939%\n",
      "Remain Fields: ['user_id', 'item_id']\n",
      "21 Nov 11:04    INFO  [Training]: train_batch_size = [256] train_neg_sample_args: [{'distribution': 'uniform', 'sample_num': 50, 'alpha': 1.0, 'dynamic': False, 'candidate_num': 0}]\n",
      "21 Nov 11:04    INFO  [Evaluation]: eval_batch_size = [4096] eval_args: [{'split': {'RS': [0.8, 0.1, 0.1]}, 'order': 'RO', 'group_by': 'user', 'mode': {'valid': 'full', 'test': 'full'}}]\n",
      "21 Nov 11:04    WARNING  Max value of user's history interaction records has reached 34.22444183313749% of the total.\n",
      "21 Nov 11:04    INFO  MultiVAE(\n",
      "  (encoder): Sequential(\n",
      "    (0): Linear(in_features=6808, out_features=600, bias=True)\n",
      "    (1): Tanh()\n",
      "    (2): Linear(in_features=600, out_features=128, bias=True)\n",
      "  )\n",
      "  (decoder): Sequential(\n",
      "    (0): Linear(in_features=64, out_features=600, bias=True)\n",
      "    (1): Tanh()\n",
      "    (2): Linear(in_features=600, out_features=6808, bias=True)\n",
      "  )\n",
      ")\n",
      "Trainable parameters: 8292936\n",
      "21 Nov 11:04    INFO  FLOPs: 8284800.0\n"
     ]
    },
    {
     "data": {
      "application/vnd.jupyter.widget-view+json": {
       "model_id": "e16e8c00caae420786b69d6f4dcbb50e",
       "version_major": 2,
       "version_minor": 0
      },
      "text/plain": [
       "\u001b[1;35mTrain     0\u001b[0m:   0%|                                                          | 0/123 [00:00<?, ?it/s…"
      ]
     },
     "metadata": {},
     "output_type": "display_data"
    },
    {
     "name": "stderr",
     "output_type": "stream",
     "text": [
      "c:\\Users\\seong\\anaconda3\\Lib\\site-packages\\recbole\\trainer\\trainer.py:231: FutureWarning: `torch.cuda.amp.GradScaler(args...)` is deprecated. Please use `torch.amp.GradScaler('cuda', args...)` instead.\n",
      "  scaler = amp.GradScaler(enabled=self.enable_scaler)\n",
      "21 Nov 11:04    INFO  epoch 0 training [time: 7.44s, train loss: 124465.5955]\n"
     ]
    },
    {
     "data": {
      "application/vnd.jupyter.widget-view+json": {
       "model_id": "7b4ff7ff4023416098eb007fdaa05569",
       "version_major": 2,
       "version_minor": 0
      },
      "text/plain": [
       "\u001b[1;35mEvaluate   \u001b[0m:   0%|                                                        | 0/31360 [00:00<?, ?it/s…"
      ]
     },
     "metadata": {},
     "output_type": "display_data"
    },
    {
     "name": "stderr",
     "output_type": "stream",
     "text": [
      "21 Nov 11:06    INFO  epoch 0 evaluating [time: 128.87s, valid_score: 0.339200]\n",
      "21 Nov 11:06    INFO  valid result: \n",
      "mrr@10 : 0.3392    recall@10 : 0.1087    precision@10 : 0.1356\n",
      "21 Nov 11:06    INFO  Saving current: saved\\MultiVAE-Nov-21-2024_11-04-28.pth\n"
     ]
    },
    {
     "data": {
      "application/vnd.jupyter.widget-view+json": {
       "model_id": "c653f789c2bb4bfe9a3820dcef882ffc",
       "version_major": 2,
       "version_minor": 0
      },
      "text/plain": [
       "\u001b[1;35mTrain     1\u001b[0m:   0%|                                                          | 0/123 [00:00<?, ?it/s…"
      ]
     },
     "metadata": {},
     "output_type": "display_data"
    },
    {
     "name": "stderr",
     "output_type": "stream",
     "text": [
      "21 Nov 11:06    INFO  epoch 1 training [time: 6.90s, train loss: 117971.9416]\n"
     ]
    },
    {
     "data": {
      "application/vnd.jupyter.widget-view+json": {
       "model_id": "47f70c72358744e3a6b3fc255a6ee7a3",
       "version_major": 2,
       "version_minor": 0
      },
      "text/plain": [
       "\u001b[1;35mEvaluate   \u001b[0m:   0%|                                                        | 0/31360 [00:00<?, ?it/s…"
      ]
     },
     "metadata": {},
     "output_type": "display_data"
    },
    {
     "name": "stderr",
     "output_type": "stream",
     "text": [
      "21 Nov 11:09    INFO  epoch 1 evaluating [time: 130.41s, valid_score: 0.374800]\n",
      "21 Nov 11:09    INFO  valid result: \n",
      "mrr@10 : 0.3748    recall@10 : 0.1252    precision@10 : 0.1536\n",
      "21 Nov 11:09    INFO  Saving current: saved\\MultiVAE-Nov-21-2024_11-04-28.pth\n"
     ]
    },
    {
     "data": {
      "application/vnd.jupyter.widget-view+json": {
       "model_id": "55559e3a40734f699adde7c816579201",
       "version_major": 2,
       "version_minor": 0
      },
      "text/plain": [
       "\u001b[1;35mTrain     2\u001b[0m:   0%|                                                          | 0/123 [00:00<?, ?it/s…"
      ]
     },
     "metadata": {},
     "output_type": "display_data"
    },
    {
     "name": "stderr",
     "output_type": "stream",
     "text": [
      "21 Nov 11:09    INFO  epoch 2 training [time: 6.87s, train loss: 116288.2111]\n"
     ]
    },
    {
     "data": {
      "application/vnd.jupyter.widget-view+json": {
       "model_id": "9016e99d3d5e48cf87107b1f9432a895",
       "version_major": 2,
       "version_minor": 0
      },
      "text/plain": [
       "\u001b[1;35mEvaluate   \u001b[0m:   0%|                                                        | 0/31360 [00:00<?, ?it/s…"
      ]
     },
     "metadata": {},
     "output_type": "display_data"
    },
    {
     "name": "stderr",
     "output_type": "stream",
     "text": [
      "21 Nov 11:10    INFO  epoch 2 evaluating [time: 103.96s, valid_score: 0.385100]\n",
      "21 Nov 11:10    INFO  valid result: \n",
      "mrr@10 : 0.3851    recall@10 : 0.1306    precision@10 : 0.1607\n",
      "21 Nov 11:10    INFO  Saving current: saved\\MultiVAE-Nov-21-2024_11-04-28.pth\n"
     ]
    },
    {
     "data": {
      "application/vnd.jupyter.widget-view+json": {
       "model_id": "e1baaf6dfdf342049247317059adf868",
       "version_major": 2,
       "version_minor": 0
      },
      "text/plain": [
       "\u001b[1;35mTrain     3\u001b[0m:   0%|                                                          | 0/123 [00:00<?, ?it/s…"
      ]
     },
     "metadata": {},
     "output_type": "display_data"
    },
    {
     "name": "stderr",
     "output_type": "stream",
     "text": [
      "21 Nov 11:11    INFO  epoch 3 training [time: 7.09s, train loss: 115360.4185]\n"
     ]
    },
    {
     "data": {
      "application/vnd.jupyter.widget-view+json": {
       "model_id": "df278b0357464a779b2d3e4bbbdbe65f",
       "version_major": 2,
       "version_minor": 0
      },
      "text/plain": [
       "\u001b[1;35mEvaluate   \u001b[0m:   0%|                                                        | 0/31360 [00:00<?, ?it/s…"
      ]
     },
     "metadata": {},
     "output_type": "display_data"
    },
    {
     "name": "stderr",
     "output_type": "stream",
     "text": [
      "21 Nov 11:13    INFO  epoch 3 evaluating [time: 131.69s, valid_score: 0.389800]\n",
      "21 Nov 11:13    INFO  valid result: \n",
      "mrr@10 : 0.3898    recall@10 : 0.135    precision@10 : 0.1638\n",
      "21 Nov 11:13    INFO  Saving current: saved\\MultiVAE-Nov-21-2024_11-04-28.pth\n"
     ]
    },
    {
     "data": {
      "application/vnd.jupyter.widget-view+json": {
       "model_id": "02399c88bf9d46e79bde98481531c11c",
       "version_major": 2,
       "version_minor": 0
      },
      "text/plain": [
       "\u001b[1;35mTrain     4\u001b[0m:   0%|                                                          | 0/123 [00:00<?, ?it/s…"
      ]
     },
     "metadata": {},
     "output_type": "display_data"
    },
    {
     "name": "stderr",
     "output_type": "stream",
     "text": [
      "21 Nov 11:13    INFO  epoch 4 training [time: 7.41s, train loss: 114695.5466]\n"
     ]
    },
    {
     "data": {
      "application/vnd.jupyter.widget-view+json": {
       "model_id": "86b1c625c8b24c9f8c3e864ad3088b41",
       "version_major": 2,
       "version_minor": 0
      },
      "text/plain": [
       "\u001b[1;35mEvaluate   \u001b[0m:   0%|                                                        | 0/31360 [00:00<?, ?it/s…"
      ]
     },
     "metadata": {},
     "output_type": "display_data"
    },
    {
     "name": "stderr",
     "output_type": "stream",
     "text": [
      "21 Nov 11:15    INFO  epoch 4 evaluating [time: 147.03s, valid_score: 0.395600]\n",
      "21 Nov 11:15    INFO  valid result: \n",
      "mrr@10 : 0.3956    recall@10 : 0.1389    precision@10 : 0.1691\n",
      "21 Nov 11:15    INFO  Saving current: saved\\MultiVAE-Nov-21-2024_11-04-28.pth\n"
     ]
    },
    {
     "data": {
      "application/vnd.jupyter.widget-view+json": {
       "model_id": "f10e09a480294321bb48015627cad1f7",
       "version_major": 2,
       "version_minor": 0
      },
      "text/plain": [
       "\u001b[1;35mTrain     5\u001b[0m:   0%|                                                          | 0/123 [00:00<?, ?it/s…"
      ]
     },
     "metadata": {},
     "output_type": "display_data"
    },
    {
     "name": "stderr",
     "output_type": "stream",
     "text": [
      "21 Nov 11:15    INFO  epoch 5 training [time: 7.70s, train loss: 114100.2887]\n"
     ]
    },
    {
     "data": {
      "application/vnd.jupyter.widget-view+json": {
       "model_id": "ec3bf64db30845459f03fb25cd46d271",
       "version_major": 2,
       "version_minor": 0
      },
      "text/plain": [
       "\u001b[1;35mEvaluate   \u001b[0m:   0%|                                                        | 0/31360 [00:00<?, ?it/s…"
      ]
     },
     "metadata": {},
     "output_type": "display_data"
    },
    {
     "name": "stderr",
     "output_type": "stream",
     "text": [
      "21 Nov 11:18    INFO  epoch 5 evaluating [time: 143.38s, valid_score: 0.403800]\n",
      "21 Nov 11:18    INFO  valid result: \n",
      "mrr@10 : 0.4038    recall@10 : 0.1426    precision@10 : 0.1719\n",
      "21 Nov 11:18    INFO  Saving current: saved\\MultiVAE-Nov-21-2024_11-04-28.pth\n"
     ]
    },
    {
     "data": {
      "application/vnd.jupyter.widget-view+json": {
       "model_id": "4a75b4f2adc849ac880291c2d932ffd9",
       "version_major": 2,
       "version_minor": 0
      },
      "text/plain": [
       "\u001b[1;35mTrain     6\u001b[0m:   0%|                                                          | 0/123 [00:00<?, ?it/s…"
      ]
     },
     "metadata": {},
     "output_type": "display_data"
    },
    {
     "name": "stderr",
     "output_type": "stream",
     "text": [
      "21 Nov 11:18    INFO  epoch 6 training [time: 7.54s, train loss: 113591.0085]\n"
     ]
    },
    {
     "data": {
      "application/vnd.jupyter.widget-view+json": {
       "model_id": "d3fa3c9fba694b0883487ffaba8605a1",
       "version_major": 2,
       "version_minor": 0
      },
      "text/plain": [
       "\u001b[1;35mEvaluate   \u001b[0m:   0%|                                                        | 0/31360 [00:00<?, ?it/s…"
      ]
     },
     "metadata": {},
     "output_type": "display_data"
    },
    {
     "name": "stderr",
     "output_type": "stream",
     "text": [
      "21 Nov 11:20    INFO  epoch 6 evaluating [time: 141.05s, valid_score: 0.407500]\n",
      "21 Nov 11:20    INFO  valid result: \n",
      "mrr@10 : 0.4075    recall@10 : 0.1443    precision@10 : 0.1733\n",
      "21 Nov 11:20    INFO  Saving current: saved\\MultiVAE-Nov-21-2024_11-04-28.pth\n"
     ]
    },
    {
     "data": {
      "application/vnd.jupyter.widget-view+json": {
       "model_id": "eb4a4de7b8c748068585bbc56c41423a",
       "version_major": 2,
       "version_minor": 0
      },
      "text/plain": [
       "\u001b[1;35mTrain     7\u001b[0m:   0%|                                                          | 0/123 [00:00<?, ?it/s…"
      ]
     },
     "metadata": {},
     "output_type": "display_data"
    },
    {
     "name": "stderr",
     "output_type": "stream",
     "text": [
      "21 Nov 11:20    INFO  epoch 7 training [time: 7.02s, train loss: 113092.4399]\n"
     ]
    },
    {
     "data": {
      "application/vnd.jupyter.widget-view+json": {
       "model_id": "4653d2702506480595ccec3d27c02091",
       "version_major": 2,
       "version_minor": 0
      },
      "text/plain": [
       "\u001b[1;35mEvaluate   \u001b[0m:   0%|                                                        | 0/31360 [00:00<?, ?it/s…"
      ]
     },
     "metadata": {},
     "output_type": "display_data"
    },
    {
     "name": "stderr",
     "output_type": "stream",
     "text": [
      "21 Nov 11:23    INFO  epoch 7 evaluating [time: 145.00s, valid_score: 0.405000]\n",
      "21 Nov 11:23    INFO  valid result: \n",
      "mrr@10 : 0.405    recall@10 : 0.1452    precision@10 : 0.1737\n"
     ]
    },
    {
     "data": {
      "application/vnd.jupyter.widget-view+json": {
       "model_id": "11b53b1f047e4adc978fa59fcce0bca7",
       "version_major": 2,
       "version_minor": 0
      },
      "text/plain": [
       "\u001b[1;35mTrain     8\u001b[0m:   0%|                                                          | 0/123 [00:00<?, ?it/s…"
      ]
     },
     "metadata": {},
     "output_type": "display_data"
    },
    {
     "name": "stderr",
     "output_type": "stream",
     "text": [
      "21 Nov 11:23    INFO  epoch 8 training [time: 7.56s, train loss: 112705.9636]\n"
     ]
    },
    {
     "data": {
      "application/vnd.jupyter.widget-view+json": {
       "model_id": "915922530cbd49de9e4f892ac4d12a16",
       "version_major": 2,
       "version_minor": 0
      },
      "text/plain": [
       "\u001b[1;35mEvaluate   \u001b[0m:   0%|                                                        | 0/31360 [00:00<?, ?it/s…"
      ]
     },
     "metadata": {},
     "output_type": "display_data"
    },
    {
     "name": "stderr",
     "output_type": "stream",
     "text": [
      "21 Nov 11:25    INFO  epoch 8 evaluating [time: 145.85s, valid_score: 0.402900]\n",
      "21 Nov 11:25    INFO  valid result: \n",
      "mrr@10 : 0.4029    recall@10 : 0.1446    precision@10 : 0.1728\n"
     ]
    },
    {
     "data": {
      "application/vnd.jupyter.widget-view+json": {
       "model_id": "0be3726d49504d0cb7a3177508c01a29",
       "version_major": 2,
       "version_minor": 0
      },
      "text/plain": [
       "\u001b[1;35mTrain     9\u001b[0m:   0%|                                                          | 0/123 [00:00<?, ?it/s…"
      ]
     },
     "metadata": {},
     "output_type": "display_data"
    },
    {
     "name": "stderr",
     "output_type": "stream",
     "text": [
      "21 Nov 11:26    INFO  epoch 9 training [time: 6.90s, train loss: 112401.3904]\n"
     ]
    },
    {
     "data": {
      "application/vnd.jupyter.widget-view+json": {
       "model_id": "116b0d20a33148c79f1f1e16485cabd5",
       "version_major": 2,
       "version_minor": 0
      },
      "text/plain": [
       "\u001b[1;35mEvaluate   \u001b[0m:   0%|                                                        | 0/31360 [00:00<?, ?it/s…"
      ]
     },
     "metadata": {},
     "output_type": "display_data"
    },
    {
     "name": "stderr",
     "output_type": "stream",
     "text": [
      "21 Nov 11:28    INFO  epoch 9 evaluating [time: 148.70s, valid_score: 0.402200]\n",
      "21 Nov 11:28    INFO  valid result: \n",
      "mrr@10 : 0.4022    recall@10 : 0.1453    precision@10 : 0.1726\n"
     ]
    },
    {
     "data": {
      "application/vnd.jupyter.widget-view+json": {
       "model_id": "b395b2c84e764f2b9af25fedd0331c0c",
       "version_major": 2,
       "version_minor": 0
      },
      "text/plain": [
       "\u001b[1;35mTrain    10\u001b[0m:   0%|                                                          | 0/123 [00:00<?, ?it/s…"
      ]
     },
     "metadata": {},
     "output_type": "display_data"
    },
    {
     "name": "stderr",
     "output_type": "stream",
     "text": [
      "21 Nov 11:28    INFO  epoch 10 training [time: 6.87s, train loss: 112037.6274]\n"
     ]
    },
    {
     "data": {
      "application/vnd.jupyter.widget-view+json": {
       "model_id": "939ba65ebf3c4522ad81caeb3e4106d0",
       "version_major": 2,
       "version_minor": 0
      },
      "text/plain": [
       "\u001b[1;35mEvaluate   \u001b[0m:   0%|                                                        | 0/31360 [00:00<?, ?it/s…"
      ]
     },
     "metadata": {},
     "output_type": "display_data"
    },
    {
     "name": "stderr",
     "output_type": "stream",
     "text": [
      "21 Nov 11:30    INFO  epoch 10 evaluating [time: 133.19s, valid_score: 0.400500]\n",
      "21 Nov 11:30    INFO  valid result: \n",
      "mrr@10 : 0.4005    recall@10 : 0.1462    precision@10 : 0.1735\n"
     ]
    },
    {
     "data": {
      "application/vnd.jupyter.widget-view+json": {
       "model_id": "07e3043864914fef85b8df94008220b9",
       "version_major": 2,
       "version_minor": 0
      },
      "text/plain": [
       "\u001b[1;35mTrain    11\u001b[0m:   0%|                                                          | 0/123 [00:00<?, ?it/s…"
      ]
     },
     "metadata": {},
     "output_type": "display_data"
    },
    {
     "name": "stderr",
     "output_type": "stream",
     "text": [
      "21 Nov 11:30    INFO  epoch 11 training [time: 7.12s, train loss: 111825.7125]\n"
     ]
    },
    {
     "data": {
      "application/vnd.jupyter.widget-view+json": {
       "model_id": "bfe2a43bfa854beda90d753a830573d5",
       "version_major": 2,
       "version_minor": 0
      },
      "text/plain": [
       "\u001b[1;35mEvaluate   \u001b[0m:   0%|                                                        | 0/31360 [00:00<?, ?it/s…"
      ]
     },
     "metadata": {},
     "output_type": "display_data"
    },
    {
     "name": "stderr",
     "output_type": "stream",
     "text": [
      "21 Nov 11:32    INFO  epoch 11 evaluating [time: 115.40s, valid_score: 0.399700]\n",
      "21 Nov 11:32    INFO  valid result: \n",
      "mrr@10 : 0.3997    recall@10 : 0.1452    precision@10 : 0.1721\n"
     ]
    },
    {
     "data": {
      "application/vnd.jupyter.widget-view+json": {
       "model_id": "39077c29137341c1b75ea026390663e1",
       "version_major": 2,
       "version_minor": 0
      },
      "text/plain": [
       "\u001b[1;35mTrain    12\u001b[0m:   0%|                                                          | 0/123 [00:00<?, ?it/s…"
      ]
     },
     "metadata": {},
     "output_type": "display_data"
    },
    {
     "name": "stderr",
     "output_type": "stream",
     "text": [
      "21 Nov 11:33    INFO  epoch 12 training [time: 7.11s, train loss: 111500.4006]\n"
     ]
    },
    {
     "data": {
      "application/vnd.jupyter.widget-view+json": {
       "model_id": "e6b18768afe54d6a8106244f5e1a278d",
       "version_major": 2,
       "version_minor": 0
      },
      "text/plain": [
       "\u001b[1;35mEvaluate   \u001b[0m:   0%|                                                        | 0/31360 [00:00<?, ?it/s…"
      ]
     },
     "metadata": {},
     "output_type": "display_data"
    },
    {
     "name": "stderr",
     "output_type": "stream",
     "text": [
      "21 Nov 11:35    INFO  epoch 12 evaluating [time: 129.90s, valid_score: 0.397300]\n",
      "21 Nov 11:35    INFO  valid result: \n",
      "mrr@10 : 0.3973    recall@10 : 0.1452    precision@10 : 0.1716\n"
     ]
    },
    {
     "data": {
      "application/vnd.jupyter.widget-view+json": {
       "model_id": "b39be597e42041f2a5f9a327f0c08a57",
       "version_major": 2,
       "version_minor": 0
      },
      "text/plain": [
       "\u001b[1;35mTrain    13\u001b[0m:   0%|                                                          | 0/123 [00:00<?, ?it/s…"
      ]
     },
     "metadata": {},
     "output_type": "display_data"
    },
    {
     "name": "stderr",
     "output_type": "stream",
     "text": [
      "21 Nov 11:35    INFO  epoch 13 training [time: 7.09s, train loss: 111262.8658]\n"
     ]
    },
    {
     "data": {
      "application/vnd.jupyter.widget-view+json": {
       "model_id": "0dc455767f5345b8895ce28477afba1a",
       "version_major": 2,
       "version_minor": 0
      },
      "text/plain": [
       "\u001b[1;35mEvaluate   \u001b[0m:   0%|                                                        | 0/31360 [00:00<?, ?it/s…"
      ]
     },
     "metadata": {},
     "output_type": "display_data"
    },
    {
     "name": "stderr",
     "output_type": "stream",
     "text": [
      "21 Nov 11:37    INFO  epoch 13 evaluating [time: 119.23s, valid_score: 0.397200]\n",
      "21 Nov 11:37    INFO  valid result: \n",
      "mrr@10 : 0.3972    recall@10 : 0.1444    precision@10 : 0.1709\n"
     ]
    },
    {
     "data": {
      "application/vnd.jupyter.widget-view+json": {
       "model_id": "e432e89c780741f5963fb9604a7df478",
       "version_major": 2,
       "version_minor": 0
      },
      "text/plain": [
       "\u001b[1;35mTrain    14\u001b[0m:   0%|                                                          | 0/123 [00:00<?, ?it/s…"
      ]
     },
     "metadata": {},
     "output_type": "display_data"
    },
    {
     "name": "stderr",
     "output_type": "stream",
     "text": [
      "21 Nov 11:37    INFO  epoch 14 training [time: 6.82s, train loss: 111015.9019]\n"
     ]
    },
    {
     "data": {
      "application/vnd.jupyter.widget-view+json": {
       "model_id": "8340acbe10644107b8c8838a64f45573",
       "version_major": 2,
       "version_minor": 0
      },
      "text/plain": [
       "\u001b[1;35mEvaluate   \u001b[0m:   0%|                                                        | 0/31360 [00:00<?, ?it/s…"
      ]
     },
     "metadata": {},
     "output_type": "display_data"
    },
    {
     "name": "stderr",
     "output_type": "stream",
     "text": [
      "21 Nov 11:39    INFO  epoch 14 evaluating [time: 132.60s, valid_score: 0.388100]\n",
      "21 Nov 11:39    INFO  valid result: \n",
      "mrr@10 : 0.3881    recall@10 : 0.1436    precision@10 : 0.1685\n"
     ]
    },
    {
     "data": {
      "application/vnd.jupyter.widget-view+json": {
       "model_id": "af59a03a805845a3be2053d6af0ee6b4",
       "version_major": 2,
       "version_minor": 0
      },
      "text/plain": [
       "\u001b[1;35mTrain    15\u001b[0m:   0%|                                                          | 0/123 [00:00<?, ?it/s…"
      ]
     },
     "metadata": {},
     "output_type": "display_data"
    },
    {
     "name": "stderr",
     "output_type": "stream",
     "text": [
      "21 Nov 11:39    INFO  epoch 15 training [time: 6.83s, train loss: 110756.8287]\n"
     ]
    },
    {
     "data": {
      "application/vnd.jupyter.widget-view+json": {
       "model_id": "907eaeb17fc54b5981983138e3c5526f",
       "version_major": 2,
       "version_minor": 0
      },
      "text/plain": [
       "\u001b[1;35mEvaluate   \u001b[0m:   0%|                                                        | 0/31360 [00:00<?, ?it/s…"
      ]
     },
     "metadata": {},
     "output_type": "display_data"
    },
    {
     "name": "stderr",
     "output_type": "stream",
     "text": [
      "21 Nov 11:42    INFO  epoch 15 evaluating [time: 140.99s, valid_score: 0.394500]\n",
      "21 Nov 11:42    INFO  valid result: \n",
      "mrr@10 : 0.3945    recall@10 : 0.1443    precision@10 : 0.1704\n"
     ]
    },
    {
     "data": {
      "application/vnd.jupyter.widget-view+json": {
       "model_id": "49ff06c35341467480b86764f8d58676",
       "version_major": 2,
       "version_minor": 0
      },
      "text/plain": [
       "\u001b[1;35mTrain    16\u001b[0m:   0%|                                                          | 0/123 [00:00<?, ?it/s…"
      ]
     },
     "metadata": {},
     "output_type": "display_data"
    },
    {
     "name": "stderr",
     "output_type": "stream",
     "text": [
      "21 Nov 11:42    INFO  epoch 16 training [time: 7.79s, train loss: 110650.0914]\n"
     ]
    },
    {
     "data": {
      "application/vnd.jupyter.widget-view+json": {
       "model_id": "205b3e2d18454292953bbd7d188c9b4d",
       "version_major": 2,
       "version_minor": 0
      },
      "text/plain": [
       "\u001b[1;35mEvaluate   \u001b[0m:   0%|                                                        | 0/31360 [00:00<?, ?it/s…"
      ]
     },
     "metadata": {},
     "output_type": "display_data"
    },
    {
     "name": "stderr",
     "output_type": "stream",
     "text": [
      "21 Nov 11:44    INFO  epoch 16 evaluating [time: 155.03s, valid_score: 0.391900]\n",
      "21 Nov 11:44    INFO  valid result: \n",
      "mrr@10 : 0.3919    recall@10 : 0.144    precision@10 : 0.1694\n"
     ]
    },
    {
     "data": {
      "application/vnd.jupyter.widget-view+json": {
       "model_id": "0333caf0b8504d2998d3487c8d811a0a",
       "version_major": 2,
       "version_minor": 0
      },
      "text/plain": [
       "\u001b[1;35mTrain    17\u001b[0m:   0%|                                                          | 0/123 [00:00<?, ?it/s…"
      ]
     },
     "metadata": {},
     "output_type": "display_data"
    },
    {
     "name": "stderr",
     "output_type": "stream",
     "text": [
      "21 Nov 11:44    INFO  epoch 17 training [time: 7.52s, train loss: 110538.0012]\n"
     ]
    },
    {
     "data": {
      "application/vnd.jupyter.widget-view+json": {
       "model_id": "47edfa26010340b3b5771b9d7eaf6400",
       "version_major": 2,
       "version_minor": 0
      },
      "text/plain": [
       "\u001b[1;35mEvaluate   \u001b[0m:   0%|                                                        | 0/31360 [00:00<?, ?it/s…"
      ]
     },
     "metadata": {},
     "output_type": "display_data"
    },
    {
     "name": "stderr",
     "output_type": "stream",
     "text": [
      "21 Nov 11:47    INFO  epoch 17 evaluating [time: 152.55s, valid_score: 0.392800]\n",
      "21 Nov 11:47    INFO  valid result: \n",
      "mrr@10 : 0.3928    recall@10 : 0.1442    precision@10 : 0.17\n",
      "21 Nov 11:47    INFO  Finished training, best eval result in epoch 6\n",
      "c:\\Users\\seong\\anaconda3\\Lib\\site-packages\\recbole\\trainer\\trainer.py:579: FutureWarning: You are using `torch.load` with `weights_only=False` (the current default value), which uses the default pickle module implicitly. It is possible to construct malicious pickle data which will execute arbitrary code during unpickling (See https://github.com/pytorch/pytorch/blob/main/SECURITY.md#untrusted-models for more details). In a future release, the default value for `weights_only` will be flipped to `True`. This limits the functions that could be executed during unpickling. Arbitrary objects will no longer be allowed to be loaded via this mode unless they are explicitly allowlisted by the user via `torch.serialization.add_safe_globals`. We recommend you start setting `weights_only=True` for any use case where you don't have full control of the loaded file. Please open an issue on GitHub for any issues related to this experimental feature.\n",
      "  checkpoint = torch.load(checkpoint_file, map_location=self.device)\n",
      "21 Nov 11:47    INFO  Loading model structure and parameters from saved\\MultiVAE-Nov-21-2024_11-04-28.pth\n"
     ]
    },
    {
     "data": {
      "application/vnd.jupyter.widget-view+json": {
       "model_id": "d0ad2f8e0fe840c08c403e4b178ca601",
       "version_major": 2,
       "version_minor": 0
      },
      "text/plain": [
       "\u001b[1;35mEvaluate   \u001b[0m:   0%|                                                        | 0/31360 [00:00<?, ?it/s…"
      ]
     },
     "metadata": {},
     "output_type": "display_data"
    },
    {
     "name": "stderr",
     "output_type": "stream",
     "text": [
      "21 Nov 11:49    INFO  The running environment of this training is as follows:\n",
      "+-------------+----------------+\n",
      "| Environment |     Usage      |\n",
      "+=============+================+\n",
      "| CPU         |     4.00 %     |\n",
      "+-------------+----------------+\n",
      "| GPU         |   0.0 / 0.0    |\n",
      "+-------------+----------------+\n",
      "| Memory      | 1.76 G/15.57 G |\n",
      "+-------------+----------------+\n",
      "21 Nov 11:49    INFO  best valid : OrderedDict([('mrr@10', 0.4075), ('recall@10', 0.1443), ('precision@10', 0.1733)])\n",
      "21 Nov 11:49    INFO  test result: OrderedDict([('mrr@10', 0.4758), ('recall@10', 0.1639), ('precision@10', 0.2069)])\n"
     ]
    },
    {
     "data": {
      "text/plain": [
       "{'best_valid_score': 0.4075,\n",
       " 'valid_score_bigger': True,\n",
       " 'best_valid_result': OrderedDict([('mrr@10', 0.4075),\n",
       "              ('recall@10', 0.1443),\n",
       "              ('precision@10', 0.1733)]),\n",
       " 'test_result': OrderedDict([('mrr@10', 0.4758),\n",
       "              ('recall@10', 0.1639),\n",
       "              ('precision@10', 0.2069)])}"
      ]
     },
     "execution_count": 2,
     "metadata": {},
     "output_type": "execute_result"
    }
   ],
   "source": [
    "run_recbole(config_file_list=['recbole_config.yaml'])"
   ]
  },
  {
   "cell_type": "markdown",
   "metadata": {},
   "source": [
    "### Inference"
   ]
  },
  {
   "cell_type": "code",
   "execution_count": 5,
   "metadata": {},
   "outputs": [
    {
     "name": "stderr",
     "output_type": "stream",
     "text": [
      "c:\\Users\\seong\\anaconda3\\Lib\\site-packages\\recbole\\quick_start\\quick_start.py:250: FutureWarning: You are using `torch.load` with `weights_only=False` (the current default value), which uses the default pickle module implicitly. It is possible to construct malicious pickle data which will execute arbitrary code during unpickling (See https://github.com/pytorch/pytorch/blob/main/SECURITY.md#untrusted-models for more details). In a future release, the default value for `weights_only` will be flipped to `True`. This limits the functions that could be executed during unpickling. Arbitrary objects will no longer be allowed to be loaded via this mode unless they are explicitly allowlisted by the user via `torch.serialization.add_safe_globals`. We recommend you start setting `weights_only=True` for any use case where you don't have full control of the loaded file. Please open an issue on GitHub for any issues related to this experimental feature.\n",
      "  checkpoint = torch.load(model_file)\n",
      "21 Nov 13:22    INFO  \n",
      "General Hyper Parameters:\n",
      "gpu_id = 0\n",
      "use_gpu = True\n",
      "seed = 2020\n",
      "state = INFO\n",
      "reproducibility = True\n",
      "data_path = ../data/train\\train_ratings\n",
      "checkpoint_dir = saved\n",
      "show_progress = True\n",
      "save_dataset = False\n",
      "dataset_save_path = None\n",
      "save_dataloaders = False\n",
      "dataloaders_save_path = None\n",
      "log_wandb = False\n",
      "\n",
      "Training Hyper Parameters:\n",
      "epochs = 20\n",
      "train_batch_size = 256\n",
      "learner = adam\n",
      "learning_rate = 0.001\n",
      "train_neg_sample_args = {'distribution': 'uniform', 'sample_num': 50, 'alpha': 1.0, 'dynamic': False, 'candidate_num': 0}\n",
      "eval_step = 1\n",
      "stopping_step = 10\n",
      "clip_grad_norm = None\n",
      "weight_decay = 0.0\n",
      "loss_decimal_place = 4\n",
      "\n",
      "Evaluation Hyper Parameters:\n",
      "eval_args = {'split': {'RS': [0.8, 0.1, 0.1]}, 'order': 'RO', 'group_by': 'user', 'mode': {'valid': 'full', 'test': 'full'}}\n",
      "repeatable = False\n",
      "metrics = ['mrr', 'recall', 'precision']\n",
      "topk = [10]\n",
      "valid_metric = MRR@10\n",
      "valid_metric_bigger = True\n",
      "eval_batch_size = 4096\n",
      "metric_decimal_place = 4\n",
      "\n",
      "Dataset Hyper Parameters:\n",
      "field_separator = \t\n",
      "seq_separator =  \n",
      "USER_ID_FIELD = user_id\n",
      "ITEM_ID_FIELD = item_id\n",
      "RATING_FIELD = rating\n",
      "TIME_FIELD = timestamp\n",
      "seq_len = None\n",
      "LABEL_FIELD = label\n",
      "threshold = None\n",
      "NEG_PREFIX = neg_\n",
      "load_col = {'inter': ['user_id', 'item_id']}\n",
      "unload_col = None\n",
      "unused_col = None\n",
      "additional_feat_suffix = None\n",
      "rm_dup_inter = None\n",
      "val_interval = None\n",
      "filter_inter_by_user_or_item = True\n",
      "user_inter_num_interval = [0,inf)\n",
      "item_inter_num_interval = [0,inf)\n",
      "alias_of_user_id = None\n",
      "alias_of_item_id = None\n",
      "alias_of_entity_id = None\n",
      "alias_of_relation_id = None\n",
      "preload_weight = None\n",
      "normalize_field = None\n",
      "normalize_all = None\n",
      "ITEM_LIST_LENGTH_FIELD = item_length\n",
      "LIST_SUFFIX = _list\n",
      "MAX_ITEM_LIST_LENGTH = 50\n",
      "POSITION_FIELD = position_id\n",
      "HEAD_ENTITY_ID_FIELD = head_id\n",
      "TAIL_ENTITY_ID_FIELD = tail_id\n",
      "RELATION_ID_FIELD = relation_id\n",
      "ENTITY_ID_FIELD = entity_id\n",
      "benchmark_filename = None\n",
      "\n",
      "Other Hyper Parameters: \n",
      "worker = 0\n",
      "wandb_project = recbole\n",
      "shuffle = True\n",
      "require_pow = False\n",
      "enable_amp = False\n",
      "enable_scaler = False\n",
      "transform = None\n",
      "mlp_hidden_size = [600]\n",
      "latent_dimension = 128\n",
      "dropout_prob = 0.5\n",
      "anneal_cap = 0.2\n",
      "total_anneal_steps = 200000\n",
      "numerical_features = []\n",
      "discretization = None\n",
      "kg_reverse_r = False\n",
      "entity_kg_num_interval = [0,inf)\n",
      "relation_kg_num_interval = [0,inf)\n",
      "MODEL_TYPE = ModelType.GENERAL\n",
      "loss_type = BPR\n",
      "embedding_size = 64\n",
      "MODEL_INPUT_TYPE = InputType.PAIRWISE\n",
      "eval_type = EvaluatorType.RANKING\n",
      "single_spec = True\n",
      "local_rank = 0\n",
      "device = cpu\n",
      "valid_neg_sample_args = {'distribution': 'uniform', 'sample_num': 'none'}\n",
      "test_neg_sample_args = {'distribution': 'uniform', 'sample_num': 'none'}\n",
      "\n",
      "\n",
      "21 Nov 13:22    INFO  train_ratings\n",
      "The number of users: 31361\n",
      "Average actions of users: 164.36450892857144\n",
      "The number of items: 6808\n",
      "Average actions of items: 757.2309387395328\n",
      "The number of inters: 5154471\n",
      "The sparsity of the dataset: 97.58579218741939%\n",
      "Remain Fields: ['user_id', 'item_id']\n",
      "21 Nov 13:23    INFO  [Training]: train_batch_size = [256] train_neg_sample_args: [{'distribution': 'uniform', 'sample_num': 50, 'alpha': 1.0, 'dynamic': False, 'candidate_num': 0}]\n",
      "21 Nov 13:23    INFO  [Evaluation]: eval_batch_size = [4096] eval_args: [{'split': {'RS': [0.8, 0.1, 0.1]}, 'order': 'RO', 'group_by': 'user', 'mode': {'valid': 'full', 'test': 'full'}}]\n",
      "21 Nov 13:23    WARNING  Max value of user's history interaction records has reached 34.22444183313749% of the total.\n"
     ]
    }
   ],
   "source": [
    "# model, dataset 불러오기\n",
    "model_path = 'saved/MultiVAE-Nov-21-2024_11-04-28.pth'\n",
    "config, model, dataset, train_data, valid_data, test_data = load_data_and_model(model_path)\n",
    "    \n",
    "# device 설정\n",
    "device = config.final_config_dict['device']"
   ]
  },
  {
   "cell_type": "code",
   "execution_count": 8,
   "metadata": {},
   "outputs": [],
   "source": [
    "# user, item id -> token 변환 array\n",
    "user_id2token = dataset.field2id_token['user_id']\n",
    "item_id2token = dataset.field2id_token['item_id']\n",
    "    \n",
    "# user-item sparse matrix\n",
    "matrix = dataset.inter_matrix(form='csr')"
   ]
  },
  {
   "cell_type": "code",
   "execution_count": 9,
   "metadata": {},
   "outputs": [],
   "source": [
    "# user id, predict item id 저장 변수\n",
    "pred_list = None\n",
    "user_list = None\n",
    "    \n",
    "model.eval()\n",
    "for data in test_data:\n",
    "    interaction = data[0].to(device)\n",
    "    score = model.full_sort_predict(interaction)\n",
    "        \n",
    "    rating_pred = score.cpu().data.numpy().copy()\n",
    "    user_id = interaction['user_id'].cpu().numpy()\n",
    "        \n",
    "    # 사용자가 상호작용한 아이템 인덱스를 가져옵니다.\n",
    "    interacted_indices = matrix[user_id].indices\n",
    "\n",
    "    # 상호작용한 아이템의 점수를 0으로 설정합니다.\n",
    "    rating_pred[interacted_indices] = 0\n",
    "\n",
    "    # 상위 10개 아이템 인덱스 추출\n",
    "    ind = np.argpartition(rating_pred, -10)[-10:]\n",
    "    arr_ind = rating_pred[ind]\n",
    "       \n",
    "    # 추출된 값들을 내림차순으로 정렬하기 위한 인덱스를 얻음\n",
    "    arr_ind_argsort = np.argsort(arr_ind)[::-1]\n",
    "\n",
    "    # 실제 값들을 정렬된 순서대로 인덱스 배열에 적용\n",
    "    batch_pred_list = ind[arr_ind_argsort]\n",
    "        \n",
    "    # 예측값 저장\n",
    "    if pred_list is None:\n",
    "        pred_list = batch_pred_list\n",
    "        # batch_pred_list 길이만큼 user_id를 반복\n",
    "        user_list = np.repeat(user_id, len(batch_pred_list))\n",
    "    else:\n",
    "        pred_list = np.append(pred_list, batch_pred_list, axis=0)\n",
    "        # batch_pred_list 길이만큼 user_id를 반복하여 추가\n",
    "        user_list = np.append(user_list, np.repeat(user_id, len(batch_pred_list)), axis=0)\n"
   ]
  },
  {
   "cell_type": "code",
   "execution_count": 12,
   "metadata": {},
   "outputs": [],
   "source": [
    "# 결과를 저장할 빈 리스트 초기화\n",
    "final_result = []\n",
    "\n",
    "# user_list와 pred_list에 있는 인덱스를 실제 'resume_seq'와 'recruitment_seq'로 변환\n",
    "for user, item in zip(user_list, pred_list):\n",
    "    # user_id2token을 사용하여 변환된 사용자 ID를 얻고\n",
    "    # index_to_resume_seq을 사용하여 원래의 'resume_seq'로 변환\n",
    "    original_user_seq = user_id2token[user]\n",
    "\n",
    "    # item_id2token을 사용하여 변환된 아이템 ID를 얻고\n",
    "    # index_to_recruitment_seq을 사용하여 원래의 'recruitment_seq'로 변환\n",
    "    original_item_seq = item_id2token[item]\n",
    "\n",
    "    # 최종 결과에 추가\n",
    "    final_result.append((original_user_seq, original_item_seq))\n"
   ]
  },
  {
   "cell_type": "code",
   "execution_count": 20,
   "metadata": {},
   "outputs": [
    {
     "name": "stdout",
     "output_type": "stream",
     "text": [
      "Final mapping done and saved to CSV!\n"
     ]
    }
   ],
   "source": [
    "# 결과를 DataFrame으로 변환하고 CSV 파일로 저장\n",
    "final_dataframe = pd.DataFrame(final_result, columns=['user', 'item'])\n",
    "final_dataframe.to_csv('../data/eval/recbole_multivae.csv', index=False)\n",
    "print('Final mapping done and saved to CSV!')"
   ]
  }
 ],
 "metadata": {
  "kernelspec": {
   "display_name": "base",
   "language": "python",
   "name": "python3"
  },
  "language_info": {
   "codemirror_mode": {
    "name": "ipython",
    "version": 3
   },
   "file_extension": ".py",
   "mimetype": "text/x-python",
   "name": "python",
   "nbconvert_exporter": "python",
   "pygments_lexer": "ipython3",
   "version": "3.11.5"
  }
 },
 "nbformat": 4,
 "nbformat_minor": 2
}
