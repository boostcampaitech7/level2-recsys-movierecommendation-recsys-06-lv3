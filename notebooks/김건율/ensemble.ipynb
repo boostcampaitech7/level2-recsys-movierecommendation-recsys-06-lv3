{
 "cells": [
  {
   "cell_type": "code",
   "execution_count": 1,
   "metadata": {},
   "outputs": [],
   "source": [
    "import os, sys\n",
    "import pandas as pd\n",
    "import numpy as np\n",
    "import json"
   ]
  },
  {
   "cell_type": "code",
   "execution_count": 2,
   "metadata": {},
   "outputs": [
    {
     "name": "stdout",
     "output_type": "stream",
     "text": [
      "d:\\base\\boostcamp\\temp\\code\n"
     ]
    }
   ],
   "source": [
    "# path 설정\n",
    "sys.path.append((os.path.abspath(\"\")))\n",
    "print(sys.path[-1])"
   ]
  },
  {
   "cell_type": "code",
   "execution_count": 3,
   "metadata": {},
   "outputs": [],
   "source": [
    "data_path: str = \"data/eval/ens\"\n",
    "ease: pd.DataFrame = pd.read_csv(os.path.join(data_path,\"submission-ease.csv\"))\n",
    "recvae: pd.DataFrame = pd.read_csv(os.path.join(data_path,\"recvae_100_score.csv\"))\n",
    "bert: pd.DataFrame = pd.read_csv(os.path.join(data_path,\"recbole_bert4rec_top20_score.csv\"))\n",
    "lgcn: pd.DataFrame = pd.read_csv(os.path.join(data_path,\"recbole_lightgcn_1126_top20_score.csv\"))\n",
    "admm: pd.DataFrame = pd.read_csv(os.path.join(data_path,\"recbole_ADMMSLIM_100_top20_score.csv\"))\n",
    "autoint: pd.DataFrame = pd.read_csv(os.path.join(data_path,\"recbole_autoint_top20_score.csv\"))\n",
    "bpr: pd.DataFrame = pd.read_csv(os.path.join(data_path,\"recbole_bpr_top20_score.csv\"))\n",
    "gru: pd.DataFrame = pd.read_csv(os.path.join(data_path,\"recbole_gru4recf_top20_score.csv\"))\n"
   ]
  },
  {
   "cell_type": "code",
   "execution_count": 4,
   "metadata": {},
   "outputs": [],
   "source": [
    "# 각 데이터프레임에 대해 유저별 순위 매기기\n",
    "ease['rank'] = ease.groupby('user').cumcount() + 1\n",
    "recvae['rank'] = recvae.groupby('user').cumcount() + 1  \n",
    "bert['rank'] = bert.groupby('user').cumcount() + 1\n",
    "lgcn['rank'] = lgcn.groupby('user').cumcount() + 1\n",
    "admm['rank'] = admm.groupby('user').cumcount() + 1\n",
    "autoint['rank'] = autoint.groupby('user').cumcount() + 1\n",
    "bpr['rank'] = bpr.groupby('user').cumcount() + 1\n",
    "gru['rank'] = gru.groupby('user').cumcount() + 1\n"
   ]
  },
  {
   "cell_type": "code",
   "execution_count": 5,
   "metadata": {},
   "outputs": [
    {
     "name": "stderr",
     "output_type": "stream",
     "text": [
      "Rank Aggregation with Normalization: 100%|██████████| 31360/31360 [01:32<00:00, 338.16it/s]\n"
     ]
    }
   ],
   "source": [
    "### 순위 합산\n",
    "\n",
    "import pandas as pd\n",
    "from collections import defaultdict\n",
    "from tqdm import tqdm\n",
    "\n",
    "dataframe_list = [ease, admm, gru, recvae, lgcn]\n",
    "user_list = dataframe_list[0]['user'].unique()\n",
    "result = []\n",
    "tbar = tqdm(user_list, desc='Rank Aggregation with Normalization')\n",
    "for user in tbar:\n",
    "    rank_sum = defaultdict(float)\n",
    "    for df_idx, df in enumerate(dataframe_list):\n",
    "        items = df[df['user'] == user]['item'].values\n",
    "        max_rank = min(len(items), 20)\n",
    "        for rank_idx in range(max_rank):\n",
    "            # 순위를 정규화하여 합산 (1위는 1, 20위는 0.05)\n",
    "            normalized_rank = (max_rank - rank_idx) / max_rank\n",
    "            rank_sum[items[rank_idx]] += normalized_rank\n",
    "    # 순위의 합이 낮을수록 좋은 아이템 선택\n",
    "    top_items = sorted(rank_sum.items(), key=lambda x: x[1], reverse=True)[:10]\n",
    "    for item, _ in top_items:\n",
    "        result.append((user, item))\n",
    "submission = pd.DataFrame(result, columns=['user', 'item'])"
   ]
  },
  {
   "cell_type": "code",
   "execution_count": null,
   "metadata": {},
   "outputs": [],
   "source": [
    "# ### 등장횟수 합산\n",
    "\n",
    "\n",
    "# # 각 유저별로 아이템 등장 횟수를 계산\n",
    "# result = []\n",
    "# user_list = ease['user'].unique()\n",
    "# tbar = tqdm(user_list, desc='Rank Aggregation with Count')\n",
    "\n",
    "# for user in tbar:\n",
    "#     item_count = defaultdict(int)\n",
    "    \n",
    "#     # ease와 admm 각각에서 해당 유저의 아이템 카운트\n",
    "#     for df in [ease, admm]:\n",
    "#         user_items = df[df['user'] == user]['item'].values\n",
    "#         for item in user_items[:20]:  # 상위 20개 아이템만 고려\n",
    "#             item_count[item] += 1\n",
    "            \n",
    "#     # 카운트가 높은 순으로 정렬하여 상위 10개 아이템 선택\n",
    "#     top_items = sorted(item_count.items(), key=lambda x: x[1], reverse=True)[:10]\n",
    "    \n",
    "#     # 결과에 추가\n",
    "#     for item, _ in top_items:\n",
    "#         result.append((user, item))\n",
    "\n",
    "# submission = pd.DataFrame(result, columns=['user', 'item'])\n"
   ]
  },
  {
   "cell_type": "code",
   "execution_count": 6,
   "metadata": {},
   "outputs": [
    {
     "data": {
      "text/html": [
       "<div>\n",
       "<style scoped>\n",
       "    .dataframe tbody tr th:only-of-type {\n",
       "        vertical-align: middle;\n",
       "    }\n",
       "\n",
       "    .dataframe tbody tr th {\n",
       "        vertical-align: top;\n",
       "    }\n",
       "\n",
       "    .dataframe thead th {\n",
       "        text-align: right;\n",
       "    }\n",
       "</style>\n",
       "<table border=\"1\" class=\"dataframe\">\n",
       "  <thead>\n",
       "    <tr style=\"text-align: right;\">\n",
       "      <th></th>\n",
       "      <th>user</th>\n",
       "      <th>item</th>\n",
       "    </tr>\n",
       "  </thead>\n",
       "  <tbody>\n",
       "    <tr>\n",
       "      <th>0</th>\n",
       "      <td>11</td>\n",
       "      <td>4886</td>\n",
       "    </tr>\n",
       "    <tr>\n",
       "      <th>1</th>\n",
       "      <td>11</td>\n",
       "      <td>4370</td>\n",
       "    </tr>\n",
       "    <tr>\n",
       "      <th>2</th>\n",
       "      <td>11</td>\n",
       "      <td>8961</td>\n",
       "    </tr>\n",
       "    <tr>\n",
       "      <th>3</th>\n",
       "      <td>11</td>\n",
       "      <td>32587</td>\n",
       "    </tr>\n",
       "    <tr>\n",
       "      <th>4</th>\n",
       "      <td>11</td>\n",
       "      <td>40815</td>\n",
       "    </tr>\n",
       "    <tr>\n",
       "      <th>...</th>\n",
       "      <td>...</td>\n",
       "      <td>...</td>\n",
       "    </tr>\n",
       "    <tr>\n",
       "      <th>313595</th>\n",
       "      <td>138493</td>\n",
       "      <td>48394</td>\n",
       "    </tr>\n",
       "    <tr>\n",
       "      <th>313596</th>\n",
       "      <td>138493</td>\n",
       "      <td>8961</td>\n",
       "    </tr>\n",
       "    <tr>\n",
       "      <th>313597</th>\n",
       "      <td>138493</td>\n",
       "      <td>5349</td>\n",
       "    </tr>\n",
       "    <tr>\n",
       "      <th>313598</th>\n",
       "      <td>138493</td>\n",
       "      <td>53125</td>\n",
       "    </tr>\n",
       "    <tr>\n",
       "      <th>313599</th>\n",
       "      <td>138493</td>\n",
       "      <td>2012</td>\n",
       "    </tr>\n",
       "  </tbody>\n",
       "</table>\n",
       "<p>313600 rows × 2 columns</p>\n",
       "</div>"
      ],
      "text/plain": [
       "          user   item\n",
       "0           11   4886\n",
       "1           11   4370\n",
       "2           11   8961\n",
       "3           11  32587\n",
       "4           11  40815\n",
       "...        ...    ...\n",
       "313595  138493  48394\n",
       "313596  138493   8961\n",
       "313597  138493   5349\n",
       "313598  138493  53125\n",
       "313599  138493   2012\n",
       "\n",
       "[313600 rows x 2 columns]"
      ]
     },
     "execution_count": 6,
     "metadata": {},
     "output_type": "execute_result"
    }
   ],
   "source": [
    "submission\n"
   ]
  },
  {
   "cell_type": "code",
   "execution_count": 7,
   "metadata": {},
   "outputs": [],
   "source": [
    "sub_path = \"data/eval/ens/submission\"\n",
    "submission.to_csv(os.path.join(sub_path,\"ens_hard_esgrl.csv\"), index=False)"
   ]
  }
 ],
 "metadata": {
  "kernelspec": {
   "display_name": "apart",
   "language": "python",
   "name": "python3"
  },
  "language_info": {
   "codemirror_mode": {
    "name": "ipython",
    "version": 3
   },
   "file_extension": ".py",
   "mimetype": "text/x-python",
   "name": "python",
   "nbconvert_exporter": "python",
   "pygments_lexer": "ipython3",
   "version": "3.9.20"
  }
 },
 "nbformat": 4,
 "nbformat_minor": 2
}
