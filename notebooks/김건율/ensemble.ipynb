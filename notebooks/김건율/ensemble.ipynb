{
 "cells": [
  {
   "cell_type": "code",
   "execution_count": 1,
   "metadata": {},
   "outputs": [],
   "source": [
    "import os, sys\n",
    "import pandas as pd\n",
    "import numpy as np\n",
    "import json"
   ]
  },
  {
   "cell_type": "code",
   "execution_count": 2,
   "metadata": {},
   "outputs": [
    {
     "name": "stdout",
     "output_type": "stream",
     "text": [
      "d:\\base\\boostcamp\\temp\\code\n"
     ]
    }
   ],
   "source": [
    "# path 설정\n",
    "sys.path.append((os.path.abspath(\"\")))\n",
    "print(sys.path[-1])"
   ]
  },
  {
   "cell_type": "code",
   "execution_count": 3,
   "metadata": {},
   "outputs": [],
   "source": [
    "data_path: str = \"data/eval/top20\"\n",
    "ease: pd.DataFrame = pd.read_csv(os.path.join(data_path,\"recbole_ease_1.csv\"))\n",
    "recvae: pd.DataFrame = pd.read_csv(os.path.join(data_path,\"recbole_recvae_2.csv\"))\n",
    "ract: pd.DataFrame = pd.read_csv(os.path.join(data_path,\"recbole_ract_subinfo_1.csv\"))\n",
    "bert: pd.DataFrame = pd.read_csv(os.path.join(data_path,\"recbole_bert4rec_top20.csv\"))\n",
    "lgcn: pd.DataFrame = pd.read_csv(os.path.join(data_path,\"recbole_lightgcn_top20.csv\"))\n"
   ]
  },
  {
   "cell_type": "code",
   "execution_count": null,
   "metadata": {},
   "outputs": [],
   "source": [
    "bert"
   ]
  },
  {
   "cell_type": "code",
   "execution_count": null,
   "metadata": {},
   "outputs": [],
   "source": [
    "lgcn"
   ]
  },
  {
   "cell_type": "code",
   "execution_count": 4,
   "metadata": {},
   "outputs": [],
   "source": [
    "# 각 데이터프레임에 대해 유저별 순위 매기기\n",
    "ease['rank'] = ease.groupby('user').cumcount() + 1\n",
    "recvae['rank'] = recvae.groupby('user').cumcount() + 1  \n",
    "ract['rank'] = ract.groupby('user').cumcount() + 1\n",
    "bert['rank'] = bert.groupby('user').cumcount() + 1\n",
    "lgcn['rank'] = lgcn.groupby('user').cumcount() + 1\n"
   ]
  },
  {
   "cell_type": "code",
   "execution_count": 5,
   "metadata": {},
   "outputs": [
    {
     "name": "stderr",
     "output_type": "stream",
     "text": [
      "Rank Aggregation with Normalization: 100%|██████████| 31360/31360 [01:32<00:00, 337.89it/s]\n"
     ]
    }
   ],
   "source": [
    "import pandas as pd\n",
    "from collections import defaultdict\n",
    "from tqdm import tqdm\n",
    "\n",
    "dataframe_list = [ease, recvae, ract, bert, lgcn]\n",
    "user_list = dataframe_list[0]['user'].unique()\n",
    "result = []\n",
    "tbar = tqdm(user_list, desc='Rank Aggregation with Normalization')\n",
    "for user in tbar:\n",
    "    rank_sum = defaultdict(float)\n",
    "    for df_idx, df in enumerate(dataframe_list):\n",
    "        items = df[df['user'] == user]['item'].values\n",
    "        max_rank = min(len(items), 20)\n",
    "        for rank_idx in range(max_rank):\n",
    "            # 순위를 정규화하여 합산 (1위는 1, 20위는 0.05)\n",
    "            normalized_rank = (max_rank - rank_idx) / max_rank\n",
    "            rank_sum[items[rank_idx]] += normalized_rank\n",
    "    # 순위의 합이 낮을수록 좋은 아이템 선택\n",
    "    top_items = sorted(rank_sum.items(), key=lambda x: x[1], reverse=True)[:10]\n",
    "    for item, _ in top_items:\n",
    "        result.append((user, item))\n",
    "submission = pd.DataFrame(result, columns=['user', 'item'])"
   ]
  },
  {
   "cell_type": "code",
   "execution_count": 10,
   "metadata": {},
   "outputs": [],
   "source": [
    "submission.to_csv(os.path.join(data_path,\"ensemble_rank_normalization.csv\"), index=False)\n"
   ]
  },
  {
   "cell_type": "code",
   "execution_count": null,
   "metadata": {},
   "outputs": [],
   "source": [
    "# 각 데이터프레임의 인덱스를 점수로 활용하기 위해 순위 컬럼 추가\n",
    "ease['rank'] = ease.groupby('user').cumcount() \n",
    "recvae['rank'] = recvae.groupby('user').cumcount()\n",
    "ract['rank'] = ract.groupby('user').cumcount()\n",
    "bert['rank'] = bert.groupby('user').cumcount()\n",
    "lgcn['rank'] = lgcn.groupby('user').cumcount()\n",
    "\n",
    "# 각 모델의 추천 결과를 하나로 합치기\n",
    "merged_df = pd.concat([\n",
    "    ease.assign(model='ease'),\n",
    "    recvae.assign(model='recvae'), \n",
    "    ract.assign(model='ract'),\n",
    "    bert.assign(model='bert'),\n",
    "    lgcn.assign(model='lgcn')\n",
    "])\n",
    "\n",
    "# 각 user-item 쌍이 몇 개의 모델에서 추천되었는지 계산\n",
    "item_counts = merged_df.groupby(['user', 'item']).size().reset_index(name='model_count')\n",
    "\n",
    "# ease 모델의 순위 정보 가져오기\n",
    "ease_ranks = ease[['user', 'item', 'rank']].copy()\n",
    "ease_ranks.columns = ['user', 'item', 'ease_rank']\n",
    "\n",
    "# item_counts와 ease_ranks 병합\n",
    "final_scores = item_counts.merge(ease_ranks, on=['user', 'item'], how='left')\n",
    "\n",
    "# model_count가 높을수록, ease_rank가 낮을수록 좋은 추천으로 정렬\n",
    "final_recommendations = (final_scores.sort_values(['user', 'model_count', 'ease_rank'], \n",
    "                                               ascending=[True, False, True])\n",
    "                       .groupby('user')\n",
    "                       .head(10)\n",
    "                       .sort_values(['user', 'model_count', 'ease_rank'])\n",
    "                       [['user', 'item', 'model_count']]\n",
    "                       .reset_index(drop=True))\n",
    "\n",
    "# 결과 확인\n",
    "print(f\"최종 추천 결과 shape: {final_recommendations.shape}\")\n",
    "final_recommendations\n"
   ]
  },
  {
   "cell_type": "code",
   "execution_count": null,
   "metadata": {},
   "outputs": [],
   "source": [
    "final_recommendations['model_count'].value_counts()"
   ]
  },
  {
   "cell_type": "code",
   "execution_count": null,
   "metadata": {},
   "outputs": [],
   "source": [
    "final_recommendations[final_recommendations['user']==14]"
   ]
  },
  {
   "cell_type": "code",
   "execution_count": null,
   "metadata": {},
   "outputs": [],
   "source": [
    "final_recommendations = final_recommendations.loc[:,['user','item']]\n",
    "final_recommendations"
   ]
  },
  {
   "cell_type": "code",
   "execution_count": 8,
   "metadata": {},
   "outputs": [],
   "source": [
    "rec:pd.DataFrame = pd.read_csv(os.path.join(data_path,\"ensemble_ease_recvae_ract_top20.csv\"))"
   ]
  },
  {
   "cell_type": "code",
   "execution_count": 9,
   "metadata": {},
   "outputs": [
    {
     "name": "stdout",
     "output_type": "stream",
     "text": [
      "\n",
      "데이터프레임 비교 결과:\n",
      "공통 항목: 232399개\n",
      "rec에만 있는 항목: 81201개\n",
      "final_recommendations에만 있는 항목: 81201개\n",
      "\n",
      "사용자별 차이:\n",
      "_merge  left_only  right_only  both\n",
      "user                               \n",
      "11              2           2     8\n",
      "14              2           2     8\n",
      "18              2           2     8\n",
      "25              1           1     9\n",
      "31              2           2     8\n",
      "...           ...         ...   ...\n",
      "138473          1           1     9\n",
      "138475          2           2     8\n",
      "138486          3           3     7\n",
      "138492          3           3     7\n",
      "138493          3           3     7\n",
      "\n",
      "[31360 rows x 3 columns]\n"
     ]
    }
   ],
   "source": [
    "# user별로 각 DataFrame의 item이 얼마나 다른지 비교\n",
    "comparison = pd.merge(rec, submission, on=['user', 'item'], how='outer', indicator=True)\n",
    "\n",
    "# '_merge' 컬럼의 값에 따라 차이 계산\n",
    "diff_counts = comparison['_merge'].value_counts()\n",
    "print(\"\\n데이터프레임 비교 결과:\")\n",
    "print(f\"공통 항목: {diff_counts.get('both', 0)}개\")\n",
    "print(f\"rec에만 있는 항목: {diff_counts.get('left_only', 0)}개\") \n",
    "print(f\"final_recommendations에만 있는 항목: {diff_counts.get('right_only', 0)}개\")\n",
    "\n",
    "# user별 차이 계산\n",
    "user_diff = comparison.groupby('user')['_merge'].value_counts().unstack(fill_value=0)\n",
    "print(\"\\n사용자별 차이:\")\n",
    "print(user_diff)\n"
   ]
  }
 ],
 "metadata": {
  "kernelspec": {
   "display_name": "apart",
   "language": "python",
   "name": "python3"
  },
  "language_info": {
   "codemirror_mode": {
    "name": "ipython",
    "version": 3
   },
   "file_extension": ".py",
   "mimetype": "text/x-python",
   "name": "python",
   "nbconvert_exporter": "python",
   "pygments_lexer": "ipython3",
   "version": "3.9.20"
  }
 },
 "nbformat": 4,
 "nbformat_minor": 2
}
