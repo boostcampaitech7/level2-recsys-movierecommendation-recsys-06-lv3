{
 "cells": [
  {
   "cell_type": "code",
   "execution_count": 1,
   "metadata": {},
   "outputs": [],
   "source": [
    "import argparse\n",
    "import torch\n",
    "import numpy as np\n",
    "import pandas as pd\n",
    "\n",
    "from recbole.quick_start import run_recbole, load_data_and_model"
   ]
  },
  {
   "cell_type": "markdown",
   "metadata": {},
   "source": [
    "### Train & Valid"
   ]
  },
  {
   "cell_type": "code",
   "execution_count": 2,
   "metadata": {},
   "outputs": [
    {
     "name": "stderr",
     "output_type": "stream",
     "text": [
      "25 Nov 15:50    INFO  ['d:\\\\Program\\\\Dev\\\\ANACONDA\\\\envs\\\\movie\\\\lib\\\\site-packages\\\\ipykernel_launcher.py', '--f=c:\\\\Users\\\\shgkd\\\\AppData\\\\Roaming\\\\jupyter\\\\runtime\\\\kernel-v38138ed61a68218be37be66596d9d60a357fdaa6e.json']\n",
      "25 Nov 15:50    INFO  \n",
      "General Hyper Parameters:\n",
      "gpu_id = 0\n",
      "use_gpu = True\n",
      "seed = 2020\n",
      "state = INFO\n",
      "reproducibility = True\n",
      "data_path = ./data/train\\train_ratings\n",
      "checkpoint_dir = saved\n",
      "show_progress = True\n",
      "save_dataset = False\n",
      "dataset_save_path = None\n",
      "save_dataloaders = False\n",
      "dataloaders_save_path = None\n",
      "log_wandb = False\n",
      "\n",
      "Training Hyper Parameters:\n",
      "epochs = 200\n",
      "train_batch_size = 256\n",
      "learner = adam\n",
      "learning_rate = 0.0001\n",
      "train_neg_sample_args = {'distribution': 'uniform', 'sample_num': 1, 'alpha': 1.0, 'dynamic': False, 'candidate_num': 0}\n",
      "eval_step = 1\n",
      "stopping_step = 10\n",
      "clip_grad_norm = None\n",
      "weight_decay = 0.0\n",
      "loss_decimal_place = 4\n",
      "\n",
      "Evaluation Hyper Parameters:\n",
      "eval_args = {'split': {'RS': [0.8, 0.15, 0.05]}, 'order': 'RO', 'group_by': 'user', 'mode': {'valid': 'full', 'test': 'full'}}\n",
      "repeatable = False\n",
      "metrics = ['recall', 'ndcg', 'precision', 'mrr']\n",
      "topk = [10, 20, 50]\n",
      "valid_metric = recall@10\n",
      "valid_metric_bigger = True\n",
      "eval_batch_size = 256\n",
      "metric_decimal_place = 4\n",
      "\n",
      "Dataset Hyper Parameters:\n",
      "field_separator = \t\n",
      "seq_separator =  \n",
      "USER_ID_FIELD = user_id\n",
      "ITEM_ID_FIELD = item_id\n",
      "RATING_FIELD = rating\n",
      "TIME_FIELD = timestamp\n",
      "seq_len = None\n",
      "LABEL_FIELD = label\n",
      "threshold = None\n",
      "NEG_PREFIX = neg_\n",
      "load_col = {'inter': ['user_id', 'item_id', 'label'], 'item': ['item_id', 'title', 'year', 'genre', 'director', 'writer']}\n",
      "unload_col = None\n",
      "unused_col = None\n",
      "additional_feat_suffix = None\n",
      "rm_dup_inter = None\n",
      "val_interval = None\n",
      "filter_inter_by_user_or_item = True\n",
      "user_inter_num_interval = [0,inf)\n",
      "item_inter_num_interval = [0,inf)\n",
      "alias_of_user_id = None\n",
      "alias_of_item_id = None\n",
      "alias_of_entity_id = None\n",
      "alias_of_relation_id = None\n",
      "preload_weight = None\n",
      "normalize_field = None\n",
      "normalize_all = None\n",
      "ITEM_LIST_LENGTH_FIELD = item_length\n",
      "LIST_SUFFIX = _list\n",
      "MAX_ITEM_LIST_LENGTH = 50\n",
      "POSITION_FIELD = position_id\n",
      "HEAD_ENTITY_ID_FIELD = head_id\n",
      "TAIL_ENTITY_ID_FIELD = tail_id\n",
      "RELATION_ID_FIELD = relation_id\n",
      "ENTITY_ID_FIELD = entity_id\n",
      "benchmark_filename = None\n",
      "\n",
      "Other Hyper Parameters: \n",
      "worker = 0\n",
      "wandb_project = recbole\n",
      "shuffle = True\n",
      "require_pow = False\n",
      "enable_amp = False\n",
      "enable_scaler = False\n",
      "transform = None\n",
      "mlp_hidden_size = [600]\n",
      "latent_dimension = 200\n",
      "dropout_prob = 0.3\n",
      "anneal_cap = 0.2\n",
      "total_anneal_steps = 200000\n",
      "critic_layers = [600]\n",
      "metrics_k = 100\n",
      "train_stage = actor_pretrain\n",
      "pretrain_epochs = 150\n",
      "save_step = 10\n",
      "pre_model_path = \n",
      "numerical_features = []\n",
      "discretization = None\n",
      "kg_reverse_r = False\n",
      "entity_kg_num_interval = [0,inf)\n",
      "relation_kg_num_interval = [0,inf)\n",
      "MODEL_TYPE = ModelType.GENERAL\n",
      "hidden_dimension = 600\n",
      "kfac = True\n",
      "temperature = 0.2\n",
      "pre_learning_rate = 0.0001\n",
      "MULTI_VALUE_FIELDS = ['genre', 'director', 'writer']\n",
      "embedding_size = 64\n",
      "feature_embedding_size = {'title': 64, 'year': 16, 'genre': 32, 'director': 32, 'writer': 32}\n",
      "pretrain = True\n",
      "MODEL_INPUT_TYPE = InputType.PAIRWISE\n",
      "eval_type = EvaluatorType.RANKING\n",
      "single_spec = True\n",
      "local_rank = 0\n",
      "device = cuda\n",
      "valid_neg_sample_args = {'distribution': 'uniform', 'sample_num': 'none'}\n",
      "test_neg_sample_args = {'distribution': 'uniform', 'sample_num': 'none'}\n",
      "\n",
      "\n",
      "d:\\Program\\Dev\\ANACONDA\\envs\\movie\\lib\\site-packages\\recbole\\data\\dataset\\dataset.py:501: FutureWarning: A value is trying to be set on a copy of a DataFrame or Series through chained assignment using an inplace method.\n",
      "The behavior will change in pandas 3.0. This inplace method will never work because the intermediate object on which we are setting values always behaves as a copy.\n",
      "\n",
      "For example, when doing 'df[col].method(value, inplace=True)', try using 'df.method({col: value}, inplace=True)' or df[col] = df[col].method(value) instead, to perform the operation inplace on the original object.\n",
      "\n",
      "\n",
      "  df[field].fillna(value=\"\", inplace=True)\n",
      "d:\\Program\\Dev\\ANACONDA\\envs\\movie\\lib\\site-packages\\recbole\\data\\dataset\\dataset.py:1217: FutureWarning: using <built-in function len> in Series.agg cannot aggregate and has been deprecated. Use Series.transform to keep behavior unchanged.\n",
      "  split_point = np.cumsum(feat[field].agg(len))[:-1]\n",
      "d:\\Program\\Dev\\ANACONDA\\envs\\movie\\lib\\site-packages\\recbole\\data\\dataset\\dataset.py:648: FutureWarning: A value is trying to be set on a copy of a DataFrame or Series through chained assignment using an inplace method.\n",
      "The behavior will change in pandas 3.0. This inplace method will never work because the intermediate object on which we are setting values always behaves as a copy.\n",
      "\n",
      "For example, when doing 'df[col].method(value, inplace=True)', try using 'df.method({col: value}, inplace=True)' or df[col] = df[col].method(value) instead, to perform the operation inplace on the original object.\n",
      "\n",
      "\n",
      "  feat[field].fillna(value=0, inplace=True)\n",
      "d:\\Program\\Dev\\ANACONDA\\envs\\movie\\lib\\site-packages\\recbole\\data\\dataset\\dataset.py:650: FutureWarning: A value is trying to be set on a copy of a DataFrame or Series through chained assignment using an inplace method.\n",
      "The behavior will change in pandas 3.0. This inplace method will never work because the intermediate object on which we are setting values always behaves as a copy.\n",
      "\n",
      "For example, when doing 'df[col].method(value, inplace=True)', try using 'df.method({col: value}, inplace=True)' or df[col] = df[col].method(value) instead, to perform the operation inplace on the original object.\n",
      "\n",
      "\n",
      "  feat[field].fillna(value=feat[field].mean(), inplace=True)\n",
      "25 Nov 15:50    INFO  train_ratings\n",
      "The number of users: 31361\n",
      "Average actions of users: 164.36450892857144\n",
      "The number of items: 6808\n",
      "Average actions of items: 757.2309387395328\n",
      "The number of inters: 5154471\n",
      "The sparsity of the dataset: 97.58579218741939%\n",
      "Remain Fields: ['user_id', 'item_id', 'label', 'title', 'year', 'genre', 'director', 'writer']\n",
      "25 Nov 15:50    INFO  [Training]: train_batch_size = [256] train_neg_sample_args: [{'distribution': 'uniform', 'sample_num': 1, 'alpha': 1.0, 'dynamic': False, 'candidate_num': 0}]\n",
      "25 Nov 15:50    INFO  [Evaluation]: eval_batch_size = [256] eval_args: [{'split': {'RS': [0.8, 0.15, 0.05]}, 'order': 'RO', 'group_by': 'user', 'mode': {'valid': 'full', 'test': 'full'}}]\n",
      "25 Nov 15:50    WARNING  Max value of user's history interaction records has reached 34.23913043478261% of the total.\n",
      "25 Nov 15:50    INFO  RaCT(\n",
      "  (encoder): Sequential(\n",
      "    (0): Linear(in_features=6808, out_features=600, bias=True)\n",
      "    (1): Tanh()\n",
      "    (2): Linear(in_features=600, out_features=200, bias=True)\n",
      "  )\n",
      "  (decoder): Sequential(\n",
      "    (0): Linear(in_features=100, out_features=600, bias=True)\n",
      "    (1): Tanh()\n",
      "    (2): Linear(in_features=600, out_features=6808, bias=True)\n",
      "  )\n",
      "  (critic_net): Sequential(\n",
      "    (0): BatchNorm1d(3, eps=1e-05, momentum=0.1, affine=True, track_running_stats=True)\n",
      "    (1): Linear(in_features=3, out_features=600, bias=True)\n",
      "    (2): ReLU()\n",
      "    (3): Linear(in_features=600, out_features=1, bias=True)\n",
      "    (4): Sigmoid()\n",
      "  )\n",
      ")\n",
      "Trainable parameters: 8357808\n",
      "25 Nov 15:50    INFO  FLOPs: 8349600.0\n"
     ]
    },
    {
     "data": {
      "application/vnd.jupyter.widget-view+json": {
       "model_id": "27018cefa0ef4319878b6991346ae3ab",
       "version_major": 2,
       "version_minor": 0
      },
      "text/plain": [
       "\u001b[1;35mTrain     0\u001b[0m:   0%|                                                          | 0/123 [00:00<?, ?it/s…"
      ]
     },
     "metadata": {},
     "output_type": "display_data"
    },
    {
     "name": "stderr",
     "output_type": "stream",
     "text": [
      "d:\\Program\\Dev\\ANACONDA\\envs\\movie\\lib\\site-packages\\recbole\\trainer\\trainer.py:235: FutureWarning: `torch.cuda.amp.GradScaler(args...)` is deprecated. Please use `torch.amp.GradScaler('cuda', args...)` instead.\n",
      "  scaler = amp.GradScaler(enabled=self.enable_scaler)\n",
      "25 Nov 15:50    INFO  epoch 0 training [time: 1.02s, train loss: 132889.3031]\n"
     ]
    },
    {
     "data": {
      "application/vnd.jupyter.widget-view+json": {
       "model_id": "74f86aaad5954f58aa5e7dfc77029f2e",
       "version_major": 2,
       "version_minor": 0
      },
      "text/plain": [
       "\u001b[1;35mTrain     1\u001b[0m:   0%|                                                          | 0/123 [00:00<?, ?it/s…"
      ]
     },
     "metadata": {},
     "output_type": "display_data"
    },
    {
     "name": "stderr",
     "output_type": "stream",
     "text": [
      "25 Nov 15:50    INFO  epoch 1 training [time: 0.96s, train loss: 125260.6237]\n"
     ]
    },
    {
     "data": {
      "application/vnd.jupyter.widget-view+json": {
       "model_id": "2f0b8a497c1e438397f272ba6dbc7437",
       "version_major": 2,
       "version_minor": 0
      },
      "text/plain": [
       "\u001b[1;35mTrain     2\u001b[0m:   0%|                                                          | 0/123 [00:00<?, ?it/s…"
      ]
     },
     "metadata": {},
     "output_type": "display_data"
    },
    {
     "name": "stderr",
     "output_type": "stream",
     "text": [
      "25 Nov 15:50    INFO  epoch 2 training [time: 0.94s, train loss: 124753.7004]\n"
     ]
    },
    {
     "data": {
      "application/vnd.jupyter.widget-view+json": {
       "model_id": "7105c601040c42f48668d39e7ccda0d0",
       "version_major": 2,
       "version_minor": 0
      },
      "text/plain": [
       "\u001b[1;35mTrain     3\u001b[0m:   0%|                                                          | 0/123 [00:00<?, ?it/s…"
      ]
     },
     "metadata": {},
     "output_type": "display_data"
    },
    {
     "name": "stderr",
     "output_type": "stream",
     "text": [
      "25 Nov 15:50    INFO  epoch 3 training [time: 0.97s, train loss: 124510.8760]\n"
     ]
    },
    {
     "data": {
      "application/vnd.jupyter.widget-view+json": {
       "model_id": "34bcbf97bb074707bd986a3ef0253a9d",
       "version_major": 2,
       "version_minor": 0
      },
      "text/plain": [
       "\u001b[1;35mTrain     4\u001b[0m:   0%|                                                          | 0/123 [00:00<?, ?it/s…"
      ]
     },
     "metadata": {},
     "output_type": "display_data"
    },
    {
     "name": "stderr",
     "output_type": "stream",
     "text": [
      "25 Nov 15:50    INFO  epoch 4 training [time: 0.96s, train loss: 123367.8586]\n"
     ]
    },
    {
     "data": {
      "application/vnd.jupyter.widget-view+json": {
       "model_id": "b18b1a7aceed45a28864e09113062b5e",
       "version_major": 2,
       "version_minor": 0
      },
      "text/plain": [
       "\u001b[1;35mTrain     5\u001b[0m:   0%|                                                          | 0/123 [00:00<?, ?it/s…"
      ]
     },
     "metadata": {},
     "output_type": "display_data"
    },
    {
     "name": "stderr",
     "output_type": "stream",
     "text": [
      "25 Nov 15:50    INFO  epoch 5 training [time: 0.96s, train loss: 121749.8647]\n"
     ]
    },
    {
     "data": {
      "application/vnd.jupyter.widget-view+json": {
       "model_id": "81de05d863964988bc3e5f3da69531a6",
       "version_major": 2,
       "version_minor": 0
      },
      "text/plain": [
       "\u001b[1;35mTrain     6\u001b[0m:   0%|                                                          | 0/123 [00:00<?, ?it/s…"
      ]
     },
     "metadata": {},
     "output_type": "display_data"
    },
    {
     "name": "stderr",
     "output_type": "stream",
     "text": [
      "25 Nov 15:50    INFO  epoch 6 training [time: 0.96s, train loss: 120827.3201]\n"
     ]
    },
    {
     "data": {
      "application/vnd.jupyter.widget-view+json": {
       "model_id": "dfdb00db0b64437584a2cf6fe3cb6627",
       "version_major": 2,
       "version_minor": 0
      },
      "text/plain": [
       "\u001b[1;35mTrain     7\u001b[0m:   0%|                                                          | 0/123 [00:00<?, ?it/s…"
      ]
     },
     "metadata": {},
     "output_type": "display_data"
    },
    {
     "name": "stderr",
     "output_type": "stream",
     "text": [
      "25 Nov 15:50    INFO  epoch 7 training [time: 0.96s, train loss: 120434.5938]\n"
     ]
    },
    {
     "data": {
      "application/vnd.jupyter.widget-view+json": {
       "model_id": "471e36128099464abb94b59f2a3020da",
       "version_major": 2,
       "version_minor": 0
      },
      "text/plain": [
       "\u001b[1;35mTrain     8\u001b[0m:   0%|                                                          | 0/123 [00:00<?, ?it/s…"
      ]
     },
     "metadata": {},
     "output_type": "display_data"
    },
    {
     "name": "stderr",
     "output_type": "stream",
     "text": [
      "25 Nov 15:50    INFO  epoch 8 training [time: 0.95s, train loss: 119829.5570]\n"
     ]
    },
    {
     "data": {
      "application/vnd.jupyter.widget-view+json": {
       "model_id": "771f6a60651c43e0bf251abbe5c353ca",
       "version_major": 2,
       "version_minor": 0
      },
      "text/plain": [
       "\u001b[1;35mTrain     9\u001b[0m:   0%|                                                          | 0/123 [00:00<?, ?it/s…"
      ]
     },
     "metadata": {},
     "output_type": "display_data"
    },
    {
     "name": "stderr",
     "output_type": "stream",
     "text": [
      "25 Nov 15:50    INFO  epoch 9 training [time: 0.96s, train loss: 119176.3327]\n",
      "25 Nov 15:50    INFO  Saving current: saved\\RaCT-train_ratings-10.pth\n"
     ]
    },
    {
     "data": {
      "application/vnd.jupyter.widget-view+json": {
       "model_id": "ea7b0ce5b9b94f6eb4363be24b8eb8e9",
       "version_major": 2,
       "version_minor": 0
      },
      "text/plain": [
       "\u001b[1;35mTrain    10\u001b[0m:   0%|                                                          | 0/123 [00:00<?, ?it/s…"
      ]
     },
     "metadata": {},
     "output_type": "display_data"
    },
    {
     "name": "stderr",
     "output_type": "stream",
     "text": [
      "25 Nov 15:50    INFO  epoch 10 training [time: 0.95s, train loss: 118797.1616]\n"
     ]
    },
    {
     "data": {
      "application/vnd.jupyter.widget-view+json": {
       "model_id": "e1c0f5fc3a2f4378939e446c9c689cef",
       "version_major": 2,
       "version_minor": 0
      },
      "text/plain": [
       "\u001b[1;35mTrain    11\u001b[0m:   0%|                                                          | 0/123 [00:00<?, ?it/s…"
      ]
     },
     "metadata": {},
     "output_type": "display_data"
    },
    {
     "name": "stderr",
     "output_type": "stream",
     "text": [
      "25 Nov 15:50    INFO  epoch 11 training [time: 0.96s, train loss: 118652.6188]\n"
     ]
    },
    {
     "data": {
      "application/vnd.jupyter.widget-view+json": {
       "model_id": "928f5d6919f94f439ea80febaf70376e",
       "version_major": 2,
       "version_minor": 0
      },
      "text/plain": [
       "\u001b[1;35mTrain    12\u001b[0m:   0%|                                                          | 0/123 [00:00<?, ?it/s…"
      ]
     },
     "metadata": {},
     "output_type": "display_data"
    },
    {
     "name": "stderr",
     "output_type": "stream",
     "text": [
      "25 Nov 15:50    INFO  epoch 12 training [time: 0.96s, train loss: 118273.0740]\n"
     ]
    },
    {
     "data": {
      "application/vnd.jupyter.widget-view+json": {
       "model_id": "8e3d43fbb01d4ef2a6829b3ca35f6692",
       "version_major": 2,
       "version_minor": 0
      },
      "text/plain": [
       "\u001b[1;35mTrain    13\u001b[0m:   0%|                                                          | 0/123 [00:00<?, ?it/s…"
      ]
     },
     "metadata": {},
     "output_type": "display_data"
    },
    {
     "name": "stderr",
     "output_type": "stream",
     "text": [
      "25 Nov 15:50    INFO  epoch 13 training [time: 0.96s, train loss: 117847.2653]\n"
     ]
    },
    {
     "data": {
      "application/vnd.jupyter.widget-view+json": {
       "model_id": "0ae1eb80b6bb4050adc3d31c84c53f4f",
       "version_major": 2,
       "version_minor": 0
      },
      "text/plain": [
       "\u001b[1;35mTrain    14\u001b[0m:   0%|                                                          | 0/123 [00:00<?, ?it/s…"
      ]
     },
     "metadata": {},
     "output_type": "display_data"
    },
    {
     "name": "stderr",
     "output_type": "stream",
     "text": [
      "25 Nov 15:50    INFO  epoch 14 training [time: 0.96s, train loss: 117350.0603]\n"
     ]
    },
    {
     "data": {
      "application/vnd.jupyter.widget-view+json": {
       "model_id": "f1a8817df5fa4a468b6b09e09b556bee",
       "version_major": 2,
       "version_minor": 0
      },
      "text/plain": [
       "\u001b[1;35mTrain    15\u001b[0m:   0%|                                                          | 0/123 [00:00<?, ?it/s…"
      ]
     },
     "metadata": {},
     "output_type": "display_data"
    },
    {
     "name": "stderr",
     "output_type": "stream",
     "text": [
      "25 Nov 15:50    INFO  epoch 15 training [time: 0.96s, train loss: 117002.0519]\n"
     ]
    },
    {
     "data": {
      "application/vnd.jupyter.widget-view+json": {
       "model_id": "b121b908fbe14693ae6a6d472884a556",
       "version_major": 2,
       "version_minor": 0
      },
      "text/plain": [
       "\u001b[1;35mTrain    16\u001b[0m:   0%|                                                          | 0/123 [00:00<?, ?it/s…"
      ]
     },
     "metadata": {},
     "output_type": "display_data"
    },
    {
     "name": "stderr",
     "output_type": "stream",
     "text": [
      "25 Nov 15:50    INFO  epoch 16 training [time: 0.94s, train loss: 116915.4705]\n"
     ]
    },
    {
     "data": {
      "application/vnd.jupyter.widget-view+json": {
       "model_id": "b8227027febf499da68c823a08e1f1c1",
       "version_major": 2,
       "version_minor": 0
      },
      "text/plain": [
       "\u001b[1;35mTrain    17\u001b[0m:   0%|                                                          | 0/123 [00:00<?, ?it/s…"
      ]
     },
     "metadata": {},
     "output_type": "display_data"
    },
    {
     "name": "stderr",
     "output_type": "stream",
     "text": [
      "25 Nov 15:50    INFO  epoch 17 training [time: 0.95s, train loss: 116848.6335]\n"
     ]
    },
    {
     "data": {
      "application/vnd.jupyter.widget-view+json": {
       "model_id": "6af240754f0c484ab84a32c2c8e3e1b7",
       "version_major": 2,
       "version_minor": 0
      },
      "text/plain": [
       "\u001b[1;35mTrain    18\u001b[0m:   0%|                                                          | 0/123 [00:00<?, ?it/s…"
      ]
     },
     "metadata": {},
     "output_type": "display_data"
    },
    {
     "name": "stderr",
     "output_type": "stream",
     "text": [
      "25 Nov 15:50    INFO  epoch 18 training [time: 0.96s, train loss: 116655.5512]\n"
     ]
    },
    {
     "data": {
      "application/vnd.jupyter.widget-view+json": {
       "model_id": "d2f65b1e96b24491a11ead8db341cb8d",
       "version_major": 2,
       "version_minor": 0
      },
      "text/plain": [
       "\u001b[1;35mTrain    19\u001b[0m:   0%|                                                          | 0/123 [00:00<?, ?it/s…"
      ]
     },
     "metadata": {},
     "output_type": "display_data"
    },
    {
     "name": "stderr",
     "output_type": "stream",
     "text": [
      "25 Nov 15:50    INFO  epoch 19 training [time: 0.95s, train loss: 116545.3057]\n",
      "25 Nov 15:50    INFO  Saving current: saved\\RaCT-train_ratings-20.pth\n"
     ]
    },
    {
     "data": {
      "application/vnd.jupyter.widget-view+json": {
       "model_id": "4b64555355a449c7a1e6b546d3a907b3",
       "version_major": 2,
       "version_minor": 0
      },
      "text/plain": [
       "\u001b[1;35mTrain    20\u001b[0m:   0%|                                                          | 0/123 [00:00<?, ?it/s…"
      ]
     },
     "metadata": {},
     "output_type": "display_data"
    },
    {
     "name": "stderr",
     "output_type": "stream",
     "text": [
      "25 Nov 15:50    INFO  epoch 20 training [time: 0.95s, train loss: 116365.0424]\n"
     ]
    },
    {
     "data": {
      "application/vnd.jupyter.widget-view+json": {
       "model_id": "2adaf1cbad4e4fd78faa509a2db9123f",
       "version_major": 2,
       "version_minor": 0
      },
      "text/plain": [
       "\u001b[1;35mTrain    21\u001b[0m:   0%|                                                          | 0/123 [00:00<?, ?it/s…"
      ]
     },
     "metadata": {},
     "output_type": "display_data"
    },
    {
     "name": "stderr",
     "output_type": "stream",
     "text": [
      "25 Nov 15:50    INFO  epoch 21 training [time: 0.95s, train loss: 116146.4987]\n"
     ]
    },
    {
     "data": {
      "application/vnd.jupyter.widget-view+json": {
       "model_id": "bfd297455bf24d5bbd95fcfa4e1a22aa",
       "version_major": 2,
       "version_minor": 0
      },
      "text/plain": [
       "\u001b[1;35mTrain    22\u001b[0m:   0%|                                                          | 0/123 [00:00<?, ?it/s…"
      ]
     },
     "metadata": {},
     "output_type": "display_data"
    },
    {
     "name": "stderr",
     "output_type": "stream",
     "text": [
      "25 Nov 15:50    INFO  epoch 22 training [time: 0.96s, train loss: 116015.6126]\n"
     ]
    },
    {
     "data": {
      "application/vnd.jupyter.widget-view+json": {
       "model_id": "6399275a5a4e449f9036d857d4f2feae",
       "version_major": 2,
       "version_minor": 0
      },
      "text/plain": [
       "\u001b[1;35mTrain    23\u001b[0m:   0%|                                                          | 0/123 [00:00<?, ?it/s…"
      ]
     },
     "metadata": {},
     "output_type": "display_data"
    },
    {
     "name": "stderr",
     "output_type": "stream",
     "text": [
      "25 Nov 15:50    INFO  epoch 23 training [time: 0.96s, train loss: 115843.2294]\n"
     ]
    },
    {
     "data": {
      "application/vnd.jupyter.widget-view+json": {
       "model_id": "9808da497520483c9132d5cbf0869a8d",
       "version_major": 2,
       "version_minor": 0
      },
      "text/plain": [
       "\u001b[1;35mTrain    24\u001b[0m:   0%|                                                          | 0/123 [00:00<?, ?it/s…"
      ]
     },
     "metadata": {},
     "output_type": "display_data"
    },
    {
     "name": "stderr",
     "output_type": "stream",
     "text": [
      "25 Nov 15:50    INFO  epoch 24 training [time: 0.99s, train loss: 115696.8543]\n"
     ]
    },
    {
     "data": {
      "application/vnd.jupyter.widget-view+json": {
       "model_id": "cb9a30e5ffdf49c9b511fe30195d4149",
       "version_major": 2,
       "version_minor": 0
      },
      "text/plain": [
       "\u001b[1;35mTrain    25\u001b[0m:   0%|                                                          | 0/123 [00:00<?, ?it/s…"
      ]
     },
     "metadata": {},
     "output_type": "display_data"
    },
    {
     "name": "stderr",
     "output_type": "stream",
     "text": [
      "25 Nov 15:50    INFO  epoch 25 training [time: 0.96s, train loss: 115548.8336]\n"
     ]
    },
    {
     "data": {
      "application/vnd.jupyter.widget-view+json": {
       "model_id": "79e3b93a5d2a4d40a6396acf73311bdc",
       "version_major": 2,
       "version_minor": 0
      },
      "text/plain": [
       "\u001b[1;35mTrain    26\u001b[0m:   0%|                                                          | 0/123 [00:00<?, ?it/s…"
      ]
     },
     "metadata": {},
     "output_type": "display_data"
    },
    {
     "name": "stderr",
     "output_type": "stream",
     "text": [
      "25 Nov 15:50    INFO  epoch 26 training [time: 0.97s, train loss: 115418.5378]\n"
     ]
    },
    {
     "data": {
      "application/vnd.jupyter.widget-view+json": {
       "model_id": "7fb5fbb686f64933b3fa51fc87fcd211",
       "version_major": 2,
       "version_minor": 0
      },
      "text/plain": [
       "\u001b[1;35mTrain    27\u001b[0m:   0%|                                                          | 0/123 [00:00<?, ?it/s…"
      ]
     },
     "metadata": {},
     "output_type": "display_data"
    },
    {
     "name": "stderr",
     "output_type": "stream",
     "text": [
      "25 Nov 15:51    INFO  epoch 27 training [time: 0.96s, train loss: 115437.2515]\n"
     ]
    },
    {
     "data": {
      "application/vnd.jupyter.widget-view+json": {
       "model_id": "3dd3acfe23b44c1393ff55261636d0fe",
       "version_major": 2,
       "version_minor": 0
      },
      "text/plain": [
       "\u001b[1;35mTrain    28\u001b[0m:   0%|                                                          | 0/123 [00:00<?, ?it/s…"
      ]
     },
     "metadata": {},
     "output_type": "display_data"
    },
    {
     "name": "stderr",
     "output_type": "stream",
     "text": [
      "25 Nov 15:51    INFO  epoch 28 training [time: 0.98s, train loss: 115238.4725]\n"
     ]
    },
    {
     "data": {
      "application/vnd.jupyter.widget-view+json": {
       "model_id": "4b2730a1eb0d4b4f86b438f38cc986e7",
       "version_major": 2,
       "version_minor": 0
      },
      "text/plain": [
       "\u001b[1;35mTrain    29\u001b[0m:   0%|                                                          | 0/123 [00:00<?, ?it/s…"
      ]
     },
     "metadata": {},
     "output_type": "display_data"
    },
    {
     "name": "stderr",
     "output_type": "stream",
     "text": [
      "25 Nov 15:51    INFO  epoch 29 training [time: 0.96s, train loss: 115204.8680]\n",
      "25 Nov 15:51    INFO  Saving current: saved\\RaCT-train_ratings-30.pth\n"
     ]
    },
    {
     "data": {
      "application/vnd.jupyter.widget-view+json": {
       "model_id": "762d9986d09240d9b177182ac70c49dc",
       "version_major": 2,
       "version_minor": 0
      },
      "text/plain": [
       "\u001b[1;35mTrain    30\u001b[0m:   0%|                                                          | 0/123 [00:00<?, ?it/s…"
      ]
     },
     "metadata": {},
     "output_type": "display_data"
    },
    {
     "name": "stderr",
     "output_type": "stream",
     "text": [
      "25 Nov 15:51    INFO  epoch 30 training [time: 0.96s, train loss: 115089.4333]\n"
     ]
    },
    {
     "data": {
      "application/vnd.jupyter.widget-view+json": {
       "model_id": "14ee7225eb124b6ca393800f9417712f",
       "version_major": 2,
       "version_minor": 0
      },
      "text/plain": [
       "\u001b[1;35mTrain    31\u001b[0m:   0%|                                                          | 0/123 [00:00<?, ?it/s…"
      ]
     },
     "metadata": {},
     "output_type": "display_data"
    },
    {
     "name": "stderr",
     "output_type": "stream",
     "text": [
      "25 Nov 15:51    INFO  epoch 31 training [time: 0.98s, train loss: 115073.4761]\n"
     ]
    },
    {
     "data": {
      "application/vnd.jupyter.widget-view+json": {
       "model_id": "9230c831bf974398aaf4463aef165621",
       "version_major": 2,
       "version_minor": 0
      },
      "text/plain": [
       "\u001b[1;35mTrain    32\u001b[0m:   0%|                                                          | 0/123 [00:00<?, ?it/s…"
      ]
     },
     "metadata": {},
     "output_type": "display_data"
    },
    {
     "name": "stderr",
     "output_type": "stream",
     "text": [
      "25 Nov 15:51    INFO  epoch 32 training [time: 0.94s, train loss: 114842.3268]\n"
     ]
    },
    {
     "data": {
      "application/vnd.jupyter.widget-view+json": {
       "model_id": "cff5e25354ab4dc2bf2bc747f27cebc8",
       "version_major": 2,
       "version_minor": 0
      },
      "text/plain": [
       "\u001b[1;35mTrain    33\u001b[0m:   0%|                                                          | 0/123 [00:00<?, ?it/s…"
      ]
     },
     "metadata": {},
     "output_type": "display_data"
    },
    {
     "name": "stderr",
     "output_type": "stream",
     "text": [
      "25 Nov 15:51    INFO  epoch 33 training [time: 0.99s, train loss: 114789.1877]\n"
     ]
    },
    {
     "data": {
      "application/vnd.jupyter.widget-view+json": {
       "model_id": "b7eae509c43d44f3bee04f610c208ea4",
       "version_major": 2,
       "version_minor": 0
      },
      "text/plain": [
       "\u001b[1;35mTrain    34\u001b[0m:   0%|                                                          | 0/123 [00:00<?, ?it/s…"
      ]
     },
     "metadata": {},
     "output_type": "display_data"
    },
    {
     "name": "stderr",
     "output_type": "stream",
     "text": [
      "25 Nov 15:51    INFO  epoch 34 training [time: 0.95s, train loss: 114712.2121]\n"
     ]
    },
    {
     "data": {
      "application/vnd.jupyter.widget-view+json": {
       "model_id": "e56fd1cf141f4772934bdd79afb9f889",
       "version_major": 2,
       "version_minor": 0
      },
      "text/plain": [
       "\u001b[1;35mTrain    35\u001b[0m:   0%|                                                          | 0/123 [00:00<?, ?it/s…"
      ]
     },
     "metadata": {},
     "output_type": "display_data"
    },
    {
     "name": "stderr",
     "output_type": "stream",
     "text": [
      "25 Nov 15:51    INFO  epoch 35 training [time: 0.95s, train loss: 114623.4814]\n"
     ]
    },
    {
     "data": {
      "application/vnd.jupyter.widget-view+json": {
       "model_id": "da528ae39087433faf6afbe93717d4ad",
       "version_major": 2,
       "version_minor": 0
      },
      "text/plain": [
       "\u001b[1;35mTrain    36\u001b[0m:   0%|                                                          | 0/123 [00:00<?, ?it/s…"
      ]
     },
     "metadata": {},
     "output_type": "display_data"
    },
    {
     "name": "stderr",
     "output_type": "stream",
     "text": [
      "25 Nov 15:51    INFO  epoch 36 training [time: 0.96s, train loss: 114496.8395]\n"
     ]
    },
    {
     "data": {
      "application/vnd.jupyter.widget-view+json": {
       "model_id": "5f9275880d824b7abef9654a1b2b8024",
       "version_major": 2,
       "version_minor": 0
      },
      "text/plain": [
       "\u001b[1;35mTrain    37\u001b[0m:   0%|                                                          | 0/123 [00:00<?, ?it/s…"
      ]
     },
     "metadata": {},
     "output_type": "display_data"
    },
    {
     "name": "stderr",
     "output_type": "stream",
     "text": [
      "25 Nov 15:51    INFO  epoch 37 training [time: 0.97s, train loss: 114414.1777]\n"
     ]
    },
    {
     "data": {
      "application/vnd.jupyter.widget-view+json": {
       "model_id": "dc20bd35a0b148429e79b79d65e1ad77",
       "version_major": 2,
       "version_minor": 0
      },
      "text/plain": [
       "\u001b[1;35mTrain    38\u001b[0m:   0%|                                                          | 0/123 [00:00<?, ?it/s…"
      ]
     },
     "metadata": {},
     "output_type": "display_data"
    },
    {
     "name": "stderr",
     "output_type": "stream",
     "text": [
      "25 Nov 15:51    INFO  epoch 38 training [time: 0.95s, train loss: 114405.6937]\n"
     ]
    },
    {
     "data": {
      "application/vnd.jupyter.widget-view+json": {
       "model_id": "3e2acd2765314903864820c1ce74161e",
       "version_major": 2,
       "version_minor": 0
      },
      "text/plain": [
       "\u001b[1;35mTrain    39\u001b[0m:   0%|                                                          | 0/123 [00:00<?, ?it/s…"
      ]
     },
     "metadata": {},
     "output_type": "display_data"
    },
    {
     "name": "stderr",
     "output_type": "stream",
     "text": [
      "25 Nov 15:51    INFO  epoch 39 training [time: 0.98s, train loss: 114255.5241]\n",
      "25 Nov 15:51    INFO  Saving current: saved\\RaCT-train_ratings-40.pth\n"
     ]
    },
    {
     "data": {
      "application/vnd.jupyter.widget-view+json": {
       "model_id": "36eb8fc95f50485c9a2556d4681d2478",
       "version_major": 2,
       "version_minor": 0
      },
      "text/plain": [
       "\u001b[1;35mTrain    40\u001b[0m:   0%|                                                          | 0/123 [00:00<?, ?it/s…"
      ]
     },
     "metadata": {},
     "output_type": "display_data"
    },
    {
     "name": "stderr",
     "output_type": "stream",
     "text": [
      "25 Nov 15:51    INFO  epoch 40 training [time: 0.96s, train loss: 114193.7745]\n"
     ]
    },
    {
     "data": {
      "application/vnd.jupyter.widget-view+json": {
       "model_id": "f9ba005cbf484412a5014d0e9d20b745",
       "version_major": 2,
       "version_minor": 0
      },
      "text/plain": [
       "\u001b[1;35mTrain    41\u001b[0m:   0%|                                                          | 0/123 [00:00<?, ?it/s…"
      ]
     },
     "metadata": {},
     "output_type": "display_data"
    },
    {
     "name": "stderr",
     "output_type": "stream",
     "text": [
      "25 Nov 15:51    INFO  epoch 41 training [time: 0.97s, train loss: 114132.5529]\n"
     ]
    },
    {
     "data": {
      "application/vnd.jupyter.widget-view+json": {
       "model_id": "77535e332d654def822e80f121727036",
       "version_major": 2,
       "version_minor": 0
      },
      "text/plain": [
       "\u001b[1;35mTrain    42\u001b[0m:   0%|                                                          | 0/123 [00:00<?, ?it/s…"
      ]
     },
     "metadata": {},
     "output_type": "display_data"
    },
    {
     "name": "stderr",
     "output_type": "stream",
     "text": [
      "25 Nov 15:51    INFO  epoch 42 training [time: 0.96s, train loss: 114103.1457]\n"
     ]
    },
    {
     "data": {
      "application/vnd.jupyter.widget-view+json": {
       "model_id": "dae3d2cc9a4c408896bdeb9d38cf8d15",
       "version_major": 2,
       "version_minor": 0
      },
      "text/plain": [
       "\u001b[1;35mTrain    43\u001b[0m:   0%|                                                          | 0/123 [00:00<?, ?it/s…"
      ]
     },
     "metadata": {},
     "output_type": "display_data"
    },
    {
     "name": "stderr",
     "output_type": "stream",
     "text": [
      "25 Nov 15:51    INFO  epoch 43 training [time: 0.97s, train loss: 114054.2940]\n"
     ]
    },
    {
     "data": {
      "application/vnd.jupyter.widget-view+json": {
       "model_id": "a0971da707324b9188c6747e76fc4006",
       "version_major": 2,
       "version_minor": 0
      },
      "text/plain": [
       "\u001b[1;35mTrain    44\u001b[0m:   0%|                                                          | 0/123 [00:00<?, ?it/s…"
      ]
     },
     "metadata": {},
     "output_type": "display_data"
    },
    {
     "name": "stderr",
     "output_type": "stream",
     "text": [
      "25 Nov 15:51    INFO  epoch 44 training [time: 0.96s, train loss: 113858.0255]\n"
     ]
    },
    {
     "data": {
      "application/vnd.jupyter.widget-view+json": {
       "model_id": "abba6db2385f49a1978ef090c7590c30",
       "version_major": 2,
       "version_minor": 0
      },
      "text/plain": [
       "\u001b[1;35mTrain    45\u001b[0m:   0%|                                                          | 0/123 [00:00<?, ?it/s…"
      ]
     },
     "metadata": {},
     "output_type": "display_data"
    },
    {
     "name": "stderr",
     "output_type": "stream",
     "text": [
      "25 Nov 15:51    INFO  epoch 45 training [time: 0.97s, train loss: 113725.9061]\n"
     ]
    },
    {
     "data": {
      "application/vnd.jupyter.widget-view+json": {
       "model_id": "89eb81df0b914633958b65ea7d8e7ce8",
       "version_major": 2,
       "version_minor": 0
      },
      "text/plain": [
       "\u001b[1;35mTrain    46\u001b[0m:   0%|                                                          | 0/123 [00:00<?, ?it/s…"
      ]
     },
     "metadata": {},
     "output_type": "display_data"
    },
    {
     "name": "stderr",
     "output_type": "stream",
     "text": [
      "25 Nov 15:51    INFO  epoch 46 training [time: 0.95s, train loss: 113757.2050]\n"
     ]
    },
    {
     "data": {
      "application/vnd.jupyter.widget-view+json": {
       "model_id": "09c71f63b3234e548a198faf51154a70",
       "version_major": 2,
       "version_minor": 0
      },
      "text/plain": [
       "\u001b[1;35mTrain    47\u001b[0m:   0%|                                                          | 0/123 [00:00<?, ?it/s…"
      ]
     },
     "metadata": {},
     "output_type": "display_data"
    },
    {
     "name": "stderr",
     "output_type": "stream",
     "text": [
      "25 Nov 15:51    INFO  epoch 47 training [time: 0.97s, train loss: 113738.9103]\n"
     ]
    },
    {
     "data": {
      "application/vnd.jupyter.widget-view+json": {
       "model_id": "a0faf4ebf04e408a838d9661dbf6b43a",
       "version_major": 2,
       "version_minor": 0
      },
      "text/plain": [
       "\u001b[1;35mTrain    48\u001b[0m:   0%|                                                          | 0/123 [00:00<?, ?it/s…"
      ]
     },
     "metadata": {},
     "output_type": "display_data"
    },
    {
     "name": "stderr",
     "output_type": "stream",
     "text": [
      "25 Nov 15:51    INFO  epoch 48 training [time: 0.96s, train loss: 113657.5192]\n"
     ]
    },
    {
     "data": {
      "application/vnd.jupyter.widget-view+json": {
       "model_id": "8083b0805bd54af8a034e5799eeef4a4",
       "version_major": 2,
       "version_minor": 0
      },
      "text/plain": [
       "\u001b[1;35mTrain    49\u001b[0m:   0%|                                                          | 0/123 [00:00<?, ?it/s…"
      ]
     },
     "metadata": {},
     "output_type": "display_data"
    },
    {
     "name": "stderr",
     "output_type": "stream",
     "text": [
      "25 Nov 15:51    INFO  epoch 49 training [time: 0.97s, train loss: 113622.0262]\n",
      "25 Nov 15:51    INFO  Saving current: saved\\RaCT-train_ratings-50.pth\n"
     ]
    },
    {
     "data": {
      "application/vnd.jupyter.widget-view+json": {
       "model_id": "37e7671342674a7a908e13fe29e0cd74",
       "version_major": 2,
       "version_minor": 0
      },
      "text/plain": [
       "\u001b[1;35mTrain    50\u001b[0m:   0%|                                                          | 0/123 [00:00<?, ?it/s…"
      ]
     },
     "metadata": {},
     "output_type": "display_data"
    },
    {
     "name": "stderr",
     "output_type": "stream",
     "text": [
      "25 Nov 15:51    INFO  epoch 50 training [time: 0.96s, train loss: 113575.6966]\n"
     ]
    },
    {
     "data": {
      "application/vnd.jupyter.widget-view+json": {
       "model_id": "e5df24d7d28f4cc3a45a768c02c94dae",
       "version_major": 2,
       "version_minor": 0
      },
      "text/plain": [
       "\u001b[1;35mTrain    51\u001b[0m:   0%|                                                          | 0/123 [00:00<?, ?it/s…"
      ]
     },
     "metadata": {},
     "output_type": "display_data"
    },
    {
     "name": "stderr",
     "output_type": "stream",
     "text": [
      "25 Nov 15:51    INFO  epoch 51 training [time: 0.98s, train loss: 113395.1601]\n"
     ]
    },
    {
     "data": {
      "application/vnd.jupyter.widget-view+json": {
       "model_id": "3b4c977563614e0a940c42cb22b5f1d6",
       "version_major": 2,
       "version_minor": 0
      },
      "text/plain": [
       "\u001b[1;35mTrain    52\u001b[0m:   0%|                                                          | 0/123 [00:00<?, ?it/s…"
      ]
     },
     "metadata": {},
     "output_type": "display_data"
    },
    {
     "name": "stderr",
     "output_type": "stream",
     "text": [
      "25 Nov 15:51    INFO  epoch 52 training [time: 0.98s, train loss: 113318.8353]\n"
     ]
    },
    {
     "data": {
      "application/vnd.jupyter.widget-view+json": {
       "model_id": "2fd78ab565e44fadaa7f98ad634f7ecd",
       "version_major": 2,
       "version_minor": 0
      },
      "text/plain": [
       "\u001b[1;35mTrain    53\u001b[0m:   0%|                                                          | 0/123 [00:00<?, ?it/s…"
      ]
     },
     "metadata": {},
     "output_type": "display_data"
    },
    {
     "name": "stderr",
     "output_type": "stream",
     "text": [
      "25 Nov 15:51    INFO  epoch 53 training [time: 0.97s, train loss: 113271.7891]\n"
     ]
    },
    {
     "data": {
      "application/vnd.jupyter.widget-view+json": {
       "model_id": "41c5a3c7ad0a40918208d951a9e41ef8",
       "version_major": 2,
       "version_minor": 0
      },
      "text/plain": [
       "\u001b[1;35mTrain    54\u001b[0m:   0%|                                                          | 0/123 [00:00<?, ?it/s…"
      ]
     },
     "metadata": {},
     "output_type": "display_data"
    },
    {
     "name": "stderr",
     "output_type": "stream",
     "text": [
      "25 Nov 15:51    INFO  epoch 54 training [time: 0.97s, train loss: 113246.6088]\n"
     ]
    },
    {
     "data": {
      "application/vnd.jupyter.widget-view+json": {
       "model_id": "6aaabc2a3df94815b0c29480143558cb",
       "version_major": 2,
       "version_minor": 0
      },
      "text/plain": [
       "\u001b[1;35mTrain    55\u001b[0m:   0%|                                                          | 0/123 [00:00<?, ?it/s…"
      ]
     },
     "metadata": {},
     "output_type": "display_data"
    },
    {
     "name": "stderr",
     "output_type": "stream",
     "text": [
      "25 Nov 15:51    INFO  epoch 55 training [time: 0.96s, train loss: 113083.2235]\n"
     ]
    },
    {
     "data": {
      "application/vnd.jupyter.widget-view+json": {
       "model_id": "becfd891310a4a6d8f310d3f2ad753f3",
       "version_major": 2,
       "version_minor": 0
      },
      "text/plain": [
       "\u001b[1;35mTrain    56\u001b[0m:   0%|                                                          | 0/123 [00:00<?, ?it/s…"
      ]
     },
     "metadata": {},
     "output_type": "display_data"
    },
    {
     "name": "stderr",
     "output_type": "stream",
     "text": [
      "25 Nov 15:51    INFO  epoch 56 training [time: 0.97s, train loss: 113119.5640]\n"
     ]
    },
    {
     "data": {
      "application/vnd.jupyter.widget-view+json": {
       "model_id": "9b7ff10e16724054a57b0e0246e8636c",
       "version_major": 2,
       "version_minor": 0
      },
      "text/plain": [
       "\u001b[1;35mTrain    57\u001b[0m:   0%|                                                          | 0/123 [00:00<?, ?it/s…"
      ]
     },
     "metadata": {},
     "output_type": "display_data"
    },
    {
     "name": "stderr",
     "output_type": "stream",
     "text": [
      "25 Nov 15:51    INFO  epoch 57 training [time: 0.96s, train loss: 113045.7489]\n"
     ]
    },
    {
     "data": {
      "application/vnd.jupyter.widget-view+json": {
       "model_id": "f98be9d2f8c846b481d82c19f248547f",
       "version_major": 2,
       "version_minor": 0
      },
      "text/plain": [
       "\u001b[1;35mTrain    58\u001b[0m:   0%|                                                          | 0/123 [00:00<?, ?it/s…"
      ]
     },
     "metadata": {},
     "output_type": "display_data"
    },
    {
     "name": "stderr",
     "output_type": "stream",
     "text": [
      "25 Nov 15:51    INFO  epoch 58 training [time: 0.97s, train loss: 112936.9163]\n"
     ]
    },
    {
     "data": {
      "application/vnd.jupyter.widget-view+json": {
       "model_id": "d7e4d220d64149a2bd85aa9932e25b0b",
       "version_major": 2,
       "version_minor": 0
      },
      "text/plain": [
       "\u001b[1;35mTrain    59\u001b[0m:   0%|                                                          | 0/123 [00:00<?, ?it/s…"
      ]
     },
     "metadata": {},
     "output_type": "display_data"
    },
    {
     "name": "stderr",
     "output_type": "stream",
     "text": [
      "25 Nov 15:51    INFO  epoch 59 training [time: 0.96s, train loss: 112852.5569]\n",
      "25 Nov 15:51    INFO  Saving current: saved\\RaCT-train_ratings-60.pth\n"
     ]
    },
    {
     "data": {
      "application/vnd.jupyter.widget-view+json": {
       "model_id": "9ba7ec8f18ad43a382dc1b542a2901bf",
       "version_major": 2,
       "version_minor": 0
      },
      "text/plain": [
       "\u001b[1;35mTrain    60\u001b[0m:   0%|                                                          | 0/123 [00:00<?, ?it/s…"
      ]
     },
     "metadata": {},
     "output_type": "display_data"
    },
    {
     "name": "stderr",
     "output_type": "stream",
     "text": [
      "25 Nov 15:51    INFO  epoch 60 training [time: 0.96s, train loss: 112901.4219]\n"
     ]
    },
    {
     "data": {
      "application/vnd.jupyter.widget-view+json": {
       "model_id": "3be72cfb873d40f4a735862b7c66922f",
       "version_major": 2,
       "version_minor": 0
      },
      "text/plain": [
       "\u001b[1;35mTrain    61\u001b[0m:   0%|                                                          | 0/123 [00:00<?, ?it/s…"
      ]
     },
     "metadata": {},
     "output_type": "display_data"
    },
    {
     "name": "stderr",
     "output_type": "stream",
     "text": [
      "25 Nov 15:51    INFO  epoch 61 training [time: 0.97s, train loss: 112820.3700]\n"
     ]
    },
    {
     "data": {
      "application/vnd.jupyter.widget-view+json": {
       "model_id": "f8d1110940fb4878b4d84b5128e64536",
       "version_major": 2,
       "version_minor": 0
      },
      "text/plain": [
       "\u001b[1;35mTrain    62\u001b[0m:   0%|                                                          | 0/123 [00:00<?, ?it/s…"
      ]
     },
     "metadata": {},
     "output_type": "display_data"
    },
    {
     "name": "stderr",
     "output_type": "stream",
     "text": [
      "25 Nov 15:51    INFO  epoch 62 training [time: 0.98s, train loss: 112754.7982]\n"
     ]
    },
    {
     "data": {
      "application/vnd.jupyter.widget-view+json": {
       "model_id": "98c7a6b2389a4f5592d99d128a66a551",
       "version_major": 2,
       "version_minor": 0
      },
      "text/plain": [
       "\u001b[1;35mTrain    63\u001b[0m:   0%|                                                          | 0/123 [00:00<?, ?it/s…"
      ]
     },
     "metadata": {},
     "output_type": "display_data"
    },
    {
     "name": "stderr",
     "output_type": "stream",
     "text": [
      "25 Nov 15:51    INFO  epoch 63 training [time: 1.04s, train loss: 112711.3286]\n"
     ]
    },
    {
     "data": {
      "application/vnd.jupyter.widget-view+json": {
       "model_id": "4f01391858424e3a995e8f9b7b228c6b",
       "version_major": 2,
       "version_minor": 0
      },
      "text/plain": [
       "\u001b[1;35mTrain    64\u001b[0m:   0%|                                                          | 0/123 [00:00<?, ?it/s…"
      ]
     },
     "metadata": {},
     "output_type": "display_data"
    },
    {
     "name": "stderr",
     "output_type": "stream",
     "text": [
      "25 Nov 15:51    INFO  epoch 64 training [time: 1.05s, train loss: 112586.7461]\n"
     ]
    },
    {
     "data": {
      "application/vnd.jupyter.widget-view+json": {
       "model_id": "f63fd532bd2c4231ae2915f80e100d27",
       "version_major": 2,
       "version_minor": 0
      },
      "text/plain": [
       "\u001b[1;35mTrain    65\u001b[0m:   0%|                                                          | 0/123 [00:00<?, ?it/s…"
      ]
     },
     "metadata": {},
     "output_type": "display_data"
    },
    {
     "name": "stderr",
     "output_type": "stream",
     "text": [
      "25 Nov 15:51    INFO  epoch 65 training [time: 0.90s, train loss: 112532.7741]\n"
     ]
    },
    {
     "data": {
      "application/vnd.jupyter.widget-view+json": {
       "model_id": "45d95cdaeabf455c8e6f65c3bafac798",
       "version_major": 2,
       "version_minor": 0
      },
      "text/plain": [
       "\u001b[1;35mTrain    66\u001b[0m:   0%|                                                          | 0/123 [00:00<?, ?it/s…"
      ]
     },
     "metadata": {},
     "output_type": "display_data"
    },
    {
     "name": "stderr",
     "output_type": "stream",
     "text": [
      "25 Nov 15:51    INFO  epoch 66 training [time: 0.89s, train loss: 112513.5399]\n"
     ]
    },
    {
     "data": {
      "application/vnd.jupyter.widget-view+json": {
       "model_id": "2ed0dd8b2f8142c59cc88ef077f914de",
       "version_major": 2,
       "version_minor": 0
      },
      "text/plain": [
       "\u001b[1;35mTrain    67\u001b[0m:   0%|                                                          | 0/123 [00:00<?, ?it/s…"
      ]
     },
     "metadata": {},
     "output_type": "display_data"
    },
    {
     "name": "stderr",
     "output_type": "stream",
     "text": [
      "25 Nov 15:51    INFO  epoch 67 training [time: 0.94s, train loss: 112483.2136]\n"
     ]
    },
    {
     "data": {
      "application/vnd.jupyter.widget-view+json": {
       "model_id": "c04c57ae78aa4edebe49a961fb4cb415",
       "version_major": 2,
       "version_minor": 0
      },
      "text/plain": [
       "\u001b[1;35mTrain    68\u001b[0m:   0%|                                                          | 0/123 [00:00<?, ?it/s…"
      ]
     },
     "metadata": {},
     "output_type": "display_data"
    },
    {
     "name": "stderr",
     "output_type": "stream",
     "text": [
      "25 Nov 15:51    INFO  epoch 68 training [time: 0.88s, train loss: 112451.9907]\n"
     ]
    },
    {
     "data": {
      "application/vnd.jupyter.widget-view+json": {
       "model_id": "1b117cb1deb24e5ea30ae23504b7e2c9",
       "version_major": 2,
       "version_minor": 0
      },
      "text/plain": [
       "\u001b[1;35mTrain    69\u001b[0m:   0%|                                                          | 0/123 [00:00<?, ?it/s…"
      ]
     },
     "metadata": {},
     "output_type": "display_data"
    },
    {
     "name": "stderr",
     "output_type": "stream",
     "text": [
      "25 Nov 15:51    INFO  epoch 69 training [time: 0.88s, train loss: 112370.9471]\n",
      "25 Nov 15:51    INFO  Saving current: saved\\RaCT-train_ratings-70.pth\n"
     ]
    },
    {
     "data": {
      "application/vnd.jupyter.widget-view+json": {
       "model_id": "93fb777c58d64ef786b820990811a4d7",
       "version_major": 2,
       "version_minor": 0
      },
      "text/plain": [
       "\u001b[1;35mTrain    70\u001b[0m:   0%|                                                          | 0/123 [00:00<?, ?it/s…"
      ]
     },
     "metadata": {},
     "output_type": "display_data"
    },
    {
     "name": "stderr",
     "output_type": "stream",
     "text": [
      "25 Nov 15:51    INFO  epoch 70 training [time: 0.88s, train loss: 112358.2238]\n"
     ]
    },
    {
     "data": {
      "application/vnd.jupyter.widget-view+json": {
       "model_id": "6385a012d38349b0901bd69e2abf8e4f",
       "version_major": 2,
       "version_minor": 0
      },
      "text/plain": [
       "\u001b[1;35mTrain    71\u001b[0m:   0%|                                                          | 0/123 [00:00<?, ?it/s…"
      ]
     },
     "metadata": {},
     "output_type": "display_data"
    },
    {
     "name": "stderr",
     "output_type": "stream",
     "text": [
      "25 Nov 15:51    INFO  epoch 71 training [time: 0.90s, train loss: 112316.5207]\n"
     ]
    },
    {
     "data": {
      "application/vnd.jupyter.widget-view+json": {
       "model_id": "20baf2f984b8496fabebb85eba204528",
       "version_major": 2,
       "version_minor": 0
      },
      "text/plain": [
       "\u001b[1;35mTrain    72\u001b[0m:   0%|                                                          | 0/123 [00:00<?, ?it/s…"
      ]
     },
     "metadata": {},
     "output_type": "display_data"
    },
    {
     "name": "stderr",
     "output_type": "stream",
     "text": [
      "25 Nov 15:51    INFO  epoch 72 training [time: 0.92s, train loss: 112246.4391]\n"
     ]
    },
    {
     "data": {
      "application/vnd.jupyter.widget-view+json": {
       "model_id": "0775aa9440be4dfe865e64569d412cad",
       "version_major": 2,
       "version_minor": 0
      },
      "text/plain": [
       "\u001b[1;35mTrain    73\u001b[0m:   0%|                                                          | 0/123 [00:00<?, ?it/s…"
      ]
     },
     "metadata": {},
     "output_type": "display_data"
    },
    {
     "name": "stderr",
     "output_type": "stream",
     "text": [
      "25 Nov 15:51    INFO  epoch 73 training [time: 0.98s, train loss: 112078.6826]\n"
     ]
    },
    {
     "data": {
      "application/vnd.jupyter.widget-view+json": {
       "model_id": "0ed6e2be3bfe4763963b9de405f94611",
       "version_major": 2,
       "version_minor": 0
      },
      "text/plain": [
       "\u001b[1;35mTrain    74\u001b[0m:   0%|                                                          | 0/123 [00:00<?, ?it/s…"
      ]
     },
     "metadata": {},
     "output_type": "display_data"
    },
    {
     "name": "stderr",
     "output_type": "stream",
     "text": [
      "25 Nov 15:51    INFO  epoch 74 training [time: 0.94s, train loss: 112134.8929]\n"
     ]
    },
    {
     "data": {
      "application/vnd.jupyter.widget-view+json": {
       "model_id": "581011a348034055a88b91d3c5637268",
       "version_major": 2,
       "version_minor": 0
      },
      "text/plain": [
       "\u001b[1;35mTrain    75\u001b[0m:   0%|                                                          | 0/123 [00:00<?, ?it/s…"
      ]
     },
     "metadata": {},
     "output_type": "display_data"
    },
    {
     "name": "stderr",
     "output_type": "stream",
     "text": [
      "25 Nov 15:51    INFO  epoch 75 training [time: 0.94s, train loss: 112102.9255]\n"
     ]
    },
    {
     "data": {
      "application/vnd.jupyter.widget-view+json": {
       "model_id": "f8e55435ea8e433abe1fec14757b0f84",
       "version_major": 2,
       "version_minor": 0
      },
      "text/plain": [
       "\u001b[1;35mTrain    76\u001b[0m:   0%|                                                          | 0/123 [00:00<?, ?it/s…"
      ]
     },
     "metadata": {},
     "output_type": "display_data"
    },
    {
     "name": "stderr",
     "output_type": "stream",
     "text": [
      "25 Nov 15:51    INFO  epoch 76 training [time: 0.91s, train loss: 112003.7115]\n"
     ]
    },
    {
     "data": {
      "application/vnd.jupyter.widget-view+json": {
       "model_id": "e1e4d5f270634e80baf8480e275dff69",
       "version_major": 2,
       "version_minor": 0
      },
      "text/plain": [
       "\u001b[1;35mTrain    77\u001b[0m:   0%|                                                          | 0/123 [00:00<?, ?it/s…"
      ]
     },
     "metadata": {},
     "output_type": "display_data"
    },
    {
     "name": "stderr",
     "output_type": "stream",
     "text": [
      "25 Nov 15:51    INFO  epoch 77 training [time: 0.98s, train loss: 111964.2854]\n"
     ]
    },
    {
     "data": {
      "application/vnd.jupyter.widget-view+json": {
       "model_id": "49b0f4797969412d87d46293e1f0a8c4",
       "version_major": 2,
       "version_minor": 0
      },
      "text/plain": [
       "\u001b[1;35mTrain    78\u001b[0m:   0%|                                                          | 0/123 [00:00<?, ?it/s…"
      ]
     },
     "metadata": {},
     "output_type": "display_data"
    },
    {
     "name": "stderr",
     "output_type": "stream",
     "text": [
      "25 Nov 15:51    INFO  epoch 78 training [time: 0.96s, train loss: 111990.4363]\n"
     ]
    },
    {
     "data": {
      "application/vnd.jupyter.widget-view+json": {
       "model_id": "255c520b25ee49d887dad8bc67da0b9c",
       "version_major": 2,
       "version_minor": 0
      },
      "text/plain": [
       "\u001b[1;35mTrain    79\u001b[0m:   0%|                                                          | 0/123 [00:00<?, ?it/s…"
      ]
     },
     "metadata": {},
     "output_type": "display_data"
    },
    {
     "name": "stderr",
     "output_type": "stream",
     "text": [
      "25 Nov 15:51    INFO  epoch 79 training [time: 0.91s, train loss: 111964.1307]\n",
      "25 Nov 15:51    INFO  Saving current: saved\\RaCT-train_ratings-80.pth\n"
     ]
    },
    {
     "data": {
      "application/vnd.jupyter.widget-view+json": {
       "model_id": "ff23a0d411124b2591f7904f394eb615",
       "version_major": 2,
       "version_minor": 0
      },
      "text/plain": [
       "\u001b[1;35mTrain    80\u001b[0m:   0%|                                                          | 0/123 [00:00<?, ?it/s…"
      ]
     },
     "metadata": {},
     "output_type": "display_data"
    },
    {
     "name": "stderr",
     "output_type": "stream",
     "text": [
      "25 Nov 15:51    INFO  epoch 80 training [time: 0.91s, train loss: 111917.0116]\n"
     ]
    },
    {
     "data": {
      "application/vnd.jupyter.widget-view+json": {
       "model_id": "e8676a2300ff4954b88e13cf90def133",
       "version_major": 2,
       "version_minor": 0
      },
      "text/plain": [
       "\u001b[1;35mTrain    81\u001b[0m:   0%|                                                          | 0/123 [00:00<?, ?it/s…"
      ]
     },
     "metadata": {},
     "output_type": "display_data"
    },
    {
     "name": "stderr",
     "output_type": "stream",
     "text": [
      "25 Nov 15:51    INFO  epoch 81 training [time: 0.96s, train loss: 111799.3218]\n"
     ]
    },
    {
     "data": {
      "application/vnd.jupyter.widget-view+json": {
       "model_id": "9ad3608267fe4786ab668509da9f822f",
       "version_major": 2,
       "version_minor": 0
      },
      "text/plain": [
       "\u001b[1;35mTrain    82\u001b[0m:   0%|                                                          | 0/123 [00:00<?, ?it/s…"
      ]
     },
     "metadata": {},
     "output_type": "display_data"
    },
    {
     "name": "stderr",
     "output_type": "stream",
     "text": [
      "25 Nov 15:51    INFO  epoch 82 training [time: 0.94s, train loss: 111823.5416]\n"
     ]
    },
    {
     "data": {
      "application/vnd.jupyter.widget-view+json": {
       "model_id": "c668695e9d404ff08dd8c818b1fbfbf9",
       "version_major": 2,
       "version_minor": 0
      },
      "text/plain": [
       "\u001b[1;35mTrain    83\u001b[0m:   0%|                                                          | 0/123 [00:00<?, ?it/s…"
      ]
     },
     "metadata": {},
     "output_type": "display_data"
    },
    {
     "name": "stderr",
     "output_type": "stream",
     "text": [
      "25 Nov 15:51    INFO  epoch 83 training [time: 0.90s, train loss: 111674.7606]\n"
     ]
    },
    {
     "data": {
      "application/vnd.jupyter.widget-view+json": {
       "model_id": "70f72baa74a9464aa96c77fc61efd8bb",
       "version_major": 2,
       "version_minor": 0
      },
      "text/plain": [
       "\u001b[1;35mTrain    84\u001b[0m:   0%|                                                          | 0/123 [00:00<?, ?it/s…"
      ]
     },
     "metadata": {},
     "output_type": "display_data"
    },
    {
     "name": "stderr",
     "output_type": "stream",
     "text": [
      "25 Nov 15:51    INFO  epoch 84 training [time: 0.92s, train loss: 111701.8964]\n"
     ]
    },
    {
     "data": {
      "application/vnd.jupyter.widget-view+json": {
       "model_id": "27a892745f3f401b939b5756f28c3faa",
       "version_major": 2,
       "version_minor": 0
      },
      "text/plain": [
       "\u001b[1;35mTrain    85\u001b[0m:   0%|                                                          | 0/123 [00:00<?, ?it/s…"
      ]
     },
     "metadata": {},
     "output_type": "display_data"
    },
    {
     "name": "stderr",
     "output_type": "stream",
     "text": [
      "25 Nov 15:51    INFO  epoch 85 training [time: 0.92s, train loss: 111605.8513]\n"
     ]
    },
    {
     "data": {
      "application/vnd.jupyter.widget-view+json": {
       "model_id": "0924ececc3c84f40a0c33a9b0be98112",
       "version_major": 2,
       "version_minor": 0
      },
      "text/plain": [
       "\u001b[1;35mTrain    86\u001b[0m:   0%|                                                          | 0/123 [00:00<?, ?it/s…"
      ]
     },
     "metadata": {},
     "output_type": "display_data"
    },
    {
     "name": "stderr",
     "output_type": "stream",
     "text": [
      "25 Nov 15:51    INFO  epoch 86 training [time: 0.91s, train loss: 111594.8994]\n"
     ]
    },
    {
     "data": {
      "application/vnd.jupyter.widget-view+json": {
       "model_id": "ea832c5adfe7466c8c96ba711f682c53",
       "version_major": 2,
       "version_minor": 0
      },
      "text/plain": [
       "\u001b[1;35mTrain    87\u001b[0m:   0%|                                                          | 0/123 [00:00<?, ?it/s…"
      ]
     },
     "metadata": {},
     "output_type": "display_data"
    },
    {
     "name": "stderr",
     "output_type": "stream",
     "text": [
      "25 Nov 15:51    INFO  epoch 87 training [time: 0.90s, train loss: 111558.5955]\n"
     ]
    },
    {
     "data": {
      "application/vnd.jupyter.widget-view+json": {
       "model_id": "ffd3b28a670441189806e9dcbaa8b119",
       "version_major": 2,
       "version_minor": 0
      },
      "text/plain": [
       "\u001b[1;35mTrain    88\u001b[0m:   0%|                                                          | 0/123 [00:00<?, ?it/s…"
      ]
     },
     "metadata": {},
     "output_type": "display_data"
    },
    {
     "name": "stderr",
     "output_type": "stream",
     "text": [
      "25 Nov 15:51    INFO  epoch 88 training [time: 0.94s, train loss: 111466.4630]\n"
     ]
    },
    {
     "data": {
      "application/vnd.jupyter.widget-view+json": {
       "model_id": "67c7304ad86d40e3b1e244107d4670db",
       "version_major": 2,
       "version_minor": 0
      },
      "text/plain": [
       "\u001b[1;35mTrain    89\u001b[0m:   0%|                                                          | 0/123 [00:00<?, ?it/s…"
      ]
     },
     "metadata": {},
     "output_type": "display_data"
    },
    {
     "name": "stderr",
     "output_type": "stream",
     "text": [
      "25 Nov 15:52    INFO  epoch 89 training [time: 0.89s, train loss: 111520.2159]\n",
      "25 Nov 15:52    INFO  Saving current: saved\\RaCT-train_ratings-90.pth\n"
     ]
    },
    {
     "data": {
      "application/vnd.jupyter.widget-view+json": {
       "model_id": "12aab35143a94689b04fd41122015bb3",
       "version_major": 2,
       "version_minor": 0
      },
      "text/plain": [
       "\u001b[1;35mTrain    90\u001b[0m:   0%|                                                          | 0/123 [00:00<?, ?it/s…"
      ]
     },
     "metadata": {},
     "output_type": "display_data"
    },
    {
     "name": "stderr",
     "output_type": "stream",
     "text": [
      "25 Nov 15:52    INFO  epoch 90 training [time: 0.93s, train loss: 111515.5195]\n"
     ]
    },
    {
     "data": {
      "application/vnd.jupyter.widget-view+json": {
       "model_id": "f08f183d01ee42e18e64c0c9d398adc9",
       "version_major": 2,
       "version_minor": 0
      },
      "text/plain": [
       "\u001b[1;35mTrain    91\u001b[0m:   0%|                                                          | 0/123 [00:00<?, ?it/s…"
      ]
     },
     "metadata": {},
     "output_type": "display_data"
    },
    {
     "name": "stderr",
     "output_type": "stream",
     "text": [
      "25 Nov 15:52    INFO  epoch 91 training [time: 0.88s, train loss: 111378.7082]\n"
     ]
    },
    {
     "data": {
      "application/vnd.jupyter.widget-view+json": {
       "model_id": "e35027e494ba4af69a82df701b01e2f5",
       "version_major": 2,
       "version_minor": 0
      },
      "text/plain": [
       "\u001b[1;35mTrain    92\u001b[0m:   0%|                                                          | 0/123 [00:00<?, ?it/s…"
      ]
     },
     "metadata": {},
     "output_type": "display_data"
    },
    {
     "name": "stderr",
     "output_type": "stream",
     "text": [
      "25 Nov 15:52    INFO  epoch 92 training [time: 0.88s, train loss: 111469.7524]\n"
     ]
    },
    {
     "data": {
      "application/vnd.jupyter.widget-view+json": {
       "model_id": "5d1331bac8f642e58540f961e2edbe11",
       "version_major": 2,
       "version_minor": 0
      },
      "text/plain": [
       "\u001b[1;35mTrain    93\u001b[0m:   0%|                                                          | 0/123 [00:00<?, ?it/s…"
      ]
     },
     "metadata": {},
     "output_type": "display_data"
    },
    {
     "name": "stderr",
     "output_type": "stream",
     "text": [
      "25 Nov 15:52    INFO  epoch 93 training [time: 0.88s, train loss: 111286.8663]\n"
     ]
    },
    {
     "data": {
      "application/vnd.jupyter.widget-view+json": {
       "model_id": "eb877233941e4691ab84b65ccfe3ae9f",
       "version_major": 2,
       "version_minor": 0
      },
      "text/plain": [
       "\u001b[1;35mTrain    94\u001b[0m:   0%|                                                          | 0/123 [00:00<?, ?it/s…"
      ]
     },
     "metadata": {},
     "output_type": "display_data"
    },
    {
     "name": "stderr",
     "output_type": "stream",
     "text": [
      "25 Nov 15:52    INFO  epoch 94 training [time: 0.93s, train loss: 111350.2619]\n"
     ]
    },
    {
     "data": {
      "application/vnd.jupyter.widget-view+json": {
       "model_id": "dbfe170077754b68a44738f256907f96",
       "version_major": 2,
       "version_minor": 0
      },
      "text/plain": [
       "\u001b[1;35mTrain    95\u001b[0m:   0%|                                                          | 0/123 [00:00<?, ?it/s…"
      ]
     },
     "metadata": {},
     "output_type": "display_data"
    },
    {
     "name": "stderr",
     "output_type": "stream",
     "text": [
      "25 Nov 15:52    INFO  epoch 95 training [time: 0.92s, train loss: 111199.8732]\n"
     ]
    },
    {
     "data": {
      "application/vnd.jupyter.widget-view+json": {
       "model_id": "8587ec38f6ed4d8ca20dac414456abfd",
       "version_major": 2,
       "version_minor": 0
      },
      "text/plain": [
       "\u001b[1;35mTrain    96\u001b[0m:   0%|                                                          | 0/123 [00:00<?, ?it/s…"
      ]
     },
     "metadata": {},
     "output_type": "display_data"
    },
    {
     "name": "stderr",
     "output_type": "stream",
     "text": [
      "25 Nov 15:52    INFO  epoch 96 training [time: 0.91s, train loss: 111212.4180]\n"
     ]
    },
    {
     "data": {
      "application/vnd.jupyter.widget-view+json": {
       "model_id": "4fb6c0e4866f402689ede5d52d4eac8b",
       "version_major": 2,
       "version_minor": 0
      },
      "text/plain": [
       "\u001b[1;35mTrain    97\u001b[0m:   0%|                                                          | 0/123 [00:00<?, ?it/s…"
      ]
     },
     "metadata": {},
     "output_type": "display_data"
    },
    {
     "name": "stderr",
     "output_type": "stream",
     "text": [
      "25 Nov 15:52    INFO  epoch 97 training [time: 0.92s, train loss: 111156.6013]\n"
     ]
    },
    {
     "data": {
      "application/vnd.jupyter.widget-view+json": {
       "model_id": "6bec24cd43364c1aae4c03d6922b6a3b",
       "version_major": 2,
       "version_minor": 0
      },
      "text/plain": [
       "\u001b[1;35mTrain    98\u001b[0m:   0%|                                                          | 0/123 [00:00<?, ?it/s…"
      ]
     },
     "metadata": {},
     "output_type": "display_data"
    },
    {
     "name": "stderr",
     "output_type": "stream",
     "text": [
      "25 Nov 15:52    INFO  epoch 98 training [time: 0.93s, train loss: 111223.3444]\n"
     ]
    },
    {
     "data": {
      "application/vnd.jupyter.widget-view+json": {
       "model_id": "55ff9633444b4ecdb9b9755588fa4d58",
       "version_major": 2,
       "version_minor": 0
      },
      "text/plain": [
       "\u001b[1;35mTrain    99\u001b[0m:   0%|                                                          | 0/123 [00:00<?, ?it/s…"
      ]
     },
     "metadata": {},
     "output_type": "display_data"
    },
    {
     "name": "stderr",
     "output_type": "stream",
     "text": [
      "25 Nov 15:52    INFO  epoch 99 training [time: 0.92s, train loss: 111045.6403]\n",
      "25 Nov 15:52    INFO  Saving current: saved\\RaCT-train_ratings-100.pth\n"
     ]
    },
    {
     "data": {
      "application/vnd.jupyter.widget-view+json": {
       "model_id": "bd647d0b711b4ee68957246369b06e7f",
       "version_major": 2,
       "version_minor": 0
      },
      "text/plain": [
       "\u001b[1;35mTrain   100\u001b[0m:   0%|                                                          | 0/123 [00:00<?, ?it/s…"
      ]
     },
     "metadata": {},
     "output_type": "display_data"
    },
    {
     "name": "stderr",
     "output_type": "stream",
     "text": [
      "25 Nov 15:52    INFO  epoch 100 training [time: 0.94s, train loss: 111063.4672]\n"
     ]
    },
    {
     "data": {
      "application/vnd.jupyter.widget-view+json": {
       "model_id": "71c836bd43d0417ca591e06eec364e88",
       "version_major": 2,
       "version_minor": 0
      },
      "text/plain": [
       "\u001b[1;35mTrain   101\u001b[0m:   0%|                                                          | 0/123 [00:00<?, ?it/s…"
      ]
     },
     "metadata": {},
     "output_type": "display_data"
    },
    {
     "name": "stderr",
     "output_type": "stream",
     "text": [
      "25 Nov 15:52    INFO  epoch 101 training [time: 0.93s, train loss: 110915.6734]\n"
     ]
    },
    {
     "data": {
      "application/vnd.jupyter.widget-view+json": {
       "model_id": "ba8f2b93dc534aa08593c9f5d5ac1d9a",
       "version_major": 2,
       "version_minor": 0
      },
      "text/plain": [
       "\u001b[1;35mTrain   102\u001b[0m:   0%|                                                          | 0/123 [00:00<?, ?it/s…"
      ]
     },
     "metadata": {},
     "output_type": "display_data"
    },
    {
     "name": "stderr",
     "output_type": "stream",
     "text": [
      "25 Nov 15:52    INFO  epoch 102 training [time: 0.92s, train loss: 111012.4773]\n"
     ]
    },
    {
     "data": {
      "application/vnd.jupyter.widget-view+json": {
       "model_id": "31bdc1952e5548a8a16d5ec0ee3fde4e",
       "version_major": 2,
       "version_minor": 0
      },
      "text/plain": [
       "\u001b[1;35mTrain   103\u001b[0m:   0%|                                                          | 0/123 [00:00<?, ?it/s…"
      ]
     },
     "metadata": {},
     "output_type": "display_data"
    },
    {
     "name": "stderr",
     "output_type": "stream",
     "text": [
      "25 Nov 15:52    INFO  epoch 103 training [time: 0.92s, train loss: 110957.3799]\n"
     ]
    },
    {
     "data": {
      "application/vnd.jupyter.widget-view+json": {
       "model_id": "056765fbc80745d7918021769fad36e4",
       "version_major": 2,
       "version_minor": 0
      },
      "text/plain": [
       "\u001b[1;35mTrain   104\u001b[0m:   0%|                                                          | 0/123 [00:00<?, ?it/s…"
      ]
     },
     "metadata": {},
     "output_type": "display_data"
    },
    {
     "name": "stderr",
     "output_type": "stream",
     "text": [
      "25 Nov 15:52    INFO  epoch 104 training [time: 0.93s, train loss: 110868.1520]\n"
     ]
    },
    {
     "data": {
      "application/vnd.jupyter.widget-view+json": {
       "model_id": "61d3bad12a4545949636b2be0f46d8fe",
       "version_major": 2,
       "version_minor": 0
      },
      "text/plain": [
       "\u001b[1;35mTrain   105\u001b[0m:   0%|                                                          | 0/123 [00:00<?, ?it/s…"
      ]
     },
     "metadata": {},
     "output_type": "display_data"
    },
    {
     "name": "stderr",
     "output_type": "stream",
     "text": [
      "25 Nov 15:52    INFO  epoch 105 training [time: 0.90s, train loss: 110828.2197]\n"
     ]
    },
    {
     "data": {
      "application/vnd.jupyter.widget-view+json": {
       "model_id": "be56d69ca32542a9a35051a7d0afaf78",
       "version_major": 2,
       "version_minor": 0
      },
      "text/plain": [
       "\u001b[1;35mTrain   106\u001b[0m:   0%|                                                          | 0/123 [00:00<?, ?it/s…"
      ]
     },
     "metadata": {},
     "output_type": "display_data"
    },
    {
     "name": "stderr",
     "output_type": "stream",
     "text": [
      "25 Nov 15:52    INFO  epoch 106 training [time: 0.94s, train loss: 110904.4589]\n"
     ]
    },
    {
     "data": {
      "application/vnd.jupyter.widget-view+json": {
       "model_id": "ba8ac786c289409cb235a4d9219ad0f9",
       "version_major": 2,
       "version_minor": 0
      },
      "text/plain": [
       "\u001b[1;35mTrain   107\u001b[0m:   0%|                                                          | 0/123 [00:00<?, ?it/s…"
      ]
     },
     "metadata": {},
     "output_type": "display_data"
    },
    {
     "name": "stderr",
     "output_type": "stream",
     "text": [
      "25 Nov 15:52    INFO  epoch 107 training [time: 0.91s, train loss: 110758.2600]\n"
     ]
    },
    {
     "data": {
      "application/vnd.jupyter.widget-view+json": {
       "model_id": "e0f4bf67767a4708b8fcc45cd4038f36",
       "version_major": 2,
       "version_minor": 0
      },
      "text/plain": [
       "\u001b[1;35mTrain   108\u001b[0m:   0%|                                                          | 0/123 [00:00<?, ?it/s…"
      ]
     },
     "metadata": {},
     "output_type": "display_data"
    },
    {
     "name": "stderr",
     "output_type": "stream",
     "text": [
      "25 Nov 15:52    INFO  epoch 108 training [time: 0.91s, train loss: 110752.4061]\n"
     ]
    },
    {
     "data": {
      "application/vnd.jupyter.widget-view+json": {
       "model_id": "2f482ed7df5e46fb8b52935cec9bcfe6",
       "version_major": 2,
       "version_minor": 0
      },
      "text/plain": [
       "\u001b[1;35mTrain   109\u001b[0m:   0%|                                                          | 0/123 [00:00<?, ?it/s…"
      ]
     },
     "metadata": {},
     "output_type": "display_data"
    },
    {
     "name": "stderr",
     "output_type": "stream",
     "text": [
      "25 Nov 15:52    INFO  epoch 109 training [time: 0.94s, train loss: 110730.2590]\n",
      "25 Nov 15:52    INFO  Saving current: saved\\RaCT-train_ratings-110.pth\n"
     ]
    },
    {
     "data": {
      "application/vnd.jupyter.widget-view+json": {
       "model_id": "48047955ea83465a8661e292d98ab62c",
       "version_major": 2,
       "version_minor": 0
      },
      "text/plain": [
       "\u001b[1;35mTrain   110\u001b[0m:   0%|                                                          | 0/123 [00:00<?, ?it/s…"
      ]
     },
     "metadata": {},
     "output_type": "display_data"
    },
    {
     "name": "stderr",
     "output_type": "stream",
     "text": [
      "25 Nov 15:52    INFO  epoch 110 training [time: 0.90s, train loss: 110612.6736]\n"
     ]
    },
    {
     "data": {
      "application/vnd.jupyter.widget-view+json": {
       "model_id": "5dc390207ebd4b48968e2e0ca48f26a5",
       "version_major": 2,
       "version_minor": 0
      },
      "text/plain": [
       "\u001b[1;35mTrain   111\u001b[0m:   0%|                                                          | 0/123 [00:00<?, ?it/s…"
      ]
     },
     "metadata": {},
     "output_type": "display_data"
    },
    {
     "name": "stderr",
     "output_type": "stream",
     "text": [
      "25 Nov 15:52    INFO  epoch 111 training [time: 0.92s, train loss: 110704.6888]\n"
     ]
    },
    {
     "data": {
      "application/vnd.jupyter.widget-view+json": {
       "model_id": "79414cafa3c544fbb47b32e723214563",
       "version_major": 2,
       "version_minor": 0
      },
      "text/plain": [
       "\u001b[1;35mTrain   112\u001b[0m:   0%|                                                          | 0/123 [00:00<?, ?it/s…"
      ]
     },
     "metadata": {},
     "output_type": "display_data"
    },
    {
     "name": "stderr",
     "output_type": "stream",
     "text": [
      "25 Nov 15:52    INFO  epoch 112 training [time: 0.91s, train loss: 110555.1429]\n"
     ]
    },
    {
     "data": {
      "application/vnd.jupyter.widget-view+json": {
       "model_id": "dcd94af5148d44669598f6c88f37a914",
       "version_major": 2,
       "version_minor": 0
      },
      "text/plain": [
       "\u001b[1;35mTrain   113\u001b[0m:   0%|                                                          | 0/123 [00:00<?, ?it/s…"
      ]
     },
     "metadata": {},
     "output_type": "display_data"
    },
    {
     "name": "stderr",
     "output_type": "stream",
     "text": [
      "25 Nov 15:52    INFO  epoch 113 training [time: 0.92s, train loss: 110544.1521]\n"
     ]
    },
    {
     "data": {
      "application/vnd.jupyter.widget-view+json": {
       "model_id": "7842ee5619ff4ed289e672bb312fb625",
       "version_major": 2,
       "version_minor": 0
      },
      "text/plain": [
       "\u001b[1;35mTrain   114\u001b[0m:   0%|                                                          | 0/123 [00:00<?, ?it/s…"
      ]
     },
     "metadata": {},
     "output_type": "display_data"
    },
    {
     "name": "stderr",
     "output_type": "stream",
     "text": [
      "25 Nov 15:52    INFO  epoch 114 training [time: 0.91s, train loss: 110516.9660]\n"
     ]
    },
    {
     "data": {
      "application/vnd.jupyter.widget-view+json": {
       "model_id": "59da334feb1e49398c8621b8d6973a74",
       "version_major": 2,
       "version_minor": 0
      },
      "text/plain": [
       "\u001b[1;35mTrain   115\u001b[0m:   0%|                                                          | 0/123 [00:00<?, ?it/s…"
      ]
     },
     "metadata": {},
     "output_type": "display_data"
    },
    {
     "name": "stderr",
     "output_type": "stream",
     "text": [
      "25 Nov 15:52    INFO  epoch 115 training [time: 0.95s, train loss: 110527.2581]\n"
     ]
    },
    {
     "data": {
      "application/vnd.jupyter.widget-view+json": {
       "model_id": "f0141c36f8454f638121d3e5746ec847",
       "version_major": 2,
       "version_minor": 0
      },
      "text/plain": [
       "\u001b[1;35mTrain   116\u001b[0m:   0%|                                                          | 0/123 [00:00<?, ?it/s…"
      ]
     },
     "metadata": {},
     "output_type": "display_data"
    },
    {
     "name": "stderr",
     "output_type": "stream",
     "text": [
      "25 Nov 15:52    INFO  epoch 116 training [time: 0.91s, train loss: 110452.2766]\n"
     ]
    },
    {
     "data": {
      "application/vnd.jupyter.widget-view+json": {
       "model_id": "d07654fe00184823abf36831e0665c11",
       "version_major": 2,
       "version_minor": 0
      },
      "text/plain": [
       "\u001b[1;35mTrain   117\u001b[0m:   0%|                                                          | 0/123 [00:00<?, ?it/s…"
      ]
     },
     "metadata": {},
     "output_type": "display_data"
    },
    {
     "name": "stderr",
     "output_type": "stream",
     "text": [
      "25 Nov 15:52    INFO  epoch 117 training [time: 0.94s, train loss: 110405.5098]\n"
     ]
    },
    {
     "data": {
      "application/vnd.jupyter.widget-view+json": {
       "model_id": "ee95a092435d42e88a8ba8553457d615",
       "version_major": 2,
       "version_minor": 0
      },
      "text/plain": [
       "\u001b[1;35mTrain   118\u001b[0m:   0%|                                                          | 0/123 [00:00<?, ?it/s…"
      ]
     },
     "metadata": {},
     "output_type": "display_data"
    },
    {
     "name": "stderr",
     "output_type": "stream",
     "text": [
      "25 Nov 15:52    INFO  epoch 118 training [time: 1.09s, train loss: 110373.1295]\n"
     ]
    },
    {
     "data": {
      "application/vnd.jupyter.widget-view+json": {
       "model_id": "399a7beea31249d8af8cf9557a3c87d8",
       "version_major": 2,
       "version_minor": 0
      },
      "text/plain": [
       "\u001b[1;35mTrain   119\u001b[0m:   0%|                                                          | 0/123 [00:00<?, ?it/s…"
      ]
     },
     "metadata": {},
     "output_type": "display_data"
    },
    {
     "name": "stderr",
     "output_type": "stream",
     "text": [
      "25 Nov 15:52    INFO  epoch 119 training [time: 1.06s, train loss: 110384.3026]\n",
      "25 Nov 15:52    INFO  Saving current: saved\\RaCT-train_ratings-120.pth\n"
     ]
    },
    {
     "data": {
      "application/vnd.jupyter.widget-view+json": {
       "model_id": "93f32300b66649f597109e75e41cc3f4",
       "version_major": 2,
       "version_minor": 0
      },
      "text/plain": [
       "\u001b[1;35mTrain   120\u001b[0m:   0%|                                                          | 0/123 [00:00<?, ?it/s…"
      ]
     },
     "metadata": {},
     "output_type": "display_data"
    },
    {
     "name": "stderr",
     "output_type": "stream",
     "text": [
      "25 Nov 15:52    INFO  epoch 120 training [time: 1.15s, train loss: 110400.3193]\n"
     ]
    },
    {
     "data": {
      "application/vnd.jupyter.widget-view+json": {
       "model_id": "c188e85d1cdc49f9bfefd89341b71a96",
       "version_major": 2,
       "version_minor": 0
      },
      "text/plain": [
       "\u001b[1;35mTrain   121\u001b[0m:   0%|                                                          | 0/123 [00:00<?, ?it/s…"
      ]
     },
     "metadata": {},
     "output_type": "display_data"
    },
    {
     "name": "stderr",
     "output_type": "stream",
     "text": [
      "25 Nov 15:52    INFO  epoch 121 training [time: 1.14s, train loss: 110283.9706]\n"
     ]
    },
    {
     "data": {
      "application/vnd.jupyter.widget-view+json": {
       "model_id": "38a326bb8833446784bde36dc53b0127",
       "version_major": 2,
       "version_minor": 0
      },
      "text/plain": [
       "\u001b[1;35mTrain   122\u001b[0m:   0%|                                                          | 0/123 [00:00<?, ?it/s…"
      ]
     },
     "metadata": {},
     "output_type": "display_data"
    },
    {
     "name": "stderr",
     "output_type": "stream",
     "text": [
      "25 Nov 15:52    INFO  epoch 122 training [time: 1.02s, train loss: 110239.8885]\n"
     ]
    },
    {
     "data": {
      "application/vnd.jupyter.widget-view+json": {
       "model_id": "1b6777721ab6421bbd4401bee43278a2",
       "version_major": 2,
       "version_minor": 0
      },
      "text/plain": [
       "\u001b[1;35mTrain   123\u001b[0m:   0%|                                                          | 0/123 [00:00<?, ?it/s…"
      ]
     },
     "metadata": {},
     "output_type": "display_data"
    },
    {
     "name": "stderr",
     "output_type": "stream",
     "text": [
      "25 Nov 15:52    INFO  epoch 123 training [time: 1.09s, train loss: 110291.7261]\n"
     ]
    },
    {
     "data": {
      "application/vnd.jupyter.widget-view+json": {
       "model_id": "e4423de0d0564ec38d15ac63aa834977",
       "version_major": 2,
       "version_minor": 0
      },
      "text/plain": [
       "\u001b[1;35mTrain   124\u001b[0m:   0%|                                                          | 0/123 [00:00<?, ?it/s…"
      ]
     },
     "metadata": {},
     "output_type": "display_data"
    },
    {
     "name": "stderr",
     "output_type": "stream",
     "text": [
      "25 Nov 15:52    INFO  epoch 124 training [time: 1.14s, train loss: 110178.4825]\n"
     ]
    },
    {
     "data": {
      "application/vnd.jupyter.widget-view+json": {
       "model_id": "8b5e931a3132462a904fe2a617d1b233",
       "version_major": 2,
       "version_minor": 0
      },
      "text/plain": [
       "\u001b[1;35mTrain   125\u001b[0m:   0%|                                                          | 0/123 [00:00<?, ?it/s…"
      ]
     },
     "metadata": {},
     "output_type": "display_data"
    },
    {
     "name": "stderr",
     "output_type": "stream",
     "text": [
      "25 Nov 15:52    INFO  epoch 125 training [time: 1.09s, train loss: 110221.4058]\n"
     ]
    },
    {
     "data": {
      "application/vnd.jupyter.widget-view+json": {
       "model_id": "1a292341d26242c49b46a1a77b903865",
       "version_major": 2,
       "version_minor": 0
      },
      "text/plain": [
       "\u001b[1;35mTrain   126\u001b[0m:   0%|                                                          | 0/123 [00:00<?, ?it/s…"
      ]
     },
     "metadata": {},
     "output_type": "display_data"
    },
    {
     "name": "stderr",
     "output_type": "stream",
     "text": [
      "25 Nov 15:52    INFO  epoch 126 training [time: 1.08s, train loss: 110156.6121]\n"
     ]
    },
    {
     "data": {
      "application/vnd.jupyter.widget-view+json": {
       "model_id": "6d33a904b82c4e9589bd499b3f4c2bc5",
       "version_major": 2,
       "version_minor": 0
      },
      "text/plain": [
       "\u001b[1;35mTrain   127\u001b[0m:   0%|                                                          | 0/123 [00:00<?, ?it/s…"
      ]
     },
     "metadata": {},
     "output_type": "display_data"
    },
    {
     "name": "stderr",
     "output_type": "stream",
     "text": [
      "25 Nov 15:52    INFO  epoch 127 training [time: 1.05s, train loss: 110074.6296]\n"
     ]
    },
    {
     "data": {
      "application/vnd.jupyter.widget-view+json": {
       "model_id": "cba3d778570b46a9bd64c52b661acada",
       "version_major": 2,
       "version_minor": 0
      },
      "text/plain": [
       "\u001b[1;35mTrain   128\u001b[0m:   0%|                                                          | 0/123 [00:00<?, ?it/s…"
      ]
     },
     "metadata": {},
     "output_type": "display_data"
    },
    {
     "name": "stderr",
     "output_type": "stream",
     "text": [
      "25 Nov 15:52    INFO  epoch 128 training [time: 1.05s, train loss: 110089.6883]\n"
     ]
    },
    {
     "data": {
      "application/vnd.jupyter.widget-view+json": {
       "model_id": "d2483ca697c04211ab9115647f18191c",
       "version_major": 2,
       "version_minor": 0
      },
      "text/plain": [
       "\u001b[1;35mTrain   129\u001b[0m:   0%|                                                          | 0/123 [00:00<?, ?it/s…"
      ]
     },
     "metadata": {},
     "output_type": "display_data"
    },
    {
     "name": "stderr",
     "output_type": "stream",
     "text": [
      "25 Nov 15:52    INFO  epoch 129 training [time: 1.20s, train loss: 110124.1818]\n",
      "25 Nov 15:52    INFO  Saving current: saved\\RaCT-train_ratings-130.pth\n"
     ]
    },
    {
     "data": {
      "application/vnd.jupyter.widget-view+json": {
       "model_id": "534dbf90887246a28927935c34c783f3",
       "version_major": 2,
       "version_minor": 0
      },
      "text/plain": [
       "\u001b[1;35mTrain   130\u001b[0m:   0%|                                                          | 0/123 [00:00<?, ?it/s…"
      ]
     },
     "metadata": {},
     "output_type": "display_data"
    },
    {
     "name": "stderr",
     "output_type": "stream",
     "text": [
      "25 Nov 15:52    INFO  epoch 130 training [time: 1.16s, train loss: 109943.3717]\n"
     ]
    },
    {
     "data": {
      "application/vnd.jupyter.widget-view+json": {
       "model_id": "4537699932a64518803dd96f5b50ad5c",
       "version_major": 2,
       "version_minor": 0
      },
      "text/plain": [
       "\u001b[1;35mTrain   131\u001b[0m:   0%|                                                          | 0/123 [00:00<?, ?it/s…"
      ]
     },
     "metadata": {},
     "output_type": "display_data"
    },
    {
     "name": "stderr",
     "output_type": "stream",
     "text": [
      "25 Nov 15:52    INFO  epoch 131 training [time: 1.11s, train loss: 110005.8544]\n"
     ]
    },
    {
     "data": {
      "application/vnd.jupyter.widget-view+json": {
       "model_id": "1e8a82902524432184682e9aa3dd7e15",
       "version_major": 2,
       "version_minor": 0
      },
      "text/plain": [
       "\u001b[1;35mTrain   132\u001b[0m:   0%|                                                          | 0/123 [00:00<?, ?it/s…"
      ]
     },
     "metadata": {},
     "output_type": "display_data"
    },
    {
     "name": "stderr",
     "output_type": "stream",
     "text": [
      "25 Nov 15:52    INFO  epoch 132 training [time: 1.11s, train loss: 109991.5799]\n"
     ]
    },
    {
     "data": {
      "application/vnd.jupyter.widget-view+json": {
       "model_id": "853db3fe19324d32a58d29e388fe562c",
       "version_major": 2,
       "version_minor": 0
      },
      "text/plain": [
       "\u001b[1;35mTrain   133\u001b[0m:   0%|                                                          | 0/123 [00:00<?, ?it/s…"
      ]
     },
     "metadata": {},
     "output_type": "display_data"
    },
    {
     "name": "stderr",
     "output_type": "stream",
     "text": [
      "25 Nov 15:52    INFO  epoch 133 training [time: 1.14s, train loss: 109936.2069]\n"
     ]
    },
    {
     "data": {
      "application/vnd.jupyter.widget-view+json": {
       "model_id": "fe4b4ff2d3734ec4a0523ba3ea864869",
       "version_major": 2,
       "version_minor": 0
      },
      "text/plain": [
       "\u001b[1;35mTrain   134\u001b[0m:   0%|                                                          | 0/123 [00:00<?, ?it/s…"
      ]
     },
     "metadata": {},
     "output_type": "display_data"
    },
    {
     "name": "stderr",
     "output_type": "stream",
     "text": [
      "25 Nov 15:52    INFO  epoch 134 training [time: 1.14s, train loss: 109972.2917]\n"
     ]
    },
    {
     "data": {
      "application/vnd.jupyter.widget-view+json": {
       "model_id": "66311d58d7b943188351de220053a826",
       "version_major": 2,
       "version_minor": 0
      },
      "text/plain": [
       "\u001b[1;35mTrain   135\u001b[0m:   0%|                                                          | 0/123 [00:00<?, ?it/s…"
      ]
     },
     "metadata": {},
     "output_type": "display_data"
    },
    {
     "name": "stderr",
     "output_type": "stream",
     "text": [
      "25 Nov 15:52    INFO  epoch 135 training [time: 1.12s, train loss: 109826.4371]\n"
     ]
    },
    {
     "data": {
      "application/vnd.jupyter.widget-view+json": {
       "model_id": "64b4d9b6f83d4e448d89e0bca4be3bf1",
       "version_major": 2,
       "version_minor": 0
      },
      "text/plain": [
       "\u001b[1;35mTrain   136\u001b[0m:   0%|                                                          | 0/123 [00:00<?, ?it/s…"
      ]
     },
     "metadata": {},
     "output_type": "display_data"
    },
    {
     "name": "stderr",
     "output_type": "stream",
     "text": [
      "25 Nov 15:52    INFO  epoch 136 training [time: 1.11s, train loss: 109827.2448]\n"
     ]
    },
    {
     "data": {
      "application/vnd.jupyter.widget-view+json": {
       "model_id": "fe6e77ef1e3e4224bd753576995721a3",
       "version_major": 2,
       "version_minor": 0
      },
      "text/plain": [
       "\u001b[1;35mTrain   137\u001b[0m:   0%|                                                          | 0/123 [00:00<?, ?it/s…"
      ]
     },
     "metadata": {},
     "output_type": "display_data"
    },
    {
     "name": "stderr",
     "output_type": "stream",
     "text": [
      "25 Nov 15:52    INFO  epoch 137 training [time: 1.02s, train loss: 109773.5609]\n"
     ]
    },
    {
     "data": {
      "application/vnd.jupyter.widget-view+json": {
       "model_id": "a623b644adc04b73b6a6a6d0428db97a",
       "version_major": 2,
       "version_minor": 0
      },
      "text/plain": [
       "\u001b[1;35mTrain   138\u001b[0m:   0%|                                                          | 0/123 [00:00<?, ?it/s…"
      ]
     },
     "metadata": {},
     "output_type": "display_data"
    },
    {
     "name": "stderr",
     "output_type": "stream",
     "text": [
      "25 Nov 15:52    INFO  epoch 138 training [time: 1.05s, train loss: 109745.7072]\n"
     ]
    },
    {
     "data": {
      "application/vnd.jupyter.widget-view+json": {
       "model_id": "4e14f11eff0941a2b58134afe20bb934",
       "version_major": 2,
       "version_minor": 0
      },
      "text/plain": [
       "\u001b[1;35mTrain   139\u001b[0m:   0%|                                                          | 0/123 [00:00<?, ?it/s…"
      ]
     },
     "metadata": {},
     "output_type": "display_data"
    },
    {
     "name": "stderr",
     "output_type": "stream",
     "text": [
      "25 Nov 15:52    INFO  epoch 139 training [time: 0.95s, train loss: 109807.0575]\n",
      "25 Nov 15:52    INFO  Saving current: saved\\RaCT-train_ratings-140.pth\n"
     ]
    },
    {
     "data": {
      "application/vnd.jupyter.widget-view+json": {
       "model_id": "d353985c6ed249909ce480eee8893727",
       "version_major": 2,
       "version_minor": 0
      },
      "text/plain": [
       "\u001b[1;35mTrain   140\u001b[0m:   0%|                                                          | 0/123 [00:00<?, ?it/s…"
      ]
     },
     "metadata": {},
     "output_type": "display_data"
    },
    {
     "name": "stderr",
     "output_type": "stream",
     "text": [
      "25 Nov 15:52    INFO  epoch 140 training [time: 0.94s, train loss: 109737.8265]\n"
     ]
    },
    {
     "data": {
      "application/vnd.jupyter.widget-view+json": {
       "model_id": "97f38c696a0943a2be3b2eb67d9543f0",
       "version_major": 2,
       "version_minor": 0
      },
      "text/plain": [
       "\u001b[1;35mTrain   141\u001b[0m:   0%|                                                          | 0/123 [00:00<?, ?it/s…"
      ]
     },
     "metadata": {},
     "output_type": "display_data"
    },
    {
     "name": "stderr",
     "output_type": "stream",
     "text": [
      "25 Nov 15:52    INFO  epoch 141 training [time: 0.91s, train loss: 109639.9574]\n"
     ]
    },
    {
     "data": {
      "application/vnd.jupyter.widget-view+json": {
       "model_id": "27b1e30a341648289a758f31452890f8",
       "version_major": 2,
       "version_minor": 0
      },
      "text/plain": [
       "\u001b[1;35mTrain   142\u001b[0m:   0%|                                                          | 0/123 [00:00<?, ?it/s…"
      ]
     },
     "metadata": {},
     "output_type": "display_data"
    },
    {
     "name": "stderr",
     "output_type": "stream",
     "text": [
      "25 Nov 15:52    INFO  epoch 142 training [time: 0.91s, train loss: 109597.7356]\n"
     ]
    },
    {
     "data": {
      "application/vnd.jupyter.widget-view+json": {
       "model_id": "870cd19f93c5444b861d2a53c59502f6",
       "version_major": 2,
       "version_minor": 0
      },
      "text/plain": [
       "\u001b[1;35mTrain   143\u001b[0m:   0%|                                                          | 0/123 [00:00<?, ?it/s…"
      ]
     },
     "metadata": {},
     "output_type": "display_data"
    },
    {
     "name": "stderr",
     "output_type": "stream",
     "text": [
      "25 Nov 15:52    INFO  epoch 143 training [time: 0.90s, train loss: 109683.5336]\n"
     ]
    },
    {
     "data": {
      "application/vnd.jupyter.widget-view+json": {
       "model_id": "622c4108800d49c69427a9b93af3b9fb",
       "version_major": 2,
       "version_minor": 0
      },
      "text/plain": [
       "\u001b[1;35mTrain   144\u001b[0m:   0%|                                                          | 0/123 [00:00<?, ?it/s…"
      ]
     },
     "metadata": {},
     "output_type": "display_data"
    },
    {
     "name": "stderr",
     "output_type": "stream",
     "text": [
      "25 Nov 15:52    INFO  epoch 144 training [time: 0.90s, train loss: 109587.1068]\n"
     ]
    },
    {
     "data": {
      "application/vnd.jupyter.widget-view+json": {
       "model_id": "c12635debb7d488dbab8e1585755d1cf",
       "version_major": 2,
       "version_minor": 0
      },
      "text/plain": [
       "\u001b[1;35mTrain   145\u001b[0m:   0%|                                                          | 0/123 [00:00<?, ?it/s…"
      ]
     },
     "metadata": {},
     "output_type": "display_data"
    },
    {
     "name": "stderr",
     "output_type": "stream",
     "text": [
      "25 Nov 15:52    INFO  epoch 145 training [time: 0.89s, train loss: 109559.5686]\n"
     ]
    },
    {
     "data": {
      "application/vnd.jupyter.widget-view+json": {
       "model_id": "0f4ba5bbadc5426aa7b3d11c9cb1bdd1",
       "version_major": 2,
       "version_minor": 0
      },
      "text/plain": [
       "\u001b[1;35mTrain   146\u001b[0m:   0%|                                                          | 0/123 [00:00<?, ?it/s…"
      ]
     },
     "metadata": {},
     "output_type": "display_data"
    },
    {
     "name": "stderr",
     "output_type": "stream",
     "text": [
      "25 Nov 15:52    INFO  epoch 146 training [time: 0.92s, train loss: 109478.0871]\n"
     ]
    },
    {
     "data": {
      "application/vnd.jupyter.widget-view+json": {
       "model_id": "173c14ae43b046b08f760bb51b884f5f",
       "version_major": 2,
       "version_minor": 0
      },
      "text/plain": [
       "\u001b[1;35mTrain   147\u001b[0m:   0%|                                                          | 0/123 [00:00<?, ?it/s…"
      ]
     },
     "metadata": {},
     "output_type": "display_data"
    },
    {
     "name": "stderr",
     "output_type": "stream",
     "text": [
      "25 Nov 15:52    INFO  epoch 147 training [time: 0.95s, train loss: 109488.1566]\n"
     ]
    },
    {
     "data": {
      "application/vnd.jupyter.widget-view+json": {
       "model_id": "419e32312457437cbcf4f847e74b617d",
       "version_major": 2,
       "version_minor": 0
      },
      "text/plain": [
       "\u001b[1;35mTrain   148\u001b[0m:   0%|                                                          | 0/123 [00:00<?, ?it/s…"
      ]
     },
     "metadata": {},
     "output_type": "display_data"
    },
    {
     "name": "stderr",
     "output_type": "stream",
     "text": [
      "25 Nov 15:52    INFO  epoch 148 training [time: 0.93s, train loss: 109464.5668]\n"
     ]
    },
    {
     "data": {
      "application/vnd.jupyter.widget-view+json": {
       "model_id": "9e4fc9bf7002461e9d455dbef6f6d85d",
       "version_major": 2,
       "version_minor": 0
      },
      "text/plain": [
       "\u001b[1;35mTrain   149\u001b[0m:   0%|                                                          | 0/123 [00:00<?, ?it/s…"
      ]
     },
     "metadata": {},
     "output_type": "display_data"
    },
    {
     "name": "stderr",
     "output_type": "stream",
     "text": [
      "25 Nov 15:53    INFO  epoch 149 training [time: 0.90s, train loss: 109433.6616]\n",
      "25 Nov 15:53    INFO  Saving current: saved\\RaCT-train_ratings-150.pth\n",
      "d:\\Program\\Dev\\ANACONDA\\envs\\movie\\lib\\site-packages\\recbole\\trainer\\trainer.py:583: FutureWarning: You are using `torch.load` with `weights_only=False` (the current default value), which uses the default pickle module implicitly. It is possible to construct malicious pickle data which will execute arbitrary code during unpickling (See https://github.com/pytorch/pytorch/blob/main/SECURITY.md#untrusted-models for more details). In a future release, the default value for `weights_only` will be flipped to `True`. This limits the functions that could be executed during unpickling. Arbitrary objects will no longer be allowed to be loaded via this mode unless they are explicitly allowlisted by the user via `torch.serialization.add_safe_globals`. We recommend you start setting `weights_only=True` for any use case where you don't have full control of the loaded file. Please open an issue on GitHub for any issues related to this experimental feature.\n",
      "  checkpoint = torch.load(checkpoint_file, map_location=self.device)\n",
      "25 Nov 15:53    INFO  Loading model structure and parameters from saved\\RaCT-train_ratings-150.pth\n"
     ]
    },
    {
     "data": {
      "application/vnd.jupyter.widget-view+json": {
       "model_id": "6415a673f91940eeb7c0beb22580ed0c",
       "version_major": 2,
       "version_minor": 0
      },
      "text/plain": [
       "\u001b[1;35mEvaluate   \u001b[0m:   0%|                                                        | 0/31360 [00:00<?, ?it/s…"
      ]
     },
     "metadata": {},
     "output_type": "display_data"
    },
    {
     "name": "stderr",
     "output_type": "stream",
     "text": [
      "25 Nov 15:54    INFO  The running environment of this training is as follows:\n",
      "+-------------+----------------+\n",
      "| Environment |     Usage      |\n",
      "+=============+================+\n",
      "| CPU         |     1.90 %     |\n",
      "+-------------+----------------+\n",
      "| GPU         | 1.73 G/6.00 G  |\n",
      "+-------------+----------------+\n",
      "| Memory      | 2.37 G/31.67 G |\n",
      "+-------------+----------------+\n",
      "25 Nov 15:54    INFO  best valid : None\n",
      "25 Nov 15:54    INFO  test result: OrderedDict([('recall@10', 0.1733), ('recall@20', 0.2625), ('recall@50', 0.4139), ('ndcg@10', 0.1678), ('ndcg@20', 0.198), ('ndcg@50', 0.25), ('precision@10', 0.1079), ('precision@20', 0.0844), ('precision@50', 0.0556), ('mrr@10', 0.2998), ('mrr@20', 0.3093), ('mrr@50', 0.3133)])\n"
     ]
    },
    {
     "data": {
      "text/plain": [
       "{'best_valid_score': -inf,\n",
       " 'valid_score_bigger': True,\n",
       " 'best_valid_result': None,\n",
       " 'test_result': OrderedDict([('recall@10', 0.1733),\n",
       "              ('recall@20', 0.2625),\n",
       "              ('recall@50', 0.4139),\n",
       "              ('ndcg@10', 0.1678),\n",
       "              ('ndcg@20', 0.198),\n",
       "              ('ndcg@50', 0.25),\n",
       "              ('precision@10', 0.1079),\n",
       "              ('precision@20', 0.0844),\n",
       "              ('precision@50', 0.0556),\n",
       "              ('mrr@10', 0.2998),\n",
       "              ('mrr@20', 0.3093),\n",
       "              ('mrr@50', 0.3133)])}"
      ]
     },
     "execution_count": 2,
     "metadata": {},
     "output_type": "execute_result"
    }
   ],
   "source": [
    "parameter_dict = {\n",
    "    # 사전 학습 단계\n",
    "    'pretrain': True,\n",
    "    'pretrain_epochs': 150,\n",
    "    'learning_rate': 0.0001,\n",
    "    \n",
    "    # 데이터 로딩 설정\n",
    "    'load_col': {\n",
    "        'inter': ['user_id', 'item_id', 'label'],\n",
    "        'item': ['item_id', 'title', 'year', 'genre', 'director', 'writer']\n",
    "    }\n",
    "}\n",
    "\n",
    "# 사전 학습\n",
    "run_recbole(\n",
    "    model='RaCT',\n",
    "    dataset='train_ratings',\n",
    "    config_file_list=['recbole_RaCT_1.yaml'],\n",
    "    config_dict=parameter_dict\n",
    ")"
   ]
  },
  {
   "cell_type": "code",
   "execution_count": null,
   "metadata": {},
   "outputs": [],
   "source": [
    "# # 미세조정\n",
    "# parameter_dict.update({\n",
    "#     'pretrain': False,\n",
    "#     'learning_rate': 0.000002,\n",
    "#     'checkpoint_dir': './saved'  # 사전학습 모델 경로\n",
    "# })\n",
    "\n",
    "# run_recbole(\n",
    "#     model='RaCT',\n",
    "#     dataset='train_ratings',\n",
    "#     config_file_list=['recbole_RaCT_1.yaml'],\n",
    "#     config_dict=parameter_dict\n",
    "# )"
   ]
  },
  {
   "cell_type": "markdown",
   "metadata": {},
   "source": [
    "### Inference"
   ]
  },
  {
   "cell_type": "code",
   "execution_count": 2,
   "metadata": {},
   "outputs": [
    {
     "name": "stderr",
     "output_type": "stream",
     "text": [
      "d:\\Program\\Dev\\ANACONDA\\envs\\movie\\lib\\site-packages\\recbole\\quick_start\\quick_start.py:250: FutureWarning: You are using `torch.load` with `weights_only=False` (the current default value), which uses the default pickle module implicitly. It is possible to construct malicious pickle data which will execute arbitrary code during unpickling (See https://github.com/pytorch/pytorch/blob/main/SECURITY.md#untrusted-models for more details). In a future release, the default value for `weights_only` will be flipped to `True`. This limits the functions that could be executed during unpickling. Arbitrary objects will no longer be allowed to be loaded via this mode unless they are explicitly allowlisted by the user via `torch.serialization.add_safe_globals`. We recommend you start setting `weights_only=True` for any use case where you don't have full control of the loaded file. Please open an issue on GitHub for any issues related to this experimental feature.\n",
      "  checkpoint = torch.load(model_file)\n",
      "26 Nov 14:42    INFO  \n",
      "General Hyper Parameters:\n",
      "gpu_id = 0\n",
      "use_gpu = True\n",
      "seed = 2020\n",
      "state = INFO\n",
      "reproducibility = True\n",
      "data_path = ./data/train\\train_ratings\n",
      "checkpoint_dir = saved\n",
      "show_progress = True\n",
      "save_dataset = False\n",
      "dataset_save_path = None\n",
      "save_dataloaders = False\n",
      "dataloaders_save_path = None\n",
      "log_wandb = False\n",
      "\n",
      "Training Hyper Parameters:\n",
      "epochs = 200\n",
      "train_batch_size = 256\n",
      "learner = adam\n",
      "learning_rate = 0.0001\n",
      "train_neg_sample_args = {'distribution': 'uniform', 'sample_num': 1, 'alpha': 1.0, 'dynamic': False, 'candidate_num': 0}\n",
      "eval_step = 1\n",
      "stopping_step = 10\n",
      "clip_grad_norm = None\n",
      "weight_decay = 0.0\n",
      "loss_decimal_place = 4\n",
      "\n",
      "Evaluation Hyper Parameters:\n",
      "eval_args = {'split': {'RS': [0.8, 0.15, 0.05]}, 'order': 'RO', 'group_by': 'user', 'mode': {'valid': 'full', 'test': 'full'}}\n",
      "repeatable = False\n",
      "metrics = ['recall', 'ndcg', 'precision', 'mrr']\n",
      "topk = [10, 20, 50]\n",
      "valid_metric = recall@10\n",
      "valid_metric_bigger = True\n",
      "eval_batch_size = 256\n",
      "metric_decimal_place = 4\n",
      "\n",
      "Dataset Hyper Parameters:\n",
      "field_separator = \t\n",
      "seq_separator =  \n",
      "USER_ID_FIELD = user_id\n",
      "ITEM_ID_FIELD = item_id\n",
      "RATING_FIELD = rating\n",
      "TIME_FIELD = timestamp\n",
      "seq_len = None\n",
      "LABEL_FIELD = label\n",
      "threshold = None\n",
      "NEG_PREFIX = neg_\n",
      "load_col = {'inter': ['user_id', 'item_id', 'timestamp', 'label'], 'item': ['item_id', 'title', 'year', 'genre', 'director', 'writer']}\n",
      "unload_col = None\n",
      "unused_col = None\n",
      "additional_feat_suffix = None\n",
      "rm_dup_inter = None\n",
      "val_interval = None\n",
      "filter_inter_by_user_or_item = True\n",
      "user_inter_num_interval = [0,inf)\n",
      "item_inter_num_interval = [0,inf)\n",
      "alias_of_user_id = None\n",
      "alias_of_item_id = None\n",
      "alias_of_entity_id = None\n",
      "alias_of_relation_id = None\n",
      "preload_weight = None\n",
      "normalize_field = None\n",
      "normalize_all = None\n",
      "ITEM_LIST_LENGTH_FIELD = item_length\n",
      "LIST_SUFFIX = _list\n",
      "MAX_ITEM_LIST_LENGTH = 50\n",
      "POSITION_FIELD = position_id\n",
      "HEAD_ENTITY_ID_FIELD = head_id\n",
      "TAIL_ENTITY_ID_FIELD = tail_id\n",
      "RELATION_ID_FIELD = relation_id\n",
      "ENTITY_ID_FIELD = entity_id\n",
      "benchmark_filename = None\n",
      "\n",
      "Other Hyper Parameters: \n",
      "worker = 0\n",
      "wandb_project = recbole\n",
      "shuffle = True\n",
      "require_pow = False\n",
      "enable_amp = False\n",
      "enable_scaler = False\n",
      "transform = None\n",
      "mlp_hidden_size = [600]\n",
      "latent_dimension = 200\n",
      "dropout_prob = 0.3\n",
      "anneal_cap = 0.2\n",
      "total_anneal_steps = 200000\n",
      "critic_layers = [600]\n",
      "metrics_k = 100\n",
      "train_stage = actor_pretrain\n",
      "pretrain_epochs = 150\n",
      "save_step = 10\n",
      "pre_model_path = \n",
      "numerical_features = []\n",
      "discretization = None\n",
      "kg_reverse_r = False\n",
      "entity_kg_num_interval = [0,inf)\n",
      "relation_kg_num_interval = [0,inf)\n",
      "MODEL_TYPE = ModelType.GENERAL\n",
      "hidden_dimension = 600\n",
      "temperature = 0.2\n",
      "kfac = True\n",
      "pre_learning_rate = 0.0001\n",
      "pretrain = True\n",
      "MODEL_INPUT_TYPE = InputType.PAIRWISE\n",
      "eval_type = EvaluatorType.RANKING\n",
      "single_spec = True\n",
      "local_rank = 0\n",
      "device = cuda\n",
      "valid_neg_sample_args = {'distribution': 'uniform', 'sample_num': 'none'}\n",
      "test_neg_sample_args = {'distribution': 'uniform', 'sample_num': 'none'}\n",
      "\n",
      "\n",
      "d:\\Program\\Dev\\ANACONDA\\envs\\movie\\lib\\site-packages\\recbole\\data\\dataset\\dataset.py:501: FutureWarning: A value is trying to be set on a copy of a DataFrame or Series through chained assignment using an inplace method.\n",
      "The behavior will change in pandas 3.0. This inplace method will never work because the intermediate object on which we are setting values always behaves as a copy.\n",
      "\n",
      "For example, when doing 'df[col].method(value, inplace=True)', try using 'df.method({col: value}, inplace=True)' or df[col] = df[col].method(value) instead, to perform the operation inplace on the original object.\n",
      "\n",
      "\n",
      "  df[field].fillna(value=\"\", inplace=True)\n",
      "d:\\Program\\Dev\\ANACONDA\\envs\\movie\\lib\\site-packages\\recbole\\data\\dataset\\dataset.py:1217: FutureWarning: using <built-in function len> in Series.agg cannot aggregate and has been deprecated. Use Series.transform to keep behavior unchanged.\n",
      "  split_point = np.cumsum(feat[field].agg(len))[:-1]\n",
      "d:\\Program\\Dev\\ANACONDA\\envs\\movie\\lib\\site-packages\\recbole\\data\\dataset\\dataset.py:648: FutureWarning: A value is trying to be set on a copy of a DataFrame or Series through chained assignment using an inplace method.\n",
      "The behavior will change in pandas 3.0. This inplace method will never work because the intermediate object on which we are setting values always behaves as a copy.\n",
      "\n",
      "For example, when doing 'df[col].method(value, inplace=True)', try using 'df.method({col: value}, inplace=True)' or df[col] = df[col].method(value) instead, to perform the operation inplace on the original object.\n",
      "\n",
      "\n",
      "  feat[field].fillna(value=0, inplace=True)\n",
      "d:\\Program\\Dev\\ANACONDA\\envs\\movie\\lib\\site-packages\\recbole\\data\\dataset\\dataset.py:650: FutureWarning: A value is trying to be set on a copy of a DataFrame or Series through chained assignment using an inplace method.\n",
      "The behavior will change in pandas 3.0. This inplace method will never work because the intermediate object on which we are setting values always behaves as a copy.\n",
      "\n",
      "For example, when doing 'df[col].method(value, inplace=True)', try using 'df.method({col: value}, inplace=True)' or df[col] = df[col].method(value) instead, to perform the operation inplace on the original object.\n",
      "\n",
      "\n",
      "  feat[field].fillna(value=feat[field].mean(), inplace=True)\n",
      "26 Nov 14:43    INFO  train_ratings\n",
      "The number of users: 31361\n",
      "Average actions of users: 164.36450892857144\n",
      "The number of items: 6808\n",
      "Average actions of items: 757.2309387395328\n",
      "The number of inters: 5154471\n",
      "The sparsity of the dataset: 97.58579218741939%\n",
      "Remain Fields: ['user_id', 'item_id', 'timestamp', 'label', 'title', 'year', 'genre', 'director', 'writer']\n",
      "26 Nov 14:43    INFO  [Training]: train_batch_size = [256] train_neg_sample_args: [{'distribution': 'uniform', 'sample_num': 1, 'alpha': 1.0, 'dynamic': False, 'candidate_num': 0}]\n",
      "26 Nov 14:43    INFO  [Evaluation]: eval_batch_size = [256] eval_args: [{'split': {'RS': [0.8, 0.15, 0.05]}, 'order': 'RO', 'group_by': 'user', 'mode': {'valid': 'full', 'test': 'full'}}]\n",
      "26 Nov 14:43    WARNING  Max value of user's history interaction records has reached 34.23913043478261% of the total.\n"
     ]
    }
   ],
   "source": [
    "# model, dataset 불러오기\n",
    "model_path = './saved/RaCT-train_ratings-150.pth'\n",
    "config, model, dataset, train_data, valid_data, test_data = load_data_and_model(model_path)\n",
    "    \n",
    "# device 설정\n",
    "device = config.final_config_dict['device']"
   ]
  },
  {
   "cell_type": "code",
   "execution_count": 3,
   "metadata": {},
   "outputs": [],
   "source": [
    "# user, item id -> token 변환 array\n",
    "user_id2token = dataset.field2id_token['user_id']\n",
    "item_id2token = dataset.field2id_token['item_id']\n",
    "    \n",
    "# user-item sparse matrix\n",
    "matrix = dataset.inter_matrix(form='csr')"
   ]
  },
  {
   "cell_type": "code",
   "execution_count": 4,
   "metadata": {},
   "outputs": [],
   "source": [
    "# user id, predict item id, score 저장 변수 \n",
    "pred_list = None\n",
    "user_list = None\n",
    "score_list = None\n",
    "\n",
    "model.eval()\n",
    "for data in test_data:\n",
    "    interaction = data[0].to(device)\n",
    "    score = model.full_sort_predict(interaction)\n",
    "    \n",
    "    rating_pred = score.cpu().data.numpy().copy()\n",
    "    user_id = interaction['user_id'].cpu().numpy()\n",
    "    \n",
    "    # 사용자가 상호작용한 아이템 인덱스를 가져옵니다\n",
    "    interacted_indices = matrix[user_id].indices\n",
    "    \n",
    "    # 상호작용한 아이템의 점수를 0으로 설정합니다\n",
    "    rating_pred[interacted_indices] = 0\n",
    "    \n",
    "    # 상위 10개 아이템 인덱스 추출\n",
    "    ind = np.argpartition(rating_pred, -20)[-20:]\n",
    "    arr_ind = rating_pred[ind]\n",
    "    \n",
    "    # 추출된 값들을 내림차순으로 정렬하기 위한 인덱스를 얻음\n",
    "    arr_ind_argsort = np.argsort(arr_ind)[::-1]\n",
    "    \n",
    "    # 실제 값들을 정렬된 순서대로 인덱스 배열에 적용\n",
    "    batch_pred_list = ind[arr_ind_argsort]\n",
    "    batch_score_list = arr_ind[arr_ind_argsort]\n",
    "    \n",
    "    # 예측값 저장\n",
    "    if pred_list is None:\n",
    "        pred_list = batch_pred_list\n",
    "        score_list = batch_score_list\n",
    "        # batch_pred_list 길이만큼 user_id를 반복\n",
    "        user_list = np.repeat(user_id, len(batch_pred_list))\n",
    "    else:\n",
    "        pred_list = np.append(pred_list, batch_pred_list, axis=0)\n",
    "        score_list = np.append(score_list, batch_score_list, axis=0)\n",
    "        # batch_pred_list 길이만큼 user_id를 반복하여 추가\n",
    "        user_list = np.append(user_list, np.repeat(user_id, len(batch_pred_list)), axis=0)\n"
   ]
  },
  {
   "cell_type": "code",
   "execution_count": 5,
   "metadata": {},
   "outputs": [
    {
     "data": {
      "text/plain": [
       "[('11', '4370', 5.15414),\n",
       " ('11', '37386', 4.681453),\n",
       " ('11', '55232', 4.5844097),\n",
       " ('11', '8961', 4.5652423),\n",
       " ('11', '1517', 4.3791),\n",
       " ('11', '8861', 4.3373394),\n",
       " ('11', '55995', 4.3309565),\n",
       " ('11', '4886', 4.3041863),\n",
       " ('11', '34405', 4.247638),\n",
       " ('11', '53464', 4.2468543),\n",
       " ('11', '2167', 4.223055),\n",
       " ('11', '3156', 4.213578),\n",
       " ('11', '5254', 4.1861906),\n",
       " ('11', '58025', 4.177249),\n",
       " ('11', '6754', 4.1294475),\n",
       " ('11', '329', 4.1289377),\n",
       " ('11', '2', 4.094023),\n",
       " ('11', '3986', 4.0821834),\n",
       " ('11', '2174', 4.0625105),\n",
       " ('11', '8985', 4.0623736),\n",
       " ('14', '4016', 5.8359337),\n",
       " ('14', '1198', 5.5692387),\n",
       " ('14', '1907', 5.5511246),\n",
       " ('14', '5444', 5.4837246),\n",
       " ('14', '4993', 5.4780188),\n",
       " ('14', '1035', 5.4610777),\n",
       " ('14', '1028', 5.3537593),\n",
       " ('14', '4857', 5.2986865),\n",
       " ('14', '1025', 5.294281),\n",
       " ('14', '1223', 5.2822),\n",
       " ('14', '5994', 5.267297),\n",
       " ('14', '7153', 5.2671947),\n",
       " ('14', '5952', 5.176802),\n",
       " ('14', '1234', 5.1707535),\n",
       " ('14', '914', 5.1642447),\n",
       " ('14', '3034', 5.098787),\n",
       " ('14', '8972', 5.0599275),\n",
       " ('14', '908', 5.039261),\n",
       " ('14', '1017', 5.0385723),\n",
       " ('14', '2424', 4.9765306),\n",
       " ('18', '46578', 5.5803757),\n",
       " ('18', '5995', 5.269881),\n",
       " ('18', '63082', 5.067477),\n",
       " ('18', '8873', 4.9907017),\n",
       " ('18', '1172', 4.968475),\n",
       " ('18', '48738', 4.930889),\n",
       " ('18', '1193', 4.9289303),\n",
       " ('18', '55442', 4.913658),\n",
       " ('18', '58303', 4.837293),\n",
       " ('18', '296', 4.7763295),\n",
       " ('18', '61323', 4.7415004),\n",
       " ('18', '56367', 4.7207923),\n",
       " ('18', '4235', 4.70848),\n",
       " ('18', '8949', 4.6934547),\n",
       " ('18', '60950', 4.6749315),\n",
       " ('18', '52042', 4.661448),\n",
       " ('18', '357', 4.6541514),\n",
       " ('18', '912', 4.6388135),\n",
       " ('18', '6954', 4.617021),\n",
       " ('18', '5945', 4.534871),\n",
       " ('25', '47', 6.2302823),\n",
       " ('25', '1923', 6.104123),\n",
       " ('25', '1073', 6.0797825),\n",
       " ('25', '1270', 5.94059),\n",
       " ('25', '1259', 5.9269366),\n",
       " ('25', '2762', 5.787714),\n",
       " ('25', '2291', 5.6641264),\n",
       " ('25', '597', 5.6447215),\n",
       " ('25', '2997', 5.638491),\n",
       " ('25', '1208', 5.606612),\n",
       " ('25', '4973', 5.5499287),\n",
       " ('25', '1206', 5.545834),\n",
       " ('25', '1784', 5.530027),\n",
       " ('25', '231', 5.516237),\n",
       " ('25', '3897', 5.456427),\n",
       " ('25', '2329', 5.433389),\n",
       " ('25', '1580', 5.4057055),\n",
       " ('25', '1', 5.3779573),\n",
       " ('25', '1527', 5.339644),\n",
       " ('25', '608', 5.295387),\n",
       " ('31', '5313', 6.253632),\n",
       " ('31', '7454', 5.723449),\n",
       " ('31', '52722', 5.5994234),\n",
       " ('31', '8636', 5.5827146),\n",
       " ('31', '8644', 5.57994),\n",
       " ('31', '68954', 5.556356),\n",
       " ('31', '4299', 5.5056934),\n",
       " ('31', '5349', 5.50177),\n",
       " ('31', '68358', 5.48649),\n",
       " ('31', '34405', 5.426495),\n",
       " ('31', '8361', 5.4222383),\n",
       " ('31', '60040', 5.4193993),\n",
       " ('31', '6541', 5.332936),\n",
       " ('31', '5459', 5.296138),\n",
       " ('31', '8360', 5.2418485),\n",
       " ('31', '6377', 5.2127395),\n",
       " ('31', '79132', 5.1876025),\n",
       " ('31', '111362', 5.1259413),\n",
       " ('31', '6157', 5.104732),\n",
       " ('31', '33162', 5.09404),\n",
       " ('35', '27831', 5.4145517),\n",
       " ('35', '48774', 5.4122424),\n",
       " ('35', '2959', 5.2354217),\n",
       " ('35', '8873', 5.15508),\n",
       " ('35', '2762', 4.9638386),\n",
       " ('35', '48516', 4.951436),\n",
       " ('35', '6378', 4.9014583),\n",
       " ('35', '48385', 4.8819427),\n",
       " ('35', '48394', 4.880896),\n",
       " ('35', '27904', 4.8449106),\n",
       " ('35', '4878', 4.79446),\n",
       " ('35', '32', 4.739649),\n",
       " ('35', '5952', 4.728907),\n",
       " ('35', '8644', 4.704295),\n",
       " ('35', '54001', 4.698372),\n",
       " ('35', '6502', 4.694699),\n",
       " ('35', '53996', 4.6399126),\n",
       " ('35', '4306', 4.6223946),\n",
       " ('35', '1', 4.616931),\n",
       " ('35', '34319', 4.5770187),\n",
       " ('43', '4973', 6.77705),\n",
       " ('43', '17', 6.730439),\n",
       " ('43', '1197', 6.582606),\n",
       " ('43', '40629', 6.540007),\n",
       " ('43', '5991', 6.3637004),\n",
       " ('43', '7153', 6.26949),\n",
       " ('43', '5952', 6.184993),\n",
       " ('43', '4993', 6.1481423),\n",
       " ('43', '8360', 6.1339984),\n",
       " ('43', '4963', 6.1214185),\n",
       " ('43', '49272', 6.111661),\n",
       " ('43', '2690', 5.998603),\n",
       " ('43', '2125', 5.938912),\n",
       " ('43', '2858', 5.8802266),\n",
       " ('43', '1721', 5.824482),\n",
       " ('43', '1210', 5.811141),\n",
       " ('43', '915', 5.7728157),\n",
       " ('43', '3996', 5.754699),\n",
       " ('43', '2336', 5.739296),\n",
       " ('43', '1196', 5.7349825),\n",
       " ('50', '4993', 6.4754314),\n",
       " ('50', '3160', 6.101393),\n",
       " ('50', '3910', 6.0546865),\n",
       " ('50', '1265', 5.9596405),\n",
       " ('50', '3000', 5.9435916),\n",
       " ('50', '1214', 5.8022776),\n",
       " ('50', '4848', 5.7788324),\n",
       " ('50', '509', 5.7714925),\n",
       " ('50', '110', 5.766807),\n",
       " ('50', '750', 5.7417684),\n",
       " ('50', '46578', 5.714432),\n",
       " ('50', '4226', 5.7075996),\n",
       " ('50', '1682', 5.7062883),\n",
       " ('50', '1961', 5.68058),\n",
       " ('50', '527', 5.6569686),\n",
       " ('50', '778', 5.641071),\n",
       " ('50', '1258', 5.6330123),\n",
       " ('50', '5971', 5.5297823),\n",
       " ('50', '2396', 5.498851),\n",
       " ('50', '253', 5.4572396),\n",
       " ('58', '4022', 4.8555555),\n",
       " ('58', '608', 4.7188516),\n",
       " ('58', '1674', 4.593034),\n",
       " ('58', '2109', 4.565735),\n",
       " ('58', '1197', 4.5639853),\n",
       " ('58', '2762', 4.5053425),\n",
       " ('58', '25', 4.503896),\n",
       " ('58', '1179', 4.4993114),\n",
       " ('58', '515', 4.440969),\n",
       " ('58', '1183', 4.4312916),\n",
       " ('58', '1185', 4.4272523),\n",
       " ('58', '3418', 4.423326),\n",
       " ('58', '4361', 4.3943315),\n",
       " ('58', '858', 4.3672657),\n",
       " ('58', '50', 4.3493276),\n",
       " ('58', '589', 4.347393),\n",
       " ('58', '111', 4.3366785),\n",
       " ('58', '1089', 4.2503204),\n",
       " ('58', '539', 4.2467556),\n",
       " ('58', '471', 4.233285),\n",
       " ('60', '4973', 5.9062796),\n",
       " ('60', '2571', 5.8382773),\n",
       " ('60', '5618', 5.5113173),\n",
       " ('60', '81845', 5.3314433),\n",
       " ('60', '5446', 5.2672653),\n",
       " ('60', '48394', 5.2326794),\n",
       " ('60', '1223', 5.156481),\n",
       " ('60', '8873', 5.124174),\n",
       " ('60', '58559', 5.086778),\n",
       " ('60', '30749', 4.935317),\n",
       " ('60', '44191', 4.920398),\n",
       " ('60', '356', 4.894327),\n",
       " ('60', '4878', 4.8874016),\n",
       " ('60', '60069', 4.838603),\n",
       " ('60', '63082', 4.823618),\n",
       " ('60', '68954', 4.822775),\n",
       " ('60', '6539', 4.7962804),\n",
       " ('60', '5995', 4.733716),\n",
       " ('60', '260', 4.673624),\n",
       " ('60', '31658', 4.651193),\n",
       " ('61', '5577', 5.7019157),\n",
       " ('61', '2959', 5.580126),\n",
       " ('61', '32587', 5.5148826),\n",
       " ('61', '3477', 5.3064914),\n",
       " ('61', '4979', 5.3063993),\n",
       " ('61', '44761', 5.173638),\n",
       " ('61', '5421', 5.1335354),\n",
       " ('61', '6874', 5.0968456),\n",
       " ('61', '44195', 4.9707565),\n",
       " ('61', '51662', 4.9654274),\n",
       " ('61', '7438', 4.9504123),\n",
       " ('61', '7147', 4.947414),\n",
       " ('61', '30793', 4.935252),\n",
       " ('61', '3556', 4.922705),\n",
       " ('61', '6502', 4.907948),\n",
       " ('61', '8981', 4.904607),\n",
       " ('61', '2571', 4.892672),\n",
       " ('61', '1968', 4.886598),\n",
       " ('61', '4963', 4.870848),\n",
       " ('61', '27904', 4.865993),\n",
       " ('65', '4878', 5.713645),\n",
       " ('65', '1175', 5.672948),\n",
       " ('65', '2571', 5.4106793),\n",
       " ('65', '7323', 5.377587),\n",
       " ('65', '2858', 5.366718),\n",
       " ('65', '29', 5.31761),\n",
       " ('65', '68954', 5.3144174),\n",
       " ('65', '5618', 5.245656),\n",
       " ('65', '2329', 5.2368164),\n",
       " ('65', '3949', 5.1930146),\n",
       " ('65', '6016', 5.1005754),\n",
       " ('65', '68237', 5.046021),\n",
       " ('65', '3677', 5.038282),\n",
       " ('65', '44191', 4.982683),\n",
       " ('65', '527', 4.948813),\n",
       " ('65', '7147', 4.942725),\n",
       " ('65', '2762', 4.919704),\n",
       " ('65', '58559', 4.909392),\n",
       " ('65', '8873', 4.9013486),\n",
       " ('65', '55442', 4.83692),\n",
       " ('72', '1923', 6.4741564),\n",
       " ('72', '1080', 6.463509),\n",
       " ('72', '1193', 6.4091425),\n",
       " ('72', '1580', 6.261175),\n",
       " ('72', '1732', 6.0955586),\n",
       " ('72', '288', 6.0541215),\n",
       " ('72', '750', 5.9932146),\n",
       " ('72', '318', 5.983717),\n",
       " ('72', '1270', 5.9165244),\n",
       " ('72', '21', 5.857746),\n",
       " ('72', '608', 5.8002267),\n",
       " ('72', '4027', 5.786996),\n",
       " ('72', '4306', 5.7307262),\n",
       " ('72', '527', 5.7016935),\n",
       " ('72', '1246', 5.6911216),\n",
       " ('72', '1225', 5.689148),\n",
       " ('72', '1527', 5.657794),\n",
       " ('72', '3996', 5.604294),\n",
       " ('72', '2916', 5.602162),\n",
       " ('72', '778', 5.584853),\n",
       " ('77', '2019', 6.8756666),\n",
       " ('77', '923', 6.404386),\n",
       " ('77', '1199', 6.303397),\n",
       " ('77', '1287', 6.1482882),\n",
       " ('77', '1333', 6.077995),\n",
       " ('77', '1196', 6.0605655),\n",
       " ('77', '2959', 6.0501084),\n",
       " ('77', '296', 6.022816),\n",
       " ('77', '1222', 6.0218244),\n",
       " ('77', '593', 5.9659643),\n",
       " ('77', '2571', 5.9454803),\n",
       " ('77', '1127', 5.8314614),\n",
       " ('77', '1219', 5.815986),\n",
       " ('77', '1210', 5.813723),\n",
       " ('77', '1994', 5.8038826),\n",
       " ('77', '968', 5.7759814),\n",
       " ('77', '2021', 5.7032785),\n",
       " ('77', '1339', 5.6901016),\n",
       " ('77', '4878', 5.670423),\n",
       " ('77', '3471', 5.583513),\n",
       " ('82', '82459', 4.6793313),\n",
       " ('82', '1089', 4.3633604),\n",
       " ('82', '68157', 4.2513857),\n",
       " ('82', '7256', 4.2511864),\n",
       " ('82', '72226', 4.239222),\n",
       " ('82', '31410', 4.178776),\n",
       " ('82', '2890', 4.1379395),\n",
       " ('82', '296', 4.1289353),\n",
       " ('82', '79720', 4.1120586),\n",
       " ('82', '2028', 4.0548496),\n",
       " ('82', '71462', 3.997319),\n",
       " ('82', '858', 3.9807096),\n",
       " ('82', '2571', 3.9726627),\n",
       " ('82', '527', 3.9559796),\n",
       " ('82', '59784', 3.910782),\n",
       " ('82', '1193', 3.8970754),\n",
       " ('82', '364', 3.8952923),\n",
       " ('82', '3751', 3.8668585),\n",
       " ('82', '1221', 3.8552465),\n",
       " ('82', '6377', 3.8499262),\n",
       " ('85', '68954', 6.540729),\n",
       " ('85', '898', 6.170295),\n",
       " ('85', '79132', 6.064094),\n",
       " ('85', '951', 6.018018),\n",
       " ('85', '953', 6.00352),\n",
       " ('85', '2096', 5.9977455),\n",
       " ('85', '1197', 5.942583),\n",
       " ('85', '930', 5.8158927),\n",
       " ('85', '91529', 5.8066683),\n",
       " ('85', '1269', 5.7508564),\n",
       " ('85', '910', 5.7079954),\n",
       " ('85', '60069', 5.691291),\n",
       " ('85', '928', 5.6819634),\n",
       " ('85', '260', 5.673713),\n",
       " ('85', '81845', 5.57886),\n",
       " ('85', '914', 5.548148),\n",
       " ('85', '2565', 5.545797),\n",
       " ('85', '954', 5.5246935),\n",
       " ('85', '76093', 5.5220523),\n",
       " ('85', '1256', 5.473076),\n",
       " ('90', '153', 7.385754),\n",
       " ('90', '736', 6.701875),\n",
       " ('90', '4896', 6.546033),\n",
       " ('90', '780', 6.5151496),\n",
       " ('90', '2959', 6.3290753),\n",
       " ('90', '2571', 6.260617),\n",
       " ('90', '1198', 6.2128205),\n",
       " ('90', '1721', 6.201871),\n",
       " ('90', '1097', 6.193625),\n",
       " ('90', '292', 6.171922),\n",
       " ('90', '1923', 6.122101),\n",
       " ('90', '2628', 6.120047),\n",
       " ('90', '5349', 6.1199245),\n",
       " ('90', '588', 6.0967565),\n",
       " ('90', '648', 6.0540805),\n",
       " ('90', '1270', 6.024975),\n",
       " ('90', '2028', 5.9876966),\n",
       " ('90', '1961', 5.979351),\n",
       " ('90', '457', 5.9646783),\n",
       " ('90', '587', 5.9250445),\n",
       " ('91', '33794', 5.2142873),\n",
       " ('91', '1183', 4.9108114),\n",
       " ('91', '1225', 4.9040675),\n",
       " ('91', '1393', 4.897978),\n",
       " ('91', '8665', 4.875688),\n",
       " ('91', '6218', 4.829556),\n",
       " ('91', '3448', 4.7721953),\n",
       " ('91', '1784', 4.745739),\n",
       " ('91', '1246', 4.7382774),\n",
       " ('91', '515', 4.7359467),\n",
       " ('91', '1722', 4.7342973),\n",
       " ('91', '337', 4.7302747),\n",
       " ('91', '454', 4.6980815),\n",
       " ('91', '39183', 4.6724477),\n",
       " ('91', '1408', 4.6306453),\n",
       " ('91', '8981', 4.627686),\n",
       " ('91', '2797', 4.620841),\n",
       " ('91', '8970', 4.614596),\n",
       " ('91', '3081', 4.5980077),\n",
       " ('91', '36517', 4.5799665),\n",
       " ('96', '94959', 4.678446),\n",
       " ('96', '102445', 4.543883),\n",
       " ('96', '72226', 4.5428104),\n",
       " ('96', '55269', 4.519126),\n",
       " ('96', '46976', 4.438216),\n",
       " ('96', '98809', 4.392949),\n",
       " ('96', '56367', 4.320141),\n",
       " ('96', '87306', 4.2678547),\n",
       " ('96', '8665', 4.262994),\n",
       " ('96', '91542', 4.2606854),\n",
       " ('96', '79702', 4.2070494),\n",
       " ('96', '2115', 4.2064986),\n",
       " ('96', '66097', 4.2035937),\n",
       " ('96', '30810', 4.201277),\n",
       " ('96', '68157', 4.1780124),\n",
       " ('96', '50', 4.135177),\n",
       " ('96', '110', 4.0858846),\n",
       " ('96', '89864', 4.075983),\n",
       " ('96', '6502', 4.0434074),\n",
       " ('96', '88140', 4.013777),\n",
       " ('98', '2959', 5.766547),\n",
       " ('98', '4993', 5.7064967),\n",
       " ('98', '7153', 5.675316),\n",
       " ('98', '2858', 5.4938455),\n",
       " ('98', '70286', 5.4502635),\n",
       " ('98', '2329', 5.380813),\n",
       " ('98', '6539', 5.372342),\n",
       " ('98', '260', 5.3616366),\n",
       " ('98', '74458', 5.25846),\n",
       " ('98', '5618', 5.2526083),\n",
       " ('98', '99114', 5.211527),\n",
       " ('98', '4226', 5.1957064),\n",
       " ('98', '2028', 5.1786485),\n",
       " ('98', '68358', 5.1682696),\n",
       " ('98', '593', 5.1606565),\n",
       " ('98', '63082', 5.136884),\n",
       " ('98', '3000', 5.1160135),\n",
       " ('98', '1222', 5.115459),\n",
       " ('98', '5971', 5.1148615),\n",
       " ('98', '293', 5.09487),\n",
       " ('99', '1089', 6.9768324),\n",
       " ('99', '6807', 6.7464156),\n",
       " ('99', '2571', 6.622397),\n",
       " ('99', '1193', 6.440515),\n",
       " ('99', '293', 6.266593),\n",
       " ('99', '4226', 6.0703897),\n",
       " ('99', '1258', 5.881987),\n",
       " ('99', '48394', 5.771828),\n",
       " ('99', '6874', 5.767309),\n",
       " ('99', '32', 5.687263),\n",
       " ('99', '1732', 5.6519976),\n",
       " ('99', '50', 5.5933857),\n",
       " ('99', '1884', 5.57572),\n",
       " ('99', '527', 5.5543165),\n",
       " ('99', '1196', 5.4625735),\n",
       " ('99', '3147', 5.4295974),\n",
       " ('99', '79132', 5.417806),\n",
       " ('99', '7438', 5.31486),\n",
       " ('99', '858', 5.313215),\n",
       " ('99', '3535', 5.2971325),\n",
       " ('102', '1197', 5.740349),\n",
       " ('102', '589', 5.39013),\n",
       " ('102', '593', 5.358755),\n",
       " ('102', '2918', 5.3472214),\n",
       " ('102', '912', 5.296271),\n",
       " ('102', '58559', 5.270734),\n",
       " ('102', '1234', 5.2692933),\n",
       " ('102', '2858', 5.243544),\n",
       " ('102', '356', 5.225621),\n",
       " ('102', '1198', 5.1946425),\n",
       " ('102', '1262', 5.1808496),\n",
       " ('102', '1201', 5.180739),\n",
       " ('102', '904', 5.090126),\n",
       " ('102', '50', 5.0782094),\n",
       " ('102', '293', 5.0423703),\n",
       " ('102', '908', 5.023651),\n",
       " ('102', '910', 5.002906),\n",
       " ('102', '5952', 4.9840627),\n",
       " ('102', '1193', 4.9836025),\n",
       " ('102', '7153', 4.973673),\n",
       " ('116', '4226', 5.421332),\n",
       " ('116', '2502', 5.411277),\n",
       " ('116', '593', 5.4028378),\n",
       " ('116', '5152', 5.2980676),\n",
       " ('116', '2542', 5.221869),\n",
       " ('116', '180', 5.195782),\n",
       " ('116', '8917', 5.1375847),\n",
       " ('116', '31696', 5.130549),\n",
       " ('116', '5903', 5.054494),\n",
       " ('116', '34405', 5.0284085),\n",
       " ('116', '6709', 5.0283656),\n",
       " ('116', '1754', 5.025062),\n",
       " ('116', '441', 5.002356),\n",
       " ('116', '3753', 5.00209),\n",
       " ('116', '4239', 4.999165),\n",
       " ('116', '1214', 4.9786367),\n",
       " ('116', '5956', 4.95528),\n",
       " ('116', '8961', 4.9482956),\n",
       " ('116', '1197', 4.937297),\n",
       " ('116', '7458', 4.9319158),\n",
       " ('121', '63131', 5.9583163),\n",
       " ('121', '67087', 5.859357),\n",
       " ('121', '34162', 5.846701),\n",
       " ('121', '45728', 5.836796),\n",
       " ('121', '3421', 5.7064195),\n",
       " ('121', '37384', 5.617495),\n",
       " ('121', '4734', 5.575481),\n",
       " ('121', '42725', 5.5341206),\n",
       " ('121', '3052', 5.3982205),\n",
       " ('121', '1213', 5.351596),\n",
       " ('121', '180', 5.3468904),\n",
       " ('121', '2502', 5.29273),\n",
       " ('121', '55765', 5.261797),\n",
       " ('121', '61132', 5.2583404),\n",
       " ('121', '2700', 5.256443),\n",
       " ('121', '441', 5.2443895),\n",
       " ('121', '8807', 5.209826),\n",
       " ('121', '48516', 5.202443),\n",
       " ('121', '3552', 5.181118),\n",
       " ('121', '44195', 5.159205),\n",
       " ('124', '1747', 6.1032815),\n",
       " ('124', '2000', 5.9130225),\n",
       " ('124', '3751', 5.8977),\n",
       " ('124', '3996', 5.784662),\n",
       " ('124', '145', 5.7799907),\n",
       " ('124', '1625', 5.7197657),\n",
       " ('124', '2396', 5.682744),\n",
       " ('124', '6539', 5.6726036),\n",
       " ('124', '1784', 5.6556425),\n",
       " ('124', '474', 5.6414185),\n",
       " ('124', '377', 5.5443864),\n",
       " ('124', '592', 5.4162016),\n",
       " ('124', '1721', 5.379176),\n",
       " ('124', '733', 5.363491),\n",
       " ('124', '1500', 5.29698),\n",
       " ('124', '364', 5.2850647),\n",
       " ('124', '1732', 5.281638),\n",
       " ('124', '1092', 5.2741036),\n",
       " ('124', '236', 5.2479897),\n",
       " ('124', '25', 5.2462697),\n",
       " ('129', '7361', 5.269095),\n",
       " ('129', '4886', 5.2172904),\n",
       " ('129', '7451', 5.1610794),\n",
       " ('129', '42725', 5.1377926),\n",
       " ('129', '2959', 5.063147),\n",
       " ('129', '588', 5.0319796),\n",
       " ('129', '3949', 5.017926),\n",
       " ('129', '6936', 5.010181),\n",
       " ('129', '4878', 4.9958797),\n",
       " ('129', '50872', 4.95153),\n",
       " ('129', '61024', 4.9410233),\n",
       " ('129', '71745', 4.906342),\n",
       " ('129', '78209', 4.8157377),\n",
       " ('129', '441', 4.771844),\n",
       " ('129', '71535', 4.768948),\n",
       " ('129', '356', 4.7211),\n",
       " ('129', '80693', 4.7065835),\n",
       " ('129', '7147', 4.6814246),\n",
       " ('129', '60069', 4.6326914),\n",
       " ('129', '72011', 4.6286016),\n",
       " ('132', '2333', 5.3651304),\n",
       " ('132', '47', 5.2047453),\n",
       " ('132', '36', 5.186772),\n",
       " ('132', '2571', 5.167353),\n",
       " ('132', '3751', 5.1240897),\n",
       " ('132', '235', 5.09017),\n",
       " ('132', '1148', 5.0437984),\n",
       " ('132', '4642', 4.9642353),\n",
       " ('132', '527', 4.9589734),\n",
       " ('132', '2174', 4.95245),\n",
       " ('132', '6874', 4.8605328),\n",
       " ('132', '2692', 4.842049),\n",
       " ('132', '3476', 4.769813),\n",
       " ('132', '2918', 4.759405),\n",
       " ('132', '3949', 4.7498827),\n",
       " ('132', '1653', 4.7198114),\n",
       " ('132', '543', 4.7191687),\n",
       " ('132', '923', 4.709229),\n",
       " ('132', '714', 4.664631),\n",
       " ('132', '745', 4.66131),\n",
       " ('133', '89864', 4.6501684),\n",
       " ('133', '46976', 4.6469502),\n",
       " ('133', '4995', 4.607513),\n",
       " ('133', '70286', 4.5608106),\n",
       " ('133', '46578', 4.5565524),\n",
       " ('133', '74458', 4.4690833),\n",
       " ('133', '89904', 4.456709),\n",
       " ('133', '858', 4.431872),\n",
       " ('133', '1207', 4.430107),\n",
       " ('133', '81845', 4.400607),\n",
       " ('133', '923', 4.3827987),\n",
       " ('133', '97938', 4.3767533),\n",
       " ('133', '97921', 4.3586197),\n",
       " ('133', '6016', 4.3438854),\n",
       " ('133', '63082', 4.342598),\n",
       " ('133', '2176', 4.3354855),\n",
       " ('133', '922', 4.310775),\n",
       " ('133', '81932', 4.243712),\n",
       " ('133', '1206', 4.216119),\n",
       " ('133', '608', 4.1942935),\n",
       " ('135', '1035', 6.9548874),\n",
       " ('135', '2501', 6.6559057),\n",
       " ('135', '5064', 6.607261),\n",
       " ('135', '8360', 6.4995036),\n",
       " ('135', '588', 6.4271913),\n",
       " ('135', '261', 6.349625),\n",
       " ('135', '318', 6.2356653),\n",
       " ('135', '260', 6.191582),\n",
       " ('135', '364', 6.188542),\n",
       " ('135', '8368', 6.1734347),\n",
       " ('135', '480', 6.165058),\n",
       " ('135', '2394', 6.1431355),\n",
       " ('135', '1196', 6.126765),\n",
       " ('135', '4896', 6.096604),\n",
       " ('135', '2087', 6.08126),\n",
       " ('135', '5816', 6.07514),\n",
       " ('135', '4963', 6.0731087),\n",
       " ('135', '1291', 6.0561085),\n",
       " ('135', '2028', 6.052026),\n",
       " ('135', '2083', 6.0456257),\n",
       " ('136', '4896', 6.7322054),\n",
       " ('136', '364', 6.3497906),\n",
       " ('136', '97913', 6.3090076),\n",
       " ('136', '7153', 6.2572746),\n",
       " ('136', '5952', 6.102734),\n",
       " ('136', '95510', 6.034071),\n",
       " ('136', '2571', 5.919603),\n",
       " ('136', '8636', 5.863518),\n",
       " ('136', '76093', 5.76889),\n",
       " ('136', '97921', 5.7487125),\n",
       " ('136', '2355', 5.70556),\n",
       " ('136', '33794', 5.6969776),\n",
       " ('136', '72998', 5.652269),\n",
       " ('136', '77561', 5.6435585),\n",
       " ('136', '6333', 5.6405554),\n",
       " ('136', '2918', 5.5120587),\n",
       " ('136', '2762', 5.490755),\n",
       " ('136', '88140', 5.46244),\n",
       " ('136', '318', 5.4239235),\n",
       " ('136', '103141', 5.405769),\n",
       " ('147', '1234', 5.800071),\n",
       " ('147', '1080', 5.776685),\n",
       " ('147', '8961', 5.512377),\n",
       " ('147', '471', 5.471247),\n",
       " ('147', '1291', 5.4569654),\n",
       " ('147', '1197', 5.433519),\n",
       " ('147', '1682', 5.4175),\n",
       " ('147', '2692', 5.411563),\n",
       " ('147', '1206', 5.3894672),\n",
       " ('147', '1923', 5.3753934),\n",
       " ('147', '6539', 5.3561325),\n",
       " ('147', '235', 5.3396726),\n",
       " ('147', '750', 5.2760715),\n",
       " ('147', '1210', 5.274749),\n",
       " ('147', '3253', 5.2587237),\n",
       " ('147', '1258', 5.2107763),\n",
       " ('147', '3471', 5.173434),\n",
       " ('147', '8874', 5.1554627),\n",
       " ('147', '4886', 5.1496243),\n",
       " ('147', '1517', 5.141863),\n",
       " ('152', '32587', 6.4312367),\n",
       " ('152', '2683', 6.396645),\n",
       " ('152', '597', 6.3100915),\n",
       " ('152', '2571', 6.2252765),\n",
       " ('152', '356', 6.2134733),\n",
       " ('152', '1682', 6.1858487),\n",
       " ('152', '736', 6.1722875),\n",
       " ('152', '45722', 6.150297),\n",
       " ('152', '595', 5.993709),\n",
       " ('152', '1265', 5.88105),\n",
       " ('152', '3793', 5.8765235),\n",
       " ('152', '2396', 5.8631077),\n",
       " ('152', '39183', 5.847853),\n",
       " ('152', '1', 5.8145),\n",
       " ('152', '586', 5.7978516),\n",
       " ('152', '33166', 5.784711),\n",
       " ('152', '46578', 5.7377334),\n",
       " ('152', '4022', 5.7286496),\n",
       " ('152', '539', 5.6834087),\n",
       " ('152', '48385', 5.61946),\n",
       " ('154', '1617', 5.7142453),\n",
       " ('154', '318', 5.6482415),\n",
       " ('154', '41285', 5.543323),\n",
       " ('154', '39292', 5.370745),\n",
       " ('154', '293', 5.31718),\n",
       " ('154', '2599', 5.297319),\n",
       " ('154', '8961', 5.2837014),\n",
       " ('154', '8949', 5.2756724),\n",
       " ('154', '593', 5.23184),\n",
       " ('154', '2997', 5.2235665),\n",
       " ('154', '1222', 5.2184515),\n",
       " ('154', '1500', 5.1940913),\n",
       " ('154', '33679', 5.145988),\n",
       " ('154', '7090', 5.136647),\n",
       " ('154', '7981', 5.1144733),\n",
       " ('154', '1625', 5.113028),\n",
       " ('154', '778', 5.102962),\n",
       " ('154', '46578', 5.0926847),\n",
       " ('154', '8376', 5.080589),\n",
       " ('154', '4848', 5.068366),\n",
       " ('155', '2959', 6.5844035),\n",
       " ('155', '4011', 6.5261464),\n",
       " ('155', '318', 6.430164),\n",
       " ('155', '3949', 6.310671),\n",
       " ('155', '2329', 6.2842336),\n",
       " ('155', '48780', 6.2127132),\n",
       " ('155', '541', 6.099594),\n",
       " ('155', '593', 5.9845095),\n",
       " ('155', '2997', 5.981176),\n",
       " ('155', '46578', 5.954887),\n",
       " ('155', '1270', 5.9355125),\n",
       " ('155', '44191', 5.9050403),\n",
       " ('155', '1136', 5.77949),\n",
       " ('155', '356', 5.7697577),\n",
       " ('155', '47', 5.758883),\n",
       " ('155', '2692', 5.754488),\n",
       " ('155', '1223', 5.623557),\n",
       " ('155', '778', 5.594429),\n",
       " ('155', '608', 5.5862913),\n",
       " ('155', '589', 5.57932),\n",
       " ('162', '5952', 5.862529),\n",
       " ('162', '34405', 5.713455),\n",
       " ('162', '6874', 5.605125),\n",
       " ('162', '79132', 5.3717513),\n",
       " ('162', '44191', 5.3504767),\n",
       " ('162', '2959', 5.3336415),\n",
       " ('162', '4011', 5.2995124),\n",
       " ('162', '32', 5.252372),\n",
       " ('162', '1291', 5.1818395),\n",
       " ('162', '1198', 5.173459),\n",
       " ('162', '7099', 5.1128144),\n",
       " ('162', '66934', 5.0964108),\n",
       " ('162', '7361', 5.0946603),\n",
       " ('162', '296', 5.0231857),\n",
       " ('162', '3030', 5.013974),\n",
       " ('162', '293', 5.0106797),\n",
       " ('162', '6539', 5.0088463),\n",
       " ('162', '32587', 4.9992857),\n",
       " ('162', '2010', 4.93267),\n",
       " ('162', '3000', 4.920599),\n",
       " ('163', '56367', 7.2246847),\n",
       " ('163', '2571', 6.7036633),\n",
       " ('163', '44191', 6.683178),\n",
       " ('163', '593', 6.6242356),\n",
       " ('163', '51662', 6.5937724),\n",
       " ('163', '296', 6.543665),\n",
       " ('163', '60069', 6.480698),\n",
       " ('163', '49272', 6.3238764),\n",
       " ('163', '3578', 6.24716),\n",
       " ('163', '48516', 6.19491),\n",
       " ('163', '48774', 6.1492763),\n",
       " ('163', '1704', 6.111882),\n",
       " ('163', '4878', 6.0618644),\n",
       " ('163', '55765', 5.959149),\n",
       " ('163', '50', 5.944158),\n",
       " ('163', '5989', 5.8830233),\n",
       " ('163', '2028', 5.7900305),\n",
       " ('163', '50872', 5.7569947),\n",
       " ('163', '5418', 5.632276),\n",
       " ('163', '44199', 5.6098003),\n",
       " ('168', '2997', 6.475347),\n",
       " ('168', '1199', 6.319175),\n",
       " ('168', '235', 6.1501575),\n",
       " ('168', '2076', 6.0520515),\n",
       " ('168', '6440', 5.8713713),\n",
       " ('168', '4973', 5.7677717),\n",
       " ('168', '3949', 5.7503595),\n",
       " ('168', '1', 5.6527367),\n",
       " ('168', '4027', 5.6493673),\n",
       " ('168', '923', 5.5546722),\n",
       " ('168', '293', 5.5368843),\n",
       " ('168', '50', 5.486818),\n",
       " ('168', '1884', 5.4667583),\n",
       " ('168', '2571', 5.4093785),\n",
       " ('168', '541', 5.3990765),\n",
       " ('168', '32587', 5.3500495),\n",
       " ('168', '1921', 5.262368),\n",
       " ('168', '1270', 5.235662),\n",
       " ('168', '4979', 5.234008),\n",
       " ('168', '318', 5.1893253),\n",
       " ('175', '527', 6.2198844),\n",
       " ('175', '590', 6.158937),\n",
       " ('175', '1270', 6.126418),\n",
       " ('175', '1198', 6.0507793),\n",
       " ('175', '3255', 6.014068),\n",
       " ('175', '1704', 5.980077),\n",
       " ('175', '524', 5.978502),\n",
       " ('175', '1207', 5.9632707),\n",
       " ('175', '500', 5.888239),\n",
       " ('175', '1197', 5.807906),\n",
       " ('175', '5989', 5.7717314),\n",
       " ('175', '4022', 5.7489953),\n",
       " ('175', '2268', 5.7329645),\n",
       " ('175', '1617', 5.7223783),\n",
       " ('175', '1097', 5.683121),\n",
       " ('175', '480', 5.643065),\n",
       " ('175', '780', 5.5914693),\n",
       " ('175', '377', 5.497605),\n",
       " ('175', '3578', 5.47343),\n",
       " ('175', '110', 5.4258385),\n",
       " ('182', '59315', 6.226286),\n",
       " ('182', '79695', 6.1056747),\n",
       " ('182', '77561', 5.9141965),\n",
       " ('182', '79132', 5.910973),\n",
       " ('182', '59369', 5.8865128),\n",
       " ('182', '82461', 5.8793316),\n",
       " ('182', '82744', 5.8515925),\n",
       " ('182', '91542', 5.6278634),\n",
       " ('182', '51662', 5.570675),\n",
       " ('182', '85414', 5.5659304),\n",
       " ('182', '89745', 5.5069757),\n",
       " ('182', '84152', 5.463797),\n",
       " ('182', '85020', 5.4432025),\n",
       " ('182', '81229', 5.3550286),\n",
       " ('182', '91630', 5.3545628),\n",
       " ('182', '86911', 5.320713),\n",
       " ('182', '91529', 5.2875085),\n",
       " ('182', '7502', 5.2841816),\n",
       " ('182', '73321', 5.2399845),\n",
       " ('182', '69122', 5.235761),\n",
       " ('189', '2571', 5.528786),\n",
       " ('189', '7153', 5.508863),\n",
       " ('189', '5952', 5.467354),\n",
       " ('189', '6502', 5.4600024),\n",
       " ('189', '2959', 5.433475),\n",
       " ('189', '7293', 5.412168),\n",
       " ('189', '595', 5.406467),\n",
       " ('189', '2706', 5.384083),\n",
       " ('189', '551', 5.3453116),\n",
       " ('189', '593', 5.2578564),\n",
       " ('189', '4718', 5.2144217),\n",
       " ('189', '1380', 5.2031584),\n",
       " ('189', '1527', 5.182327),\n",
       " ('189', '5816', 5.089965),\n",
       " ('189', '3052', 5.0723915),\n",
       " ('189', '4886', 5.0671935),\n",
       " ('189', '2124', 5.06222),\n",
       " ('189', '1029', 5.036822),\n",
       " ('189', '6377', 5.021341),\n",
       " ('189', '1580', 5.016942),\n",
       " ('190', '63082', 5.491042),\n",
       " ('190', '8638', 5.2666316),\n",
       " ('190', '4014', 5.171427),\n",
       " ('190', '7323', 5.1249475),\n",
       " ('190', '4011', 5.1083407),\n",
       " ('190', '8784', 5.079814),\n",
       " ('190', '215', 5.0705214),\n",
       " ('190', '4993', 5.018309),\n",
       " ('190', '7147', 4.997255),\n",
       " ('190', '7153', 4.951624),\n",
       " ('190', '4226', 4.9154263),\n",
       " ('190', '5418', 4.9086003),\n",
       " ('190', '54286', 4.904636),\n",
       " ('190', '296', 4.833822),\n",
       " ('190', '356', 4.824473),\n",
       " ('190', '5952', 4.8153825),\n",
       " ('190', '4246', 4.7589645),\n",
       " ('190', '5995', 4.7466526),\n",
       " ('190', '293', 4.6642995),\n",
       " ('190', '2997', 4.6397815),\n",
       " ('201', '307', 6.925014),\n",
       " ('201', '306', 6.847817),\n",
       " ('201', '1176', 6.5831804),\n",
       " ('201', '4973', 6.4593515),\n",
       " ('201', '308', 6.4128566),\n",
       " ('201', '27266', 6.301519),\n",
       " ('201', '1354', 6.2899647),\n",
       " ('201', '750', 6.0362844),\n",
       " ('201', '1232', 5.957067),\n",
       " ('201', '3328', 5.9391184),\n",
       " ('201', '48082', 5.8685117),\n",
       " ('201', '5878', 5.8431325),\n",
       " ('201', '6016', 5.8249636),\n",
       " ('201', '123', 5.79283),\n",
       " ('201', '4226', 5.737176),\n",
       " ('201', '32', 5.7119727),\n",
       " ('201', '97', 5.5615826),\n",
       " ('201', '3083', 5.5583167),\n",
       " ('201', '27834', 5.531402),\n",
       " ('201', '55820', 5.5202994),\n",
       " ('204', '2716', 6.8488865),\n",
       " ('204', '1270', 6.575654),\n",
       " ('204', '2987', 6.483962),\n",
       " ('204', '2571', 6.397999),\n",
       " ('204', '1527', 6.287847),\n",
       " ('204', '364', 6.2396),\n",
       " ('204', '6874', 6.2385654),\n",
       " ('204', '1265', 6.237978),\n",
       " ('204', '2140', 6.211639),\n",
       " ('204', '1967', 6.1375723),\n",
       " ('204', '2918', 6.1175723),\n",
       " ('204', '44191', 6.0591297),\n",
       " ('204', '1291', 6.032201),\n",
       " ('204', '318', 5.98001),\n",
       " ('204', '7438', 5.8974338),\n",
       " ('204', '1097', 5.860123),\n",
       " ('204', '2502', 5.7792234),\n",
       " ('204', '4993', 5.7149043),\n",
       " ('204', '58559', 5.6944933),\n",
       " ('204', '3396', 5.640138),\n",
       " ('205', '1617', 5.976637),\n",
       " ('205', '1704', 5.9676733),\n",
       " ('205', '3897', 5.892904),\n",
       " ('205', '3481', 5.83563),\n",
       " ('205', '318', 5.8244267),\n",
       " ('205', '2858', 5.7273145),\n",
       " ('205', '2762', 5.6549597),\n",
       " ('205', '593', 5.645028),\n",
       " ('205', '6874', 5.536656),\n",
       " ('205', '1196', 5.3922253),\n",
       " ('205', '4896', 5.2734704),\n",
       " ('205', '260', 5.265892),\n",
       " ('205', '2997', 5.247185),\n",
       " ('205', '4226', 5.2439394),\n",
       " ('205', '1210', 5.1931005),\n",
       " ('205', '7438', 5.1055202),\n",
       " ('205', '457', 5.0521054),\n",
       " ('205', '4973', 5.0302725),\n",
       " ('205', '648', 5.0257273),\n",
       " ('205', '4011', 5.008673),\n",
       " ('206', '33679', 6.7460637),\n",
       " ('206', '4025', 6.6906433),\n",
       " ('206', '6157', 6.182118),\n",
       " ('206', '3793', 6.1652727),\n",
       " ('206', '3825', 6.1566052),\n",
       " ('206', '3623', 6.0505137),\n",
       " ('206', '4992', 5.964553),\n",
       " ('206', '8916', 5.949875),\n",
       " ('206', '5957', 5.9443874),\n",
       " ('206', '6365', 5.9330482),\n",
       " ('206', '6593', 5.911922),\n",
       " ('206', '5387', 5.902385),\n",
       " ('206', '6155', 5.855118),\n",
       " ('206', '5418', 5.8413544),\n",
       " ('206', '32296', 5.8157053),\n",
       " ('206', '6539', 5.7443976),\n",
       " ('206', '4700', 5.737053),\n",
       " ('206', '8360', 5.642883),\n",
       " ('206', '4344', 5.603052),\n",
       " ('206', '31221', 5.593013),\n",
       " ('208', '7566', 3.971614),\n",
       " ('208', '55276', 3.7309923),\n",
       " ('208', '59118', 3.7244308),\n",
       " ('208', '34542', 3.7084756),\n",
       " ('208', '1244', 3.6264014),\n",
       " ('208', '6993', 3.6117294),\n",
       " ('208', '1966', 3.53986),\n",
       " ('208', '52973', 3.510568),\n",
       " ('208', '39183', 3.4978523),\n",
       " ('208', '60766', 3.4547224),\n",
       " ('208', '56333', 3.4056048),\n",
       " ('208', '86882', 3.4008825),\n",
       " ('208', '33794', 3.3843942),\n",
       " ('208', '8949', 3.3670437),\n",
       " ('208', '125', 3.3616033),\n",
       " ('208', '215', 3.340526),\n",
       " ('208', '2243', 3.2842796),\n",
       " ('208', '112290', 3.2832925),\n",
       " ('208', '79242', 3.2807052),\n",
       " ('208', '46976', 3.2728171),\n",
       " ('209', '33660', 5.953715),\n",
       " ('209', '524', 5.9393163),\n",
       " ('209', '216', 5.891404),\n",
       " ('209', '64614', 5.885672),\n",
       " ('209', '805', 5.862997),\n",
       " ('209', '63082', 5.83475),\n",
       " ('209', '80489', 5.7950697),\n",
       " ('209', '2694', 5.785327),\n",
       " ('209', '48516', 5.5491915),\n",
       " ('209', '79132', 5.5216393),\n",
       " ('209', '65188', 5.4904823),\n",
       " ('209', '80463', 5.368428),\n",
       " ('209', '3255', 5.3471704),\n",
       " ('209', '3916', 5.3321037),\n",
       " ('209', '30749', 5.284405),\n",
       " ('209', '2335', 5.24591),\n",
       " ('209', '68157', 5.1409974),\n",
       " ('209', '58559', 5.134489),\n",
       " ('209', '84392', 5.1034374),\n",
       " ('209', '81562', 5.0990615),\n",
       " ('211', '4963', 7.3903985),\n",
       " ('211', '110', 6.8190746),\n",
       " ('211', '1', 6.8099446),\n",
       " ('211', '1961', 6.358483),\n",
       " ('211', '480', 6.3501763),\n",
       " ('211', '588', 6.298942),\n",
       " ('211', '6874', 6.1906266),\n",
       " ('211', '3114', 6.162995),\n",
       " ('211', '595', 6.127033),\n",
       " ('211', '2683', 5.9645705),\n",
       " ('211', '1682', 5.9417634),\n",
       " ('211', '4022', 5.927493),\n",
       " ('211', '47', 5.9106627),\n",
       " ('211', '1240', 5.8965325),\n",
       " ('211', '344', 5.86911),\n",
       " ('211', '1917', 5.7144113),\n",
       " ('211', '5989', 5.6764307),\n",
       " ('211', '3147', 5.6480994),\n",
       " ('211', '260', 5.621643),\n",
       " ('211', '2706', 5.570732),\n",
       " ('213', '6377', 6.158774),\n",
       " ('213', '1704', 5.9373703),\n",
       " ('213', '1962', 5.771068),\n",
       " ('213', '4306', 5.6134653),\n",
       " ('213', '97921', 5.489385),\n",
       " ('213', '8961', 5.445085),\n",
       " ('213', '593', 5.4432673),\n",
       " ('213', '79132', 5.3630366),\n",
       " ('213', '919', 5.272305),\n",
       " ('213', '1', 5.1983666),\n",
       " ('213', '1197', 5.1869535),\n",
       " ('213', '4963', 5.127259),\n",
       " ('213', '58559', 5.125841),\n",
       " ('213', '4027', 5.1156034),\n",
       " ('213', '150', 5.0704246),\n",
       " ('213', '6539', 5.0650873),\n",
       " ('213', '72641', 5.062201),\n",
       " ('213', '608', 5.0403914),\n",
       " ('213', '8368', 5.033351),\n",
       " ('213', '1968', 5.0188336),\n",
       " ('215', '750', 5.090988),\n",
       " ('215', '68157', 5.000602),\n",
       " ('215', '48516', 4.7446117),\n",
       " ('215', '1222', 4.740001),\n",
       " ('215', '5673', 4.7101517),\n",
       " ('215', '593', 4.648439),\n",
       " ('215', '293', 4.6461186),\n",
       " ('215', '50', 4.6395206),\n",
       " ('215', '1197', 4.6230536),\n",
       " ('215', '35836', 4.6092167),\n",
       " ('215', '6502', 4.5381846),\n",
       " ('215', '94959', 4.527412),\n",
       " ('215', '4011', 4.5129886),\n",
       " ('215', '111', 4.499962),\n",
       " ('215', '69122', 4.486328),\n",
       " ('215', '99114', 4.433984),\n",
       " ('215', '318', 4.432391),\n",
       " ('215', '48774', 4.428371),\n",
       " ('215', '97921', 4.394746),\n",
       " ('215', '79132', 4.392414),\n",
       " ...]"
      ]
     },
     "execution_count": 5,
     "metadata": {},
     "output_type": "execute_result"
    }
   ],
   "source": [
    "# 결과를 저장할 빈 리스트 초기화\n",
    "final_result = []\n",
    "\n",
    "# user_list, pred_list, score_list에 있는 값들을 함께 저장\n",
    "for user, item, score in zip(user_list, pred_list, score_list):\n",
    "    # user_id2token을 사용하여 변환된 사용자 ID를 얻고\n",
    "    original_user_seq = user_id2token[user]\n",
    "\n",
    "    # item_id2token을 사용하여 변환된 아이템 ID를 얻고 \n",
    "    original_item_seq = item_id2token[item]\n",
    "\n",
    "    # 사용자 ID, 아이템 ID, 예측 점수를 튜플로 저장\n",
    "    final_result.append((original_user_seq, original_item_seq, score))\n",
    "\n",
    "final_result\n"
   ]
  },
  {
   "cell_type": "code",
   "execution_count": 6,
   "metadata": {},
   "outputs": [],
   "source": [
    "# 결과를 DataFrame으로 변환하고 CSV 파일로 저장\n",
    "final_dataframe = pd.DataFrame(final_result, columns=['user', 'item', 'score'])\n",
    "# final_dataframe.to_csv('./data/eval/recbole_ract_subinfo_1.csv', index=False)\n",
    "# 앙상블용 top 20로 저장\n",
    "final_dataframe.to_csv('./data/eval/score/score_ract_1.csv', index=False)\n",
    "# print('Final mapping done and saved to CSV!')"
   ]
  },
  {
   "cell_type": "code",
   "execution_count": 7,
   "metadata": {},
   "outputs": [
    {
     "data": {
      "text/html": [
       "<div>\n",
       "<style scoped>\n",
       "    .dataframe tbody tr th:only-of-type {\n",
       "        vertical-align: middle;\n",
       "    }\n",
       "\n",
       "    .dataframe tbody tr th {\n",
       "        vertical-align: top;\n",
       "    }\n",
       "\n",
       "    .dataframe thead th {\n",
       "        text-align: right;\n",
       "    }\n",
       "</style>\n",
       "<table border=\"1\" class=\"dataframe\">\n",
       "  <thead>\n",
       "    <tr style=\"text-align: right;\">\n",
       "      <th></th>\n",
       "      <th>user</th>\n",
       "      <th>item</th>\n",
       "      <th>score</th>\n",
       "    </tr>\n",
       "  </thead>\n",
       "  <tbody>\n",
       "    <tr>\n",
       "      <th>0</th>\n",
       "      <td>11</td>\n",
       "      <td>4370</td>\n",
       "      <td>5.154140</td>\n",
       "    </tr>\n",
       "    <tr>\n",
       "      <th>1</th>\n",
       "      <td>11</td>\n",
       "      <td>37386</td>\n",
       "      <td>4.681453</td>\n",
       "    </tr>\n",
       "    <tr>\n",
       "      <th>2</th>\n",
       "      <td>11</td>\n",
       "      <td>55232</td>\n",
       "      <td>4.584410</td>\n",
       "    </tr>\n",
       "    <tr>\n",
       "      <th>3</th>\n",
       "      <td>11</td>\n",
       "      <td>8961</td>\n",
       "      <td>4.565242</td>\n",
       "    </tr>\n",
       "    <tr>\n",
       "      <th>4</th>\n",
       "      <td>11</td>\n",
       "      <td>1517</td>\n",
       "      <td>4.379100</td>\n",
       "    </tr>\n",
       "    <tr>\n",
       "      <th>...</th>\n",
       "      <td>...</td>\n",
       "      <td>...</td>\n",
       "      <td>...</td>\n",
       "    </tr>\n",
       "    <tr>\n",
       "      <th>627195</th>\n",
       "      <td>138493</td>\n",
       "      <td>32</td>\n",
       "      <td>3.351887</td>\n",
       "    </tr>\n",
       "    <tr>\n",
       "      <th>627196</th>\n",
       "      <td>138493</td>\n",
       "      <td>1619</td>\n",
       "      <td>3.334370</td>\n",
       "    </tr>\n",
       "    <tr>\n",
       "      <th>627197</th>\n",
       "      <td>138493</td>\n",
       "      <td>2004</td>\n",
       "      <td>3.308694</td>\n",
       "    </tr>\n",
       "    <tr>\n",
       "      <th>627198</th>\n",
       "      <td>138493</td>\n",
       "      <td>589</td>\n",
       "      <td>3.304873</td>\n",
       "    </tr>\n",
       "    <tr>\n",
       "      <th>627199</th>\n",
       "      <td>138493</td>\n",
       "      <td>34437</td>\n",
       "      <td>3.288769</td>\n",
       "    </tr>\n",
       "  </tbody>\n",
       "</table>\n",
       "<p>627200 rows × 3 columns</p>\n",
       "</div>"
      ],
      "text/plain": [
       "          user   item     score\n",
       "0           11   4370  5.154140\n",
       "1           11  37386  4.681453\n",
       "2           11  55232  4.584410\n",
       "3           11   8961  4.565242\n",
       "4           11   1517  4.379100\n",
       "...        ...    ...       ...\n",
       "627195  138493     32  3.351887\n",
       "627196  138493   1619  3.334370\n",
       "627197  138493   2004  3.308694\n",
       "627198  138493    589  3.304873\n",
       "627199  138493  34437  3.288769\n",
       "\n",
       "[627200 rows x 3 columns]"
      ]
     },
     "execution_count": 7,
     "metadata": {},
     "output_type": "execute_result"
    }
   ],
   "source": [
    "final_dataframe"
   ]
  }
 ],
 "metadata": {
  "kernelspec": {
   "display_name": "base",
   "language": "python",
   "name": "python3"
  },
  "language_info": {
   "codemirror_mode": {
    "name": "ipython",
    "version": 3
   },
   "file_extension": ".py",
   "mimetype": "text/x-python",
   "name": "python",
   "nbconvert_exporter": "python",
   "pygments_lexer": "ipython3",
   "version": "3.9.20"
  }
 },
 "nbformat": 4,
 "nbformat_minor": 2
}
