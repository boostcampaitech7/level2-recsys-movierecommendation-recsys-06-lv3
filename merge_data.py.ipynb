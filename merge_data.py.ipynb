{
 "cells": [
  {
   "cell_type": "code",
   "id": "initial_id",
   "metadata": {
    "collapsed": true,
    "ExecuteTime": {
     "end_time": "2024-11-18T08:49:55.131347Z",
     "start_time": "2024-11-18T08:49:55.125344Z"
    }
   },
   "source": [
    "import pandas as pd\n",
    "\n",
    "from src.preprocess.merge_data import merge_user_items_attributes\n",
    "\n",
    "DATA_PATH = \"C:/Users/xenx9/Desktop/Development/level2-recsys-movierecommendation-recsys-06-lv3/data/train\"\n"
   ],
   "outputs": [],
   "execution_count": 155
  },
  {
   "metadata": {
    "ExecuteTime": {
     "end_time": "2024-11-18T08:50:22.091788Z",
     "start_time": "2024-11-18T08:49:55.183393Z"
    }
   },
   "cell_type": "code",
   "source": "df = merge_user_items_attributes(DATA_PATH)",
   "id": "4020446327da526f",
   "outputs": [],
   "execution_count": 156
  },
  {
   "metadata": {
    "ExecuteTime": {
     "end_time": "2024-11-18T08:50:22.708420Z",
     "start_time": "2024-11-18T08:50:22.123929Z"
    }
   },
   "cell_type": "code",
   "source": [
    "df.info()\n",
    "df.isnull().sum()"
   ],
   "id": "15ae28ffa84cc3c1",
   "outputs": [
    {
     "name": "stdout",
     "output_type": "stream",
     "text": [
      "<class 'pandas.core.frame.DataFrame'>\n",
      "RangeIndex: 5154471 entries, 0 to 5154470\n",
      "Data columns (total 8 columns):\n",
      " #   Column    Dtype  \n",
      "---  ------    -----  \n",
      " 0   user      int64  \n",
      " 1   item      int64  \n",
      " 2   time      int64  \n",
      " 3   title     object \n",
      " 4   year      float64\n",
      " 5   genre     object \n",
      " 6   director  object \n",
      " 7   writer    object \n",
      "dtypes: float64(1), int64(3), object(4)\n",
      "memory usage: 314.6+ MB\n"
     ]
    },
    {
     "data": {
      "text/plain": [
       "user        0\n",
       "item        0\n",
       "time        0\n",
       "title       0\n",
       "year        0\n",
       "genre       0\n",
       "director    0\n",
       "writer      0\n",
       "dtype: int64"
      ]
     },
     "execution_count": 157,
     "metadata": {},
     "output_type": "execute_result"
    }
   ],
   "execution_count": 157
  },
  {
   "metadata": {
    "ExecuteTime": {
     "end_time": "2024-11-18T08:50:22.798678Z",
     "start_time": "2024-11-18T08:50:22.771676Z"
    }
   },
   "cell_type": "code",
   "source": "df",
   "id": "815cf2f458511159",
   "outputs": [
    {
     "data": {
      "text/plain": [
       "           user   item        time                                      title  \\\n",
       "0            11   4643  1230782529                  Planet of the Apes (2001)   \n",
       "1            11    170  1230782534                             Hackers (1995)   \n",
       "2            11    531  1230782539                  Secret Garden, The (1993)   \n",
       "3            11    616  1230782542                     Aristocats, The (1970)   \n",
       "4            11   2140  1230782563                   Dark Crystal, The (1982)   \n",
       "...         ...    ...         ...                                        ...   \n",
       "5154466  138493  44022  1260209449             Ice Age 2: The Meltdown (2006)   \n",
       "5154467  138493   4958  1260209482                  Behind Enemy Lines (2001)   \n",
       "5154468  138493  68319  1260209720            X-Men Origins: Wolverine (2009)   \n",
       "5154469  138493  40819  1260209726                       Walk the Line (2005)   \n",
       "5154470  138493  27311  1260209807  Batman Beyond: Return of the Joker (2000)   \n",
       "\n",
       "           year                                         genre     director  \\\n",
       "0        2001.0            [Action, Adventure, Drama, Sci-Fi]        [318]   \n",
       "1        1995.0          [Action, Adventure, Crime, Thriller]     [812200]   \n",
       "2        1993.0                             [Children, Drama]       [2140]   \n",
       "3        1970.0                         [Animation, Children]     [718627]   \n",
       "4        1982.0                          [Adventure, Fantasy]  [568, 1345]   \n",
       "...         ...                                           ...          ...   \n",
       "5154466  2006.0      [Adventure, Animation, Children, Comedy]     [757858]   \n",
       "5154467  2001.0                          [Action, Drama, War]     [601382]   \n",
       "5154468  2009.0                    [Action, Sci-Fi, Thriller]       [4303]   \n",
       "5154469  2005.0                     [Drama, Musical, Romance]       [3506]   \n",
       "5154470  2000.0  [Action, Animation, Crime, Sci-Fi, Thriller]       [-999]   \n",
       "\n",
       "                                                    writer  \n",
       "0                          [99541, 115310, 465199, 742797]  \n",
       "1                                                   [-999]  \n",
       "2                                           [3031, 122364]  \n",
       "3        [27011, 166307, 166551, 314788, 841035, 858826...  \n",
       "4                                           [1345, 643973]  \n",
       "...                                                    ...  \n",
       "5154466                          [310087, 841532, 5022110]  \n",
       "5154467                   [672015, 859029, 859049, 892705]  \n",
       "5154468                                  [940790, 1125275]  \n",
       "5154469                                     [3506, 219456]  \n",
       "5154470                                     [4170, 227704]  \n",
       "\n",
       "[5154471 rows x 8 columns]"
      ],
      "text/html": [
       "<div>\n",
       "<style scoped>\n",
       "    .dataframe tbody tr th:only-of-type {\n",
       "        vertical-align: middle;\n",
       "    }\n",
       "\n",
       "    .dataframe tbody tr th {\n",
       "        vertical-align: top;\n",
       "    }\n",
       "\n",
       "    .dataframe thead th {\n",
       "        text-align: right;\n",
       "    }\n",
       "</style>\n",
       "<table border=\"1\" class=\"dataframe\">\n",
       "  <thead>\n",
       "    <tr style=\"text-align: right;\">\n",
       "      <th></th>\n",
       "      <th>user</th>\n",
       "      <th>item</th>\n",
       "      <th>time</th>\n",
       "      <th>title</th>\n",
       "      <th>year</th>\n",
       "      <th>genre</th>\n",
       "      <th>director</th>\n",
       "      <th>writer</th>\n",
       "    </tr>\n",
       "  </thead>\n",
       "  <tbody>\n",
       "    <tr>\n",
       "      <th>0</th>\n",
       "      <td>11</td>\n",
       "      <td>4643</td>\n",
       "      <td>1230782529</td>\n",
       "      <td>Planet of the Apes (2001)</td>\n",
       "      <td>2001.0</td>\n",
       "      <td>[Action, Adventure, Drama, Sci-Fi]</td>\n",
       "      <td>[318]</td>\n",
       "      <td>[99541, 115310, 465199, 742797]</td>\n",
       "    </tr>\n",
       "    <tr>\n",
       "      <th>1</th>\n",
       "      <td>11</td>\n",
       "      <td>170</td>\n",
       "      <td>1230782534</td>\n",
       "      <td>Hackers (1995)</td>\n",
       "      <td>1995.0</td>\n",
       "      <td>[Action, Adventure, Crime, Thriller]</td>\n",
       "      <td>[812200]</td>\n",
       "      <td>[-999]</td>\n",
       "    </tr>\n",
       "    <tr>\n",
       "      <th>2</th>\n",
       "      <td>11</td>\n",
       "      <td>531</td>\n",
       "      <td>1230782539</td>\n",
       "      <td>Secret Garden, The (1993)</td>\n",
       "      <td>1993.0</td>\n",
       "      <td>[Children, Drama]</td>\n",
       "      <td>[2140]</td>\n",
       "      <td>[3031, 122364]</td>\n",
       "    </tr>\n",
       "    <tr>\n",
       "      <th>3</th>\n",
       "      <td>11</td>\n",
       "      <td>616</td>\n",
       "      <td>1230782542</td>\n",
       "      <td>Aristocats, The (1970)</td>\n",
       "      <td>1970.0</td>\n",
       "      <td>[Animation, Children]</td>\n",
       "      <td>[718627]</td>\n",
       "      <td>[27011, 166307, 166551, 314788, 841035, 858826...</td>\n",
       "    </tr>\n",
       "    <tr>\n",
       "      <th>4</th>\n",
       "      <td>11</td>\n",
       "      <td>2140</td>\n",
       "      <td>1230782563</td>\n",
       "      <td>Dark Crystal, The (1982)</td>\n",
       "      <td>1982.0</td>\n",
       "      <td>[Adventure, Fantasy]</td>\n",
       "      <td>[568, 1345]</td>\n",
       "      <td>[1345, 643973]</td>\n",
       "    </tr>\n",
       "    <tr>\n",
       "      <th>...</th>\n",
       "      <td>...</td>\n",
       "      <td>...</td>\n",
       "      <td>...</td>\n",
       "      <td>...</td>\n",
       "      <td>...</td>\n",
       "      <td>...</td>\n",
       "      <td>...</td>\n",
       "      <td>...</td>\n",
       "    </tr>\n",
       "    <tr>\n",
       "      <th>5154466</th>\n",
       "      <td>138493</td>\n",
       "      <td>44022</td>\n",
       "      <td>1260209449</td>\n",
       "      <td>Ice Age 2: The Meltdown (2006)</td>\n",
       "      <td>2006.0</td>\n",
       "      <td>[Adventure, Animation, Children, Comedy]</td>\n",
       "      <td>[757858]</td>\n",
       "      <td>[310087, 841532, 5022110]</td>\n",
       "    </tr>\n",
       "    <tr>\n",
       "      <th>5154467</th>\n",
       "      <td>138493</td>\n",
       "      <td>4958</td>\n",
       "      <td>1260209482</td>\n",
       "      <td>Behind Enemy Lines (2001)</td>\n",
       "      <td>2001.0</td>\n",
       "      <td>[Action, Drama, War]</td>\n",
       "      <td>[601382]</td>\n",
       "      <td>[672015, 859029, 859049, 892705]</td>\n",
       "    </tr>\n",
       "    <tr>\n",
       "      <th>5154468</th>\n",
       "      <td>138493</td>\n",
       "      <td>68319</td>\n",
       "      <td>1260209720</td>\n",
       "      <td>X-Men Origins: Wolverine (2009)</td>\n",
       "      <td>2009.0</td>\n",
       "      <td>[Action, Sci-Fi, Thriller]</td>\n",
       "      <td>[4303]</td>\n",
       "      <td>[940790, 1125275]</td>\n",
       "    </tr>\n",
       "    <tr>\n",
       "      <th>5154469</th>\n",
       "      <td>138493</td>\n",
       "      <td>40819</td>\n",
       "      <td>1260209726</td>\n",
       "      <td>Walk the Line (2005)</td>\n",
       "      <td>2005.0</td>\n",
       "      <td>[Drama, Musical, Romance]</td>\n",
       "      <td>[3506]</td>\n",
       "      <td>[3506, 219456]</td>\n",
       "    </tr>\n",
       "    <tr>\n",
       "      <th>5154470</th>\n",
       "      <td>138493</td>\n",
       "      <td>27311</td>\n",
       "      <td>1260209807</td>\n",
       "      <td>Batman Beyond: Return of the Joker (2000)</td>\n",
       "      <td>2000.0</td>\n",
       "      <td>[Action, Animation, Crime, Sci-Fi, Thriller]</td>\n",
       "      <td>[-999]</td>\n",
       "      <td>[4170, 227704]</td>\n",
       "    </tr>\n",
       "  </tbody>\n",
       "</table>\n",
       "<p>5154471 rows × 8 columns</p>\n",
       "</div>"
      ]
     },
     "execution_count": 158,
     "metadata": {},
     "output_type": "execute_result"
    }
   ],
   "execution_count": 158
  },
  {
   "metadata": {
    "ExecuteTime": {
     "end_time": "2024-11-18T08:50:25.778069Z",
     "start_time": "2024-11-18T08:50:25.765073Z"
    }
   },
   "cell_type": "code",
   "source": "",
   "id": "50b051c30718ce8c",
   "outputs": [],
   "execution_count": null
  }
 ],
 "metadata": {
  "kernelspec": {
   "display_name": "Python 3",
   "language": "python",
   "name": "python3"
  },
  "language_info": {
   "codemirror_mode": {
    "name": "ipython",
    "version": 2
   },
   "file_extension": ".py",
   "mimetype": "text/x-python",
   "name": "python",
   "nbconvert_exporter": "python",
   "pygments_lexer": "ipython2",
   "version": "2.7.6"
  }
 },
 "nbformat": 4,
 "nbformat_minor": 5
}
